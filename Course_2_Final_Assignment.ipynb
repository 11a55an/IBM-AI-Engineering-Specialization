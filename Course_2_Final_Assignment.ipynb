{
 "cells": [
  {
   "cell_type": "markdown",
   "metadata": {},
   "source": [
    "# Import Libraries"
   ]
  },
  {
   "cell_type": "code",
   "execution_count": 2,
   "metadata": {},
   "outputs": [],
   "source": [
    "import tensorflow as tf\n",
    "import pandas as pd"
   ]
  },
  {
   "cell_type": "markdown",
   "metadata": {},
   "source": [
    "### Import Data"
   ]
  },
  {
   "cell_type": "code",
   "execution_count": 3,
   "metadata": {},
   "outputs": [
    {
     "data": {
      "text/html": [
       "<div>\n",
       "<style scoped>\n",
       "    .dataframe tbody tr th:only-of-type {\n",
       "        vertical-align: middle;\n",
       "    }\n",
       "\n",
       "    .dataframe tbody tr th {\n",
       "        vertical-align: top;\n",
       "    }\n",
       "\n",
       "    .dataframe thead th {\n",
       "        text-align: right;\n",
       "    }\n",
       "</style>\n",
       "<table border=\"1\" class=\"dataframe\">\n",
       "  <thead>\n",
       "    <tr style=\"text-align: right;\">\n",
       "      <th></th>\n",
       "      <th>Cement</th>\n",
       "      <th>Blast Furnace Slag</th>\n",
       "      <th>Fly Ash</th>\n",
       "      <th>Water</th>\n",
       "      <th>Superplasticizer</th>\n",
       "      <th>Coarse Aggregate</th>\n",
       "      <th>Fine Aggregate</th>\n",
       "      <th>Age</th>\n",
       "      <th>Strength</th>\n",
       "    </tr>\n",
       "  </thead>\n",
       "  <tbody>\n",
       "    <tr>\n",
       "      <th>0</th>\n",
       "      <td>540.0</td>\n",
       "      <td>0.0</td>\n",
       "      <td>0.0</td>\n",
       "      <td>162.0</td>\n",
       "      <td>2.5</td>\n",
       "      <td>1040.0</td>\n",
       "      <td>676.0</td>\n",
       "      <td>28</td>\n",
       "      <td>79.99</td>\n",
       "    </tr>\n",
       "    <tr>\n",
       "      <th>1</th>\n",
       "      <td>540.0</td>\n",
       "      <td>0.0</td>\n",
       "      <td>0.0</td>\n",
       "      <td>162.0</td>\n",
       "      <td>2.5</td>\n",
       "      <td>1055.0</td>\n",
       "      <td>676.0</td>\n",
       "      <td>28</td>\n",
       "      <td>61.89</td>\n",
       "    </tr>\n",
       "  </tbody>\n",
       "</table>\n",
       "</div>"
      ],
      "text/plain": [
       "   Cement  Blast Furnace Slag  Fly Ash  Water  Superplasticizer  \\\n",
       "0   540.0                 0.0      0.0  162.0               2.5   \n",
       "1   540.0                 0.0      0.0  162.0               2.5   \n",
       "\n",
       "   Coarse Aggregate  Fine Aggregate  Age  Strength  \n",
       "0            1040.0           676.0   28     79.99  \n",
       "1            1055.0           676.0   28     61.89  "
      ]
     },
     "execution_count": 3,
     "metadata": {},
     "output_type": "execute_result"
    }
   ],
   "source": [
    "df = pd.read_csv(\"https://cocl.us/concrete_data\")\n",
    "df.head(2)"
   ]
  },
  {
   "cell_type": "markdown",
   "metadata": {},
   "source": [
    "# Part A "
   ]
  },
  {
   "cell_type": "markdown",
   "metadata": {},
   "source": [
    "### Split the data in train and test"
   ]
  },
  {
   "cell_type": "code",
   "execution_count": 20,
   "metadata": {},
   "outputs": [
    {
     "data": {
      "text/plain": [
       "((721, 8), (309, 8), (721,), (309,))"
      ]
     },
     "execution_count": 20,
     "metadata": {},
     "output_type": "execute_result"
    }
   ],
   "source": [
    "from sklearn.model_selection import train_test_split\n",
    "X_train, X_test, y_train, y_test = train_test_split(X, y, test_size=0.3)\n",
    "\n",
    "X_train.shape, X_test.shape, y_train.shape, y_test.shape"
   ]
  },
  {
   "cell_type": "markdown",
   "metadata": {},
   "source": [
    "### Create the model"
   ]
  },
  {
   "cell_type": "code",
   "execution_count": 7,
   "metadata": {},
   "outputs": [],
   "source": [
    "import tensorflow.keras as keras"
   ]
  },
  {
   "cell_type": "code",
   "execution_count": 8,
   "metadata": {},
   "outputs": [],
   "source": [
    "def build_model():\n",
    "    model = keras.models.Sequential()\n",
    "    model.add(keras.layers.Dense(10, activation=\"relu\", input_shape=(X.shape[1],)))\n",
    "    model.add(keras.layers.Dense(1))\n",
    "    \n",
    "    model.compile(optimizer=\"adam\", loss=\"mean_squared_error\")\n",
    "    return model"
   ]
  },
  {
   "cell_type": "code",
   "execution_count": 9,
   "metadata": {},
   "outputs": [
    {
     "name": "stdout",
     "output_type": "stream",
     "text": [
      "Epoch 1/50\n",
      "23/23 [==============================] - 1s 2ms/step - loss: 219555.9531\n",
      "Epoch 2/50\n",
      "23/23 [==============================] - 0s 2ms/step - loss: 102054.0938\n",
      "Epoch 3/50\n",
      "23/23 [==============================] - 0s 2ms/step - loss: 39985.1992\n",
      "Epoch 4/50\n",
      "23/23 [==============================] - 0s 2ms/step - loss: 13964.2080\n",
      "Epoch 5/50\n",
      "23/23 [==============================] - 0s 2ms/step - loss: 5549.1680\n",
      "Epoch 6/50\n",
      "23/23 [==============================] - 0s 2ms/step - loss: 3622.1892\n",
      "Epoch 7/50\n",
      "23/23 [==============================] - 0s 2ms/step - loss: 3250.4746\n",
      "Epoch 8/50\n",
      "23/23 [==============================] - 0s 2ms/step - loss: 3092.8137\n",
      "Epoch 9/50\n",
      "23/23 [==============================] - 0s 2ms/step - loss: 2940.5669\n",
      "Epoch 10/50\n",
      "23/23 [==============================] - 0s 2ms/step - loss: 2796.5283\n",
      "Epoch 11/50\n",
      "23/23 [==============================] - 0s 2ms/step - loss: 2649.2964\n",
      "Epoch 12/50\n",
      "23/23 [==============================] - 0s 2ms/step - loss: 2503.7070\n",
      "Epoch 13/50\n",
      "23/23 [==============================] - 0s 2ms/step - loss: 2361.6890\n",
      "Epoch 14/50\n",
      "23/23 [==============================] - 0s 2ms/step - loss: 2227.9131\n",
      "Epoch 15/50\n",
      "23/23 [==============================] - 0s 2ms/step - loss: 2097.6667\n",
      "Epoch 16/50\n",
      "23/23 [==============================] - 0s 2ms/step - loss: 1970.0132\n",
      "Epoch 17/50\n",
      "23/23 [==============================] - 0s 2ms/step - loss: 1852.4419\n",
      "Epoch 18/50\n",
      "23/23 [==============================] - 0s 3ms/step - loss: 1741.0139\n",
      "Epoch 19/50\n",
      "23/23 [==============================] - 0s 2ms/step - loss: 1632.5941\n",
      "Epoch 20/50\n",
      "23/23 [==============================] - 0s 2ms/step - loss: 1533.5983\n",
      "Epoch 21/50\n",
      "23/23 [==============================] - 0s 2ms/step - loss: 1441.2803\n",
      "Epoch 22/50\n",
      "23/23 [==============================] - 0s 2ms/step - loss: 1354.1807\n",
      "Epoch 23/50\n",
      "23/23 [==============================] - 0s 2ms/step - loss: 1271.6649\n",
      "Epoch 24/50\n",
      "23/23 [==============================] - 0s 2ms/step - loss: 1198.2156\n",
      "Epoch 25/50\n",
      "23/23 [==============================] - 0s 2ms/step - loss: 1125.8860\n",
      "Epoch 26/50\n",
      "23/23 [==============================] - 0s 2ms/step - loss: 1059.8040\n",
      "Epoch 27/50\n",
      "23/23 [==============================] - 0s 2ms/step - loss: 1000.0928\n",
      "Epoch 28/50\n",
      "23/23 [==============================] - 0s 2ms/step - loss: 942.1978\n",
      "Epoch 29/50\n",
      "23/23 [==============================] - 0s 2ms/step - loss: 888.5529\n",
      "Epoch 30/50\n",
      "23/23 [==============================] - 0s 2ms/step - loss: 839.1403\n",
      "Epoch 31/50\n",
      "23/23 [==============================] - 0s 3ms/step - loss: 794.4235\n",
      "Epoch 32/50\n",
      "23/23 [==============================] - 0s 3ms/step - loss: 751.6310\n",
      "Epoch 33/50\n",
      "23/23 [==============================] - 0s 3ms/step - loss: 712.4630\n",
      "Epoch 34/50\n",
      "23/23 [==============================] - 0s 4ms/step - loss: 676.1521\n",
      "Epoch 35/50\n",
      "23/23 [==============================] - 0s 3ms/step - loss: 640.4281\n",
      "Epoch 36/50\n",
      "23/23 [==============================] - 0s 3ms/step - loss: 609.9233\n",
      "Epoch 37/50\n",
      "23/23 [==============================] - 0s 2ms/step - loss: 581.4684\n",
      "Epoch 38/50\n",
      "23/23 [==============================] - 0s 2ms/step - loss: 555.6605\n",
      "Epoch 39/50\n",
      "23/23 [==============================] - 0s 3ms/step - loss: 531.3649\n",
      "Epoch 40/50\n",
      "23/23 [==============================] - 0s 3ms/step - loss: 509.2018\n",
      "Epoch 41/50\n",
      "23/23 [==============================] - 0s 3ms/step - loss: 489.4205\n",
      "Epoch 42/50\n",
      "23/23 [==============================] - 0s 3ms/step - loss: 471.9529\n",
      "Epoch 43/50\n",
      "23/23 [==============================] - 0s 3ms/step - loss: 455.5122\n",
      "Epoch 44/50\n",
      "23/23 [==============================] - 0s 2ms/step - loss: 440.5891\n",
      "Epoch 45/50\n",
      "23/23 [==============================] - 0s 2ms/step - loss: 425.0274\n",
      "Epoch 46/50\n",
      "23/23 [==============================] - 0s 2ms/step - loss: 409.8638\n",
      "Epoch 47/50\n",
      "23/23 [==============================] - 0s 3ms/step - loss: 397.1143\n",
      "Epoch 48/50\n",
      "23/23 [==============================] - 0s 3ms/step - loss: 385.6082\n",
      "Epoch 49/50\n",
      "23/23 [==============================] - 0s 3ms/step - loss: 374.9730\n",
      "Epoch 50/50\n",
      "23/23 [==============================] - 0s 3ms/step - loss: 364.8379\n"
     ]
    },
    {
     "data": {
      "text/plain": [
       "<keras.callbacks.History at 0x1fc993613f0>"
      ]
     },
     "execution_count": 9,
     "metadata": {},
     "output_type": "execute_result"
    }
   ],
   "source": [
    "model = build_model()\n",
    "\n",
    "model.fit(X_train, y_train, epochs=50, verbose=1)"
   ]
  },
  {
   "cell_type": "markdown",
   "metadata": {},
   "source": [
    "### Calculating Mean Squared Error"
   ]
  },
  {
   "cell_type": "code",
   "execution_count": 10,
   "metadata": {},
   "outputs": [
    {
     "name": "stdout",
     "output_type": "stream",
     "text": [
      "10/10 [==============================] - 0s 2ms/step\n",
      "Test MSE: 401.210626918882\n"
     ]
    }
   ],
   "source": [
    "from sklearn.metrics import mean_squared_error\n",
    "\n",
    "predicted_y = model.predict(X_test)\n",
    "mse = mean_squared_error(y_test, predicted_y)\n",
    "print(f\"Test MSE: {mse}\")"
   ]
  },
  {
   "cell_type": "code",
   "execution_count": 13,
   "metadata": {},
   "outputs": [],
   "source": [
    "def do_fifty_times():\n",
    "    n=50\n",
    "    mse_list = []\n",
    "    for index in range(n):\n",
    "        # split data\n",
    "        X_train, X_test, y_train, y_test = train_test_split(X, y, test_size=0.3)\n",
    "        \n",
    "        # build model\n",
    "        model = build_model()\n",
    "        \n",
    "        # train model\n",
    "        model.fit(X_train, y_train, epochs=50, verbose=0)\n",
    "        \n",
    "        # predict test set\n",
    "        predicted_y = model.predict(X_test)\n",
    "        \n",
    "        # get MSE for the model\n",
    "        mse = mean_squared_error(y_test, predicted_y)\n",
    "        print(f\"MSE {index}: {mse}\")\n",
    "        \n",
    "        # append to list\n",
    "        mse_list.append(mse)\n",
    "    return mse_list"
   ]
  },
  {
   "cell_type": "code",
   "execution_count": 14,
   "metadata": {},
   "outputs": [
    {
     "name": "stdout",
     "output_type": "stream",
     "text": [
      "10/10 [==============================] - 0s 2ms/step\n",
      "MSE 0: 336.9535494107098\n",
      "10/10 [==============================] - 0s 2ms/step\n",
      "MSE 1: 104.54002299276166\n",
      "10/10 [==============================] - 0s 2ms/step\n",
      "MSE 2: 213.17574254112256\n",
      "10/10 [==============================] - 0s 2ms/step\n",
      "MSE 3: 471.4136880042834\n",
      "10/10 [==============================] - 0s 2ms/step\n",
      "MSE 4: 119.97814989392786\n",
      "10/10 [==============================] - 0s 2ms/step\n",
      "MSE 5: 140.71852562786304\n",
      "10/10 [==============================] - 0s 2ms/step\n",
      "MSE 6: 194.67328482940866\n",
      "10/10 [==============================] - 0s 2ms/step\n",
      "MSE 7: 151.56492390887544\n",
      "10/10 [==============================] - 0s 2ms/step\n",
      "MSE 8: 109.45796481353014\n",
      "10/10 [==============================] - 0s 2ms/step\n",
      "MSE 9: 180.53164620221273\n",
      "10/10 [==============================] - 0s 2ms/step\n",
      "MSE 10: 667.2925047519243\n",
      "10/10 [==============================] - 0s 2ms/step\n",
      "MSE 11: 175.2940958259637\n",
      "10/10 [==============================] - 0s 2ms/step\n",
      "MSE 12: 183.1907862964356\n",
      "10/10 [==============================] - 0s 2ms/step\n",
      "MSE 13: 141.27932480855267\n",
      "10/10 [==============================] - 0s 2ms/step\n",
      "MSE 14: 224.65795391397438\n",
      "10/10 [==============================] - 0s 2ms/step\n",
      "MSE 15: 121.06755196722862\n",
      "10/10 [==============================] - 0s 2ms/step\n",
      "MSE 16: 193.24711394712068\n",
      "10/10 [==============================] - 0s 2ms/step\n",
      "MSE 17: 127.40207359094653\n",
      "10/10 [==============================] - 0s 2ms/step\n",
      "MSE 18: 98.8482304341541\n",
      "10/10 [==============================] - 0s 2ms/step\n",
      "MSE 19: 209.80503495827375\n",
      "10/10 [==============================] - 0s 2ms/step\n",
      "MSE 20: 1441.1685380186036\n",
      "10/10 [==============================] - 0s 2ms/step\n",
      "MSE 21: 851.0879196583227\n",
      "10/10 [==============================] - 0s 2ms/step\n",
      "MSE 22: 808.1415995028515\n",
      "10/10 [==============================] - 0s 1ms/step\n",
      "MSE 23: 631.1425893912738\n",
      "10/10 [==============================] - 0s 1ms/step\n",
      "MSE 24: 198.4906247542279\n",
      "10/10 [==============================] - 0s 2ms/step\n",
      "MSE 25: 325.1321377663723\n",
      "10/10 [==============================] - 0s 2ms/step\n",
      "MSE 26: 141.56469889276065\n",
      "10/10 [==============================] - 0s 1ms/step\n",
      "MSE 27: 98.79696545095351\n",
      "10/10 [==============================] - 0s 2ms/step\n",
      "MSE 28: 168.41815953470868\n",
      "10/10 [==============================] - 0s 2ms/step\n",
      "MSE 29: 481.6715026581954\n",
      "10/10 [==============================] - 0s 2ms/step\n",
      "MSE 30: 161.7938837164027\n",
      "10/10 [==============================] - 0s 3ms/step\n",
      "MSE 31: 89.55182283464666\n",
      "10/10 [==============================] - 0s 2ms/step\n",
      "MSE 32: 163.34694933832515\n",
      "10/10 [==============================] - 0s 1ms/step\n",
      "MSE 33: 142.89919976148556\n",
      "10/10 [==============================] - 0s 2ms/step\n",
      "MSE 34: 84.4050552190186\n",
      "10/10 [==============================] - 0s 2ms/step\n",
      "MSE 35: 129.8530840685443\n",
      "10/10 [==============================] - 0s 1ms/step\n",
      "MSE 36: 149.91429419640366\n",
      "10/10 [==============================] - 0s 2ms/step\n",
      "MSE 37: 209.3208604234937\n",
      "10/10 [==============================] - 0s 2ms/step\n",
      "MSE 38: 106.85838265823632\n",
      "10/10 [==============================] - 0s 2ms/step\n",
      "MSE 39: 120.93683768716043\n",
      "10/10 [==============================] - 0s 2ms/step\n",
      "MSE 40: 243.0933944101148\n",
      "10/10 [==============================] - 0s 1ms/step\n",
      "MSE 41: 131.73641775652322\n",
      "10/10 [==============================] - 0s 2ms/step\n",
      "MSE 42: 253.98852823432514\n",
      "10/10 [==============================] - 0s 2ms/step\n",
      "MSE 43: 182.18636998511218\n",
      "10/10 [==============================] - 0s 2ms/step\n",
      "MSE 44: 128.07293384613118\n",
      "10/10 [==============================] - 0s 2ms/step\n",
      "MSE 45: 431.81705085050544\n",
      "10/10 [==============================] - 0s 2ms/step\n",
      "MSE 46: 182.2964990816173\n",
      "10/10 [==============================] - 0s 1ms/step\n",
      "MSE 47: 103.65246799859321\n",
      "10/10 [==============================] - 0s 2ms/step\n",
      "MSE 48: 110.87382626688475\n",
      "10/10 [==============================] - 0s 2ms/step\n",
      "MSE 49: 138.65803613278675\n"
     ]
    }
   ],
   "source": [
    "mse_list = do_fifty_times()"
   ]
  },
  {
   "cell_type": "markdown",
   "metadata": {},
   "source": [
    "### Average and Standard Deviation of MSE"
   ]
  },
  {
   "cell_type": "code",
   "execution_count": 15,
   "metadata": {},
   "outputs": [
    {
     "name": "stdout",
     "output_type": "stream",
     "text": [
      "Average of MSEs: 251.51925597627698\n",
      "Standard Deviation MSEs: 245.3108361210546\n"
     ]
    }
   ],
   "source": [
    "import numpy as np\n",
    "print(f\"Average of MSEs: {np.mean(mse_list)}\")\n",
    "print(f\"Standard Deviation MSEs: {np.std(mse_list)}\")\n"
   ]
  },
  {
   "cell_type": "markdown",
   "metadata": {},
   "source": [
    "# Part B"
   ]
  },
  {
   "cell_type": "markdown",
   "metadata": {},
   "source": [
    "# Normalization"
   ]
  },
  {
   "cell_type": "code",
   "execution_count": 16,
   "metadata": {},
   "outputs": [
    {
     "data": {
      "text/plain": [
       "Cement                0\n",
       "Blast Furnace Slag    0\n",
       "Fly Ash               0\n",
       "Water                 0\n",
       "Superplasticizer      0\n",
       "Coarse Aggregate      0\n",
       "Fine Aggregate        0\n",
       "Age                   0\n",
       "Strength              0\n",
       "dtype: int64"
      ]
     },
     "execution_count": 16,
     "metadata": {},
     "output_type": "execute_result"
    }
   ],
   "source": [
    "df.isna().sum()"
   ]
  },
  {
   "cell_type": "code",
   "execution_count": 5,
   "metadata": {},
   "outputs": [
    {
     "data": {
      "text/plain": [
       "((1030, 8), (1030,))"
      ]
     },
     "execution_count": 5,
     "metadata": {},
     "output_type": "execute_result"
    }
   ],
   "source": [
    "X = df.drop(\"Strength\", axis=1)\n",
    "y = df.loc[:, \"Strength\"]\n",
    "\n",
    "X.shape, y.shape"
   ]
  },
  {
   "cell_type": "code",
   "execution_count": 17,
   "metadata": {},
   "outputs": [
    {
     "data": {
      "text/html": [
       "<div>\n",
       "<style scoped>\n",
       "    .dataframe tbody tr th:only-of-type {\n",
       "        vertical-align: middle;\n",
       "    }\n",
       "\n",
       "    .dataframe tbody tr th {\n",
       "        vertical-align: top;\n",
       "    }\n",
       "\n",
       "    .dataframe thead th {\n",
       "        text-align: right;\n",
       "    }\n",
       "</style>\n",
       "<table border=\"1\" class=\"dataframe\">\n",
       "  <thead>\n",
       "    <tr style=\"text-align: right;\">\n",
       "      <th></th>\n",
       "      <th>Cement</th>\n",
       "      <th>Blast Furnace Slag</th>\n",
       "      <th>Fly Ash</th>\n",
       "      <th>Water</th>\n",
       "      <th>Superplasticizer</th>\n",
       "      <th>Coarse Aggregate</th>\n",
       "      <th>Fine Aggregate</th>\n",
       "      <th>Age</th>\n",
       "    </tr>\n",
       "  </thead>\n",
       "  <tbody>\n",
       "    <tr>\n",
       "      <th>0</th>\n",
       "      <td>2.476712</td>\n",
       "      <td>-0.856472</td>\n",
       "      <td>-0.846733</td>\n",
       "      <td>-0.916319</td>\n",
       "      <td>-0.620147</td>\n",
       "      <td>0.862735</td>\n",
       "      <td>-1.217079</td>\n",
       "      <td>-0.279597</td>\n",
       "    </tr>\n",
       "    <tr>\n",
       "      <th>1</th>\n",
       "      <td>2.476712</td>\n",
       "      <td>-0.856472</td>\n",
       "      <td>-0.846733</td>\n",
       "      <td>-0.916319</td>\n",
       "      <td>-0.620147</td>\n",
       "      <td>1.055651</td>\n",
       "      <td>-1.217079</td>\n",
       "      <td>-0.279597</td>\n",
       "    </tr>\n",
       "    <tr>\n",
       "      <th>2</th>\n",
       "      <td>0.491187</td>\n",
       "      <td>0.795140</td>\n",
       "      <td>-0.846733</td>\n",
       "      <td>2.174405</td>\n",
       "      <td>-1.038638</td>\n",
       "      <td>-0.526262</td>\n",
       "      <td>-2.239829</td>\n",
       "      <td>3.551340</td>\n",
       "    </tr>\n",
       "    <tr>\n",
       "      <th>3</th>\n",
       "      <td>0.491187</td>\n",
       "      <td>0.795140</td>\n",
       "      <td>-0.846733</td>\n",
       "      <td>2.174405</td>\n",
       "      <td>-1.038638</td>\n",
       "      <td>-0.526262</td>\n",
       "      <td>-2.239829</td>\n",
       "      <td>5.055221</td>\n",
       "    </tr>\n",
       "    <tr>\n",
       "      <th>4</th>\n",
       "      <td>-0.790075</td>\n",
       "      <td>0.678079</td>\n",
       "      <td>-0.846733</td>\n",
       "      <td>0.488555</td>\n",
       "      <td>-1.038638</td>\n",
       "      <td>0.070492</td>\n",
       "      <td>0.647569</td>\n",
       "      <td>4.976069</td>\n",
       "    </tr>\n",
       "  </tbody>\n",
       "</table>\n",
       "</div>"
      ],
      "text/plain": [
       "     Cement  Blast Furnace Slag   Fly Ash     Water  Superplasticizer  \\\n",
       "0  2.476712           -0.856472 -0.846733 -0.916319         -0.620147   \n",
       "1  2.476712           -0.856472 -0.846733 -0.916319         -0.620147   \n",
       "2  0.491187            0.795140 -0.846733  2.174405         -1.038638   \n",
       "3  0.491187            0.795140 -0.846733  2.174405         -1.038638   \n",
       "4 -0.790075            0.678079 -0.846733  0.488555         -1.038638   \n",
       "\n",
       "   Coarse Aggregate  Fine Aggregate       Age  \n",
       "0          0.862735       -1.217079 -0.279597  \n",
       "1          1.055651       -1.217079 -0.279597  \n",
       "2         -0.526262       -2.239829  3.551340  \n",
       "3         -0.526262       -2.239829  5.055221  \n",
       "4          0.070492        0.647569  4.976069  "
      ]
     },
     "execution_count": 17,
     "metadata": {},
     "output_type": "execute_result"
    }
   ],
   "source": [
    "X_norm = (X - X.mean()) / X.std()\n",
    "X_norm.head(5)"
   ]
  },
  {
   "cell_type": "code",
   "execution_count": 15,
   "metadata": {},
   "outputs": [
    {
     "name": "stdout",
     "output_type": "stream",
     "text": [
      "Average of MSEs: 251.51925597627698\n",
      "Standard Deviation MSEs: 245.3108361210546\n"
     ]
    }
   ],
   "source": [
    "import numpy as np\n",
    "print(f\"Average of MSEs: {np.mean(mse_list)}\")\n",
    "print(f\"Standard Deviation MSEs: {np.std(mse_list)}\")\n"
   ]
  },
  {
   "cell_type": "markdown",
   "metadata": {},
   "source": [
    "### Split the data in train and test"
   ]
  },
  {
   "cell_type": "code",
   "execution_count": 21,
   "metadata": {},
   "outputs": [
    {
     "data": {
      "text/plain": [
       "((721, 8), (309, 8), (721,), (309,))"
      ]
     },
     "execution_count": 21,
     "metadata": {},
     "output_type": "execute_result"
    }
   ],
   "source": [
    "from sklearn.model_selection import train_test_split\n",
    "X_train, X_test, y_train, y_test = train_test_split(X_norm, y, test_size=0.3)\n",
    "\n",
    "X_train.shape, X_test.shape, y_train.shape, y_test.shape"
   ]
  },
  {
   "cell_type": "markdown",
   "metadata": {},
   "source": [
    "### Create the model"
   ]
  },
  {
   "cell_type": "code",
   "execution_count": 22,
   "metadata": {},
   "outputs": [],
   "source": [
    "import tensorflow.keras as keras"
   ]
  },
  {
   "cell_type": "code",
   "execution_count": 23,
   "metadata": {},
   "outputs": [],
   "source": [
    "def build_model():\n",
    "    model = keras.models.Sequential()\n",
    "    model.add(keras.layers.Dense(10, activation=\"relu\", input_shape=(X.shape[1],)))\n",
    "    model.add(keras.layers.Dense(1))\n",
    "    \n",
    "    model.compile(optimizer=\"adam\", loss=\"mean_squared_error\")\n",
    "    return model"
   ]
  },
  {
   "cell_type": "code",
   "execution_count": 24,
   "metadata": {},
   "outputs": [
    {
     "name": "stdout",
     "output_type": "stream",
     "text": [
      "Epoch 1/50\n",
      "23/23 [==============================] - 1s 2ms/step - loss: 1611.6862\n",
      "Epoch 2/50\n",
      "23/23 [==============================] - 0s 2ms/step - loss: 1592.4187\n",
      "Epoch 3/50\n",
      "23/23 [==============================] - 0s 3ms/step - loss: 1573.2382\n",
      "Epoch 4/50\n",
      "23/23 [==============================] - 0s 2ms/step - loss: 1553.6326\n",
      "Epoch 5/50\n",
      "23/23 [==============================] - 0s 3ms/step - loss: 1534.0696\n",
      "Epoch 6/50\n",
      "23/23 [==============================] - 0s 2ms/step - loss: 1513.9550\n",
      "Epoch 7/50\n",
      "23/23 [==============================] - 0s 2ms/step - loss: 1493.0442\n",
      "Epoch 8/50\n",
      "23/23 [==============================] - 0s 2ms/step - loss: 1471.5038\n",
      "Epoch 9/50\n",
      "23/23 [==============================] - 0s 2ms/step - loss: 1449.1288\n",
      "Epoch 10/50\n",
      "23/23 [==============================] - 0s 2ms/step - loss: 1425.8679\n",
      "Epoch 11/50\n",
      "23/23 [==============================] - 0s 2ms/step - loss: 1402.0944\n",
      "Epoch 12/50\n",
      "23/23 [==============================] - 0s 3ms/step - loss: 1377.0511\n",
      "Epoch 13/50\n",
      "23/23 [==============================] - 0s 2ms/step - loss: 1351.4951\n",
      "Epoch 14/50\n",
      "23/23 [==============================] - 0s 2ms/step - loss: 1325.1637\n",
      "Epoch 15/50\n",
      "23/23 [==============================] - 0s 2ms/step - loss: 1298.4221\n",
      "Epoch 16/50\n",
      "23/23 [==============================] - 0s 3ms/step - loss: 1270.4374\n",
      "Epoch 17/50\n",
      "23/23 [==============================] - 0s 2ms/step - loss: 1242.8044\n",
      "Epoch 18/50\n",
      "23/23 [==============================] - 0s 2ms/step - loss: 1214.6908\n",
      "Epoch 19/50\n",
      "23/23 [==============================] - 0s 2ms/step - loss: 1185.4490\n",
      "Epoch 20/50\n",
      "23/23 [==============================] - 0s 2ms/step - loss: 1156.8634\n",
      "Epoch 21/50\n",
      "23/23 [==============================] - 0s 2ms/step - loss: 1127.8899\n",
      "Epoch 22/50\n",
      "23/23 [==============================] - 0s 3ms/step - loss: 1098.7076\n",
      "Epoch 23/50\n",
      "23/23 [==============================] - 0s 2ms/step - loss: 1069.1716\n",
      "Epoch 24/50\n",
      "23/23 [==============================] - 0s 2ms/step - loss: 1039.9327\n",
      "Epoch 25/50\n",
      "23/23 [==============================] - 0s 2ms/step - loss: 1010.9923\n",
      "Epoch 26/50\n",
      "23/23 [==============================] - 0s 3ms/step - loss: 982.2842\n",
      "Epoch 27/50\n",
      "23/23 [==============================] - 0s 2ms/step - loss: 954.1246\n",
      "Epoch 28/50\n",
      "23/23 [==============================] - 0s 2ms/step - loss: 925.7244\n",
      "Epoch 29/50\n",
      "23/23 [==============================] - 0s 3ms/step - loss: 898.5219\n",
      "Epoch 30/50\n",
      "23/23 [==============================] - 0s 3ms/step - loss: 871.5518\n",
      "Epoch 31/50\n",
      "23/23 [==============================] - 0s 3ms/step - loss: 844.8709\n",
      "Epoch 32/50\n",
      "23/23 [==============================] - 0s 3ms/step - loss: 818.7774\n",
      "Epoch 33/50\n",
      "23/23 [==============================] - 0s 3ms/step - loss: 793.1788\n",
      "Epoch 34/50\n",
      "23/23 [==============================] - 0s 3ms/step - loss: 767.6763\n",
      "Epoch 35/50\n",
      "23/23 [==============================] - 0s 3ms/step - loss: 743.3133\n",
      "Epoch 36/50\n",
      "23/23 [==============================] - 0s 4ms/step - loss: 718.9908\n",
      "Epoch 37/50\n",
      "23/23 [==============================] - 0s 3ms/step - loss: 695.3739\n",
      "Epoch 38/50\n",
      "23/23 [==============================] - 0s 3ms/step - loss: 672.2147\n",
      "Epoch 39/50\n",
      "23/23 [==============================] - 0s 4ms/step - loss: 649.8147\n",
      "Epoch 40/50\n",
      "23/23 [==============================] - 0s 3ms/step - loss: 627.6500\n",
      "Epoch 41/50\n",
      "23/23 [==============================] - 0s 3ms/step - loss: 605.8995\n",
      "Epoch 42/50\n",
      "23/23 [==============================] - 0s 3ms/step - loss: 584.7955\n",
      "Epoch 43/50\n",
      "23/23 [==============================] - 0s 3ms/step - loss: 563.8314\n",
      "Epoch 44/50\n",
      "23/23 [==============================] - 0s 3ms/step - loss: 543.8553\n",
      "Epoch 45/50\n",
      "23/23 [==============================] - 0s 3ms/step - loss: 524.1146\n",
      "Epoch 46/50\n",
      "23/23 [==============================] - 0s 3ms/step - loss: 505.0342\n",
      "Epoch 47/50\n",
      "23/23 [==============================] - 0s 3ms/step - loss: 486.8130\n",
      "Epoch 48/50\n",
      "23/23 [==============================] - 0s 3ms/step - loss: 468.9483\n",
      "Epoch 49/50\n",
      "23/23 [==============================] - 0s 4ms/step - loss: 451.8607\n",
      "Epoch 50/50\n",
      "23/23 [==============================] - 0s 3ms/step - loss: 435.0461\n"
     ]
    },
    {
     "data": {
      "text/plain": [
       "<keras.callbacks.History at 0x1fca25b5c00>"
      ]
     },
     "execution_count": 24,
     "metadata": {},
     "output_type": "execute_result"
    }
   ],
   "source": [
    "model = build_model()\n",
    "\n",
    "model.fit(X_train, y_train, epochs=50, verbose=1)"
   ]
  },
  {
   "cell_type": "markdown",
   "metadata": {},
   "source": [
    "### Calculating Mean Squared Error"
   ]
  },
  {
   "cell_type": "code",
   "execution_count": 25,
   "metadata": {},
   "outputs": [
    {
     "name": "stdout",
     "output_type": "stream",
     "text": [
      "10/10 [==============================] - 0s 2ms/step\n",
      "Test MSE: 356.9511484180675\n"
     ]
    }
   ],
   "source": [
    "from sklearn.metrics import mean_squared_error\n",
    "\n",
    "predicted_y = model.predict(X_test)\n",
    "mse = mean_squared_error(y_test, predicted_y)\n",
    "print(f\"Test MSE: {mse}\")"
   ]
  },
  {
   "cell_type": "code",
   "execution_count": 26,
   "metadata": {},
   "outputs": [],
   "source": [
    "def do_fifty_times():\n",
    "    n=50\n",
    "    mse_list = []\n",
    "    for index in range(n):\n",
    "        # split data\n",
    "        X_train, X_test, y_train, y_test = train_test_split(X, y, test_size=0.3)\n",
    "        \n",
    "        # build model\n",
    "        model = build_model()\n",
    "        \n",
    "        # train model\n",
    "        model.fit(X_train, y_train, epochs=50, verbose=0)\n",
    "        \n",
    "        # predict test set\n",
    "        predicted_y = model.predict(X_test)\n",
    "        \n",
    "        # get MSE for the model\n",
    "        mse = mean_squared_error(y_test, predicted_y)\n",
    "        print(f\"MSE {index}: {mse}\")\n",
    "        \n",
    "        # append to list\n",
    "        mse_list.append(mse)\n",
    "    return mse_list"
   ]
  },
  {
   "cell_type": "code",
   "execution_count": 28,
   "metadata": {},
   "outputs": [
    {
     "name": "stdout",
     "output_type": "stream",
     "text": [
      "10/10 [==============================] - 0s 2ms/step\n",
      "MSE 0: 148.74174397257167\n",
      "10/10 [==============================] - 0s 2ms/step\n",
      "MSE 1: 121.31726228924882\n",
      "10/10 [==============================] - 0s 2ms/step\n",
      "MSE 2: 126.00204108464314\n",
      "10/10 [==============================] - 0s 2ms/step\n",
      "MSE 3: 642.2163175738107\n",
      "10/10 [==============================] - 0s 2ms/step\n",
      "MSE 4: 110.84855623046901\n",
      "10/10 [==============================] - 0s 2ms/step\n",
      "MSE 5: 101.3624872016314\n",
      "10/10 [==============================] - 0s 2ms/step\n",
      "MSE 6: 280.4744785234453\n",
      "10/10 [==============================] - 0s 2ms/step\n",
      "MSE 7: 411.84367879027633\n",
      "10/10 [==============================] - 0s 2ms/step\n",
      "MSE 8: 106.65094879689423\n",
      "10/10 [==============================] - 0s 2ms/step\n",
      "MSE 9: 232.14027720934595\n",
      "10/10 [==============================] - 0s 2ms/step\n",
      "MSE 10: 179.68252323698772\n",
      "10/10 [==============================] - 0s 2ms/step\n",
      "MSE 11: 163.62413361040038\n",
      "10/10 [==============================] - 1s 10ms/step\n",
      "MSE 12: 188.0079223130047\n",
      "10/10 [==============================] - 0s 7ms/step\n",
      "MSE 13: 145.34265862767924\n",
      "10/10 [==============================] - 0s 3ms/step\n",
      "MSE 14: 131.22887235923125\n",
      "10/10 [==============================] - 0s 2ms/step\n",
      "MSE 15: 172.88963702935504\n",
      "10/10 [==============================] - 0s 2ms/step\n",
      "MSE 16: 95.9747395179549\n",
      "10/10 [==============================] - 0s 2ms/step\n",
      "MSE 17: 184.16316572671656\n",
      "10/10 [==============================] - 0s 2ms/step\n",
      "MSE 18: 401.3007743320872\n",
      "10/10 [==============================] - 0s 2ms/step\n",
      "MSE 19: 145.06113603830505\n",
      "10/10 [==============================] - 0s 2ms/step\n",
      "MSE 20: 114.96787698845174\n",
      "10/10 [==============================] - 0s 2ms/step\n",
      "MSE 21: 868.1065446760722\n",
      "10/10 [==============================] - 0s 2ms/step\n",
      "MSE 22: 343.8557555590743\n",
      "10/10 [==============================] - 0s 5ms/step\n",
      "MSE 23: 323.66408494341874\n",
      "10/10 [==============================] - 0s 2ms/step\n",
      "MSE 24: 118.34517212505544\n",
      "10/10 [==============================] - 0s 2ms/step\n",
      "MSE 25: 292.75604226089973\n",
      "10/10 [==============================] - 0s 2ms/step\n",
      "MSE 26: 1170.0020443089925\n",
      "10/10 [==============================] - 0s 2ms/step\n",
      "MSE 27: 450.76853731731\n",
      "10/10 [==============================] - 0s 2ms/step\n",
      "MSE 28: 552.1215449630565\n",
      "10/10 [==============================] - 0s 2ms/step\n",
      "MSE 29: 183.84192105176805\n",
      "10/10 [==============================] - 0s 2ms/step\n",
      "MSE 30: 108.60857062208602\n",
      "10/10 [==============================] - 0s 2ms/step\n",
      "MSE 31: 199.1644208945682\n",
      "10/10 [==============================] - 0s 2ms/step\n",
      "MSE 32: 111.18571057316647\n",
      "10/10 [==============================] - 0s 2ms/step\n",
      "MSE 33: 162.88262667414125\n",
      "10/10 [==============================] - 0s 2ms/step\n",
      "MSE 34: 166.48484135082415\n",
      "10/10 [==============================] - 0s 2ms/step\n",
      "MSE 35: 235.92147293783972\n",
      "10/10 [==============================] - 0s 2ms/step\n",
      "MSE 36: 97.27887507991369\n",
      "10/10 [==============================] - 0s 4ms/step\n",
      "MSE 37: 118.13302855274291\n",
      "10/10 [==============================] - 0s 2ms/step\n",
      "MSE 38: 657.3085003435652\n",
      "10/10 [==============================] - 1s 2ms/step\n",
      "MSE 39: 459.48153018931714\n",
      "10/10 [==============================] - 0s 2ms/step\n",
      "MSE 40: 145.50718529006414\n",
      "10/10 [==============================] - 0s 6ms/step\n",
      "MSE 41: 112.19030523871295\n",
      "10/10 [==============================] - 0s 2ms/step\n",
      "MSE 42: 146.5581472820435\n",
      "10/10 [==============================] - 0s 2ms/step\n",
      "MSE 43: 266.12633282748504\n",
      "10/10 [==============================] - 0s 2ms/step\n",
      "MSE 44: 207.35379537504184\n",
      "10/10 [==============================] - 0s 2ms/step\n",
      "MSE 45: 1048.5255751021348\n",
      "10/10 [==============================] - 0s 2ms/step\n",
      "MSE 46: 319.15174101942006\n",
      "10/10 [==============================] - 0s 2ms/step\n",
      "MSE 47: 238.29110718023387\n",
      "10/10 [==============================] - 0s 2ms/step\n",
      "MSE 48: 179.06621924814124\n",
      "10/10 [==============================] - 0s 2ms/step\n",
      "MSE 49: 213.78669151669666\n"
     ]
    }
   ],
   "source": [
    "mse_list = do_fifty_times()"
   ]
  },
  {
   "cell_type": "markdown",
   "metadata": {},
   "source": [
    "### Average and Standard Deviation of MSE"
   ]
  },
  {
   "cell_type": "code",
   "execution_count": 29,
   "metadata": {},
   "outputs": [
    {
     "name": "stdout",
     "output_type": "stream",
     "text": [
      "Average of MSEs: 274.0061911191259\n",
      "Standard Deviation MSEs: 235.82275802587836\n"
     ]
    }
   ],
   "source": [
    "import numpy as np\n",
    "print(f\"Average of MSEs: {np.mean(mse_list)}\")\n",
    "print(f\"Standard Deviation MSEs: {np.std(mse_list)}\")\n"
   ]
  },
  {
   "cell_type": "markdown",
   "metadata": {},
   "source": [
    "# MSE Compared to Part A"
   ]
  },
  {
   "cell_type": "markdown",
   "metadata": {},
   "source": [
    "For Part A:\n",
    "\n",
    "    Average of MSEs: 251.51925597627698\n",
    "    Standard Deviation MSEs: 245.3108361210546\n",
    "    \n",
    "For Part B:\n",
    "\n",
    "    Average of MSEs: 274.0061911191259\n",
    "    Standard Deviation MSEs: 235.82275802587836\n",
    "    \n",
    "As we can see that Average MSE has increased while Standard Deviation remains the same"
   ]
  },
  {
   "cell_type": "markdown",
   "metadata": {},
   "source": [
    "# Part C"
   ]
  },
  {
   "cell_type": "code",
   "execution_count": 30,
   "metadata": {},
   "outputs": [],
   "source": [
    "import tensorflow.keras as keras"
   ]
  },
  {
   "cell_type": "code",
   "execution_count": 31,
   "metadata": {},
   "outputs": [],
   "source": [
    "def build_model():\n",
    "    model = keras.models.Sequential()\n",
    "    model.add(keras.layers.Dense(10, activation=\"relu\", input_shape=(X.shape[1],)))\n",
    "    model.add(keras.layers.Dense(1))\n",
    "    \n",
    "    model.compile(optimizer=\"adam\", loss=\"mean_squared_error\")\n",
    "    return model"
   ]
  },
  {
   "cell_type": "code",
   "execution_count": 32,
   "metadata": {},
   "outputs": [
    {
     "name": "stdout",
     "output_type": "stream",
     "text": [
      "Epoch 1/100\n",
      "23/23 [==============================] - 1s 2ms/step - loss: 1594.5854\n",
      "Epoch 2/100\n",
      "23/23 [==============================] - 0s 2ms/step - loss: 1576.6569\n",
      "Epoch 3/100\n",
      "23/23 [==============================] - 0s 3ms/step - loss: 1559.0067\n",
      "Epoch 4/100\n",
      "23/23 [==============================] - 0s 3ms/step - loss: 1541.0098\n",
      "Epoch 5/100\n",
      "23/23 [==============================] - 0s 3ms/step - loss: 1522.7096\n",
      "Epoch 6/100\n",
      "23/23 [==============================] - 0s 3ms/step - loss: 1504.1951\n",
      "Epoch 7/100\n",
      "23/23 [==============================] - 0s 2ms/step - loss: 1484.9303\n",
      "Epoch 8/100\n",
      "23/23 [==============================] - 0s 3ms/step - loss: 1465.1403\n",
      "Epoch 9/100\n",
      "23/23 [==============================] - 0s 3ms/step - loss: 1444.8527\n",
      "Epoch 10/100\n",
      "23/23 [==============================] - 0s 2ms/step - loss: 1423.8485\n",
      "Epoch 11/100\n",
      "23/23 [==============================] - 0s 3ms/step - loss: 1402.0864\n",
      "Epoch 12/100\n",
      "23/23 [==============================] - 0s 3ms/step - loss: 1380.1022\n",
      "Epoch 13/100\n",
      "23/23 [==============================] - 0s 3ms/step - loss: 1356.9056\n",
      "Epoch 14/100\n",
      "23/23 [==============================] - 0s 3ms/step - loss: 1333.4810\n",
      "Epoch 15/100\n",
      "23/23 [==============================] - 0s 2ms/step - loss: 1309.0964\n",
      "Epoch 16/100\n",
      "23/23 [==============================] - 0s 3ms/step - loss: 1284.2920\n",
      "Epoch 17/100\n",
      "23/23 [==============================] - 0s 2ms/step - loss: 1258.9344\n",
      "Epoch 18/100\n",
      "23/23 [==============================] - 0s 2ms/step - loss: 1232.8192\n",
      "Epoch 19/100\n",
      "23/23 [==============================] - 0s 2ms/step - loss: 1206.0878\n",
      "Epoch 20/100\n",
      "23/23 [==============================] - 0s 2ms/step - loss: 1178.8060\n",
      "Epoch 21/100\n",
      "23/23 [==============================] - 0s 2ms/step - loss: 1151.1250\n",
      "Epoch 22/100\n",
      "23/23 [==============================] - 0s 2ms/step - loss: 1122.8596\n",
      "Epoch 23/100\n",
      "23/23 [==============================] - 0s 2ms/step - loss: 1094.6742\n",
      "Epoch 24/100\n",
      "23/23 [==============================] - 0s 3ms/step - loss: 1065.6589\n",
      "Epoch 25/100\n",
      "23/23 [==============================] - 0s 2ms/step - loss: 1036.8832\n",
      "Epoch 26/100\n",
      "23/23 [==============================] - 0s 3ms/step - loss: 1007.2496\n",
      "Epoch 27/100\n",
      "23/23 [==============================] - 0s 3ms/step - loss: 977.6737\n",
      "Epoch 28/100\n",
      "23/23 [==============================] - 0s 3ms/step - loss: 947.7278\n",
      "Epoch 29/100\n",
      "23/23 [==============================] - 0s 2ms/step - loss: 917.5846\n",
      "Epoch 30/100\n",
      "23/23 [==============================] - 0s 2ms/step - loss: 887.6885\n",
      "Epoch 31/100\n",
      "23/23 [==============================] - 0s 3ms/step - loss: 857.0631\n",
      "Epoch 32/100\n",
      "23/23 [==============================] - 0s 3ms/step - loss: 826.5481\n",
      "Epoch 33/100\n",
      "23/23 [==============================] - 0s 3ms/step - loss: 796.7283\n",
      "Epoch 34/100\n",
      "23/23 [==============================] - 0s 3ms/step - loss: 766.6364\n",
      "Epoch 35/100\n",
      "23/23 [==============================] - 0s 3ms/step - loss: 737.3048\n",
      "Epoch 36/100\n",
      "23/23 [==============================] - 0s 3ms/step - loss: 708.6088\n",
      "Epoch 37/100\n",
      "23/23 [==============================] - 0s 3ms/step - loss: 679.9592\n",
      "Epoch 38/100\n",
      "23/23 [==============================] - 0s 3ms/step - loss: 652.5738\n",
      "Epoch 39/100\n",
      "23/23 [==============================] - 0s 4ms/step - loss: 625.5374\n",
      "Epoch 40/100\n",
      "23/23 [==============================] - 0s 3ms/step - loss: 599.4755\n",
      "Epoch 41/100\n",
      "23/23 [==============================] - 0s 3ms/step - loss: 574.5540\n",
      "Epoch 42/100\n",
      "23/23 [==============================] - 0s 3ms/step - loss: 550.2527\n",
      "Epoch 43/100\n",
      "23/23 [==============================] - 0s 5ms/step - loss: 527.5045\n",
      "Epoch 44/100\n",
      "23/23 [==============================] - 0s 4ms/step - loss: 505.2874\n",
      "Epoch 45/100\n",
      "23/23 [==============================] - 0s 3ms/step - loss: 484.0427\n",
      "Epoch 46/100\n",
      "23/23 [==============================] - 0s 3ms/step - loss: 463.9536\n",
      "Epoch 47/100\n",
      "23/23 [==============================] - 0s 3ms/step - loss: 445.2810\n",
      "Epoch 48/100\n",
      "23/23 [==============================] - 0s 3ms/step - loss: 426.8149\n",
      "Epoch 49/100\n",
      "23/23 [==============================] - 0s 3ms/step - loss: 409.8866\n",
      "Epoch 50/100\n",
      "23/23 [==============================] - 0s 3ms/step - loss: 393.6085\n",
      "Epoch 51/100\n",
      "23/23 [==============================] - 0s 3ms/step - loss: 378.4486\n",
      "Epoch 52/100\n",
      "23/23 [==============================] - 0s 3ms/step - loss: 364.1665\n",
      "Epoch 53/100\n",
      "23/23 [==============================] - 0s 3ms/step - loss: 350.6958\n",
      "Epoch 54/100\n",
      "23/23 [==============================] - 0s 2ms/step - loss: 338.1844\n",
      "Epoch 55/100\n",
      "23/23 [==============================] - 0s 2ms/step - loss: 326.1431\n",
      "Epoch 56/100\n",
      "23/23 [==============================] - 0s 2ms/step - loss: 315.4236\n",
      "Epoch 57/100\n",
      "23/23 [==============================] - 0s 2ms/step - loss: 304.9635\n",
      "Epoch 58/100\n",
      "23/23 [==============================] - 0s 3ms/step - loss: 295.2001\n",
      "Epoch 59/100\n",
      "23/23 [==============================] - 0s 3ms/step - loss: 286.4556\n",
      "Epoch 60/100\n",
      "23/23 [==============================] - 0s 3ms/step - loss: 277.8740\n",
      "Epoch 61/100\n",
      "23/23 [==============================] - 0s 3ms/step - loss: 270.1792\n",
      "Epoch 62/100\n",
      "23/23 [==============================] - 0s 3ms/step - loss: 262.9313\n",
      "Epoch 63/100\n",
      "23/23 [==============================] - 0s 3ms/step - loss: 256.1592\n",
      "Epoch 64/100\n",
      "23/23 [==============================] - 0s 2ms/step - loss: 249.8884\n",
      "Epoch 65/100\n",
      "23/23 [==============================] - 0s 2ms/step - loss: 244.1440\n",
      "Epoch 66/100\n",
      "23/23 [==============================] - 0s 3ms/step - loss: 238.7248\n",
      "Epoch 67/100\n",
      "23/23 [==============================] - 0s 3ms/step - loss: 233.6571\n",
      "Epoch 68/100\n",
      "23/23 [==============================] - 0s 3ms/step - loss: 229.0245\n",
      "Epoch 69/100\n",
      "23/23 [==============================] - 0s 4ms/step - loss: 224.7780\n",
      "Epoch 70/100\n",
      "23/23 [==============================] - 0s 2ms/step - loss: 220.7401\n",
      "Epoch 71/100\n",
      "23/23 [==============================] - 0s 2ms/step - loss: 217.2138\n",
      "Epoch 72/100\n",
      "23/23 [==============================] - 0s 4ms/step - loss: 213.7934\n",
      "Epoch 73/100\n",
      "23/23 [==============================] - 0s 4ms/step - loss: 210.6763\n",
      "Epoch 74/100\n",
      "23/23 [==============================] - 0s 3ms/step - loss: 207.7704\n",
      "Epoch 75/100\n",
      "23/23 [==============================] - 0s 3ms/step - loss: 204.9852\n",
      "Epoch 76/100\n",
      "23/23 [==============================] - 0s 3ms/step - loss: 202.3942\n",
      "Epoch 77/100\n",
      "23/23 [==============================] - 0s 3ms/step - loss: 200.0428\n",
      "Epoch 78/100\n",
      "23/23 [==============================] - 0s 3ms/step - loss: 197.7627\n",
      "Epoch 79/100\n",
      "23/23 [==============================] - 0s 3ms/step - loss: 195.5467\n",
      "Epoch 80/100\n",
      "23/23 [==============================] - 0s 3ms/step - loss: 193.3854\n",
      "Epoch 81/100\n",
      "23/23 [==============================] - 0s 2ms/step - loss: 191.3921\n",
      "Epoch 82/100\n",
      "23/23 [==============================] - 0s 3ms/step - loss: 189.5732\n",
      "Epoch 83/100\n",
      "23/23 [==============================] - 0s 3ms/step - loss: 187.6886\n",
      "Epoch 84/100\n",
      "23/23 [==============================] - 0s 3ms/step - loss: 185.9516\n",
      "Epoch 85/100\n",
      "23/23 [==============================] - 0s 5ms/step - loss: 184.2854\n",
      "Epoch 86/100\n",
      "23/23 [==============================] - 0s 6ms/step - loss: 182.6491\n",
      "Epoch 87/100\n",
      "23/23 [==============================] - 0s 3ms/step - loss: 181.0265\n",
      "Epoch 88/100\n",
      "23/23 [==============================] - 0s 3ms/step - loss: 179.5967\n",
      "Epoch 89/100\n",
      "23/23 [==============================] - 0s 3ms/step - loss: 177.8697\n",
      "Epoch 90/100\n",
      "23/23 [==============================] - 0s 3ms/step - loss: 176.3472\n",
      "Epoch 91/100\n",
      "23/23 [==============================] - 0s 2ms/step - loss: 174.8771\n",
      "Epoch 92/100\n",
      "23/23 [==============================] - 0s 2ms/step - loss: 173.4458\n",
      "Epoch 93/100\n",
      "23/23 [==============================] - 0s 2ms/step - loss: 172.0652\n",
      "Epoch 94/100\n",
      "23/23 [==============================] - 0s 2ms/step - loss: 170.7382\n",
      "Epoch 95/100\n",
      "23/23 [==============================] - 0s 2ms/step - loss: 169.3211\n",
      "Epoch 96/100\n",
      "23/23 [==============================] - 0s 2ms/step - loss: 167.9965\n",
      "Epoch 97/100\n",
      "23/23 [==============================] - 0s 2ms/step - loss: 166.7156\n",
      "Epoch 98/100\n",
      "23/23 [==============================] - 0s 2ms/step - loss: 165.4555\n",
      "Epoch 99/100\n"
     ]
    },
    {
     "name": "stdout",
     "output_type": "stream",
     "text": [
      "23/23 [==============================] - 0s 2ms/step - loss: 164.1960\n",
      "Epoch 100/100\n",
      "23/23 [==============================] - 0s 2ms/step - loss: 162.9955\n"
     ]
    },
    {
     "data": {
      "text/plain": [
       "<keras.callbacks.History at 0x1fcab5d4790>"
      ]
     },
     "execution_count": 32,
     "metadata": {},
     "output_type": "execute_result"
    }
   ],
   "source": [
    "model = build_model()\n",
    "\n",
    "model.fit(X_train, y_train, epochs=100, verbose=1)"
   ]
  },
  {
   "cell_type": "markdown",
   "metadata": {},
   "source": [
    "### Calculating Mean Squared Error"
   ]
  },
  {
   "cell_type": "code",
   "execution_count": 33,
   "metadata": {},
   "outputs": [
    {
     "name": "stdout",
     "output_type": "stream",
     "text": [
      "10/10 [==============================] - 0s 2ms/step\n",
      "Test MSE: 164.66211049293042\n"
     ]
    }
   ],
   "source": [
    "from sklearn.metrics import mean_squared_error\n",
    "\n",
    "predicted_y = model.predict(X_test)\n",
    "mse = mean_squared_error(y_test, predicted_y)\n",
    "print(f\"Test MSE: {mse}\")"
   ]
  },
  {
   "cell_type": "code",
   "execution_count": 34,
   "metadata": {},
   "outputs": [],
   "source": [
    "def do_fifty_times():\n",
    "    n=50\n",
    "    mse_list = []\n",
    "    for index in range(n):\n",
    "        # split data\n",
    "        X_train, X_test, y_train, y_test = train_test_split(X, y, test_size=0.3)\n",
    "        \n",
    "        # build model\n",
    "        model = build_model()\n",
    "        \n",
    "        # train model\n",
    "        model.fit(X_train, y_train, epochs=50, verbose=0)\n",
    "        \n",
    "        # predict test set\n",
    "        predicted_y = model.predict(X_test)\n",
    "        \n",
    "        # get MSE for the model\n",
    "        mse = mean_squared_error(y_test, predicted_y)\n",
    "        print(f\"MSE {index}: {mse}\")\n",
    "        \n",
    "        # append to list\n",
    "        mse_list.append(mse)\n",
    "    return mse_list"
   ]
  },
  {
   "cell_type": "code",
   "execution_count": 35,
   "metadata": {},
   "outputs": [
    {
     "name": "stdout",
     "output_type": "stream",
     "text": [
      "10/10 [==============================] - 0s 2ms/step\n",
      "MSE 0: 148.25104507749646\n",
      "10/10 [==============================] - 0s 2ms/step\n",
      "MSE 1: 440.8798405042123\n",
      "10/10 [==============================] - 0s 2ms/step\n",
      "MSE 2: 150.40248650672098\n",
      "10/10 [==============================] - 0s 2ms/step\n",
      "MSE 3: 173.04908351539135\n",
      "10/10 [==============================] - 0s 2ms/step\n",
      "MSE 4: 122.90174160117273\n",
      "10/10 [==============================] - 0s 2ms/step\n",
      "MSE 5: 130.6660630796108\n",
      "10/10 [==============================] - 0s 2ms/step\n",
      "MSE 6: 1377.6815908284989\n",
      "10/10 [==============================] - 0s 2ms/step\n",
      "MSE 7: 465.99601849541574\n",
      "10/10 [==============================] - 0s 2ms/step\n",
      "MSE 8: 139.1456254079793\n",
      "10/10 [==============================] - 0s 2ms/step\n",
      "MSE 9: 2477.8960647333165\n",
      "10/10 [==============================] - 0s 2ms/step\n",
      "MSE 10: 151.47762327719803\n",
      "10/10 [==============================] - 0s 2ms/step\n",
      "MSE 11: 279.9292423387407\n",
      "10/10 [==============================] - 0s 2ms/step\n",
      "MSE 12: 1147.936759970981\n",
      "10/10 [==============================] - 0s 2ms/step\n",
      "MSE 13: 123.76129028660844\n",
      "10/10 [==============================] - 0s 2ms/step\n",
      "MSE 14: 124.4312706894276\n",
      "10/10 [==============================] - 0s 2ms/step\n",
      "MSE 15: 1021.1106826071823\n",
      "10/10 [==============================] - 0s 2ms/step\n",
      "MSE 16: 120.49612568538785\n",
      "10/10 [==============================] - 0s 2ms/step\n",
      "MSE 17: 114.47085760546122\n",
      "10/10 [==============================] - 0s 2ms/step\n",
      "MSE 18: 252.87977915604583\n",
      "10/10 [==============================] - 0s 2ms/step\n",
      "MSE 19: 1045.7127030691374\n",
      "10/10 [==============================] - 0s 2ms/step\n",
      "MSE 20: 162.17501821788335\n",
      "10/10 [==============================] - 0s 2ms/step\n",
      "MSE 21: 198.5238883277231\n",
      "10/10 [==============================] - 0s 2ms/step\n",
      "MSE 22: 323.0501067567202\n",
      "10/10 [==============================] - 0s 2ms/step\n",
      "MSE 23: 133.08189068267953\n",
      "10/10 [==============================] - 0s 2ms/step\n",
      "MSE 24: 820.3234292228394\n",
      "10/10 [==============================] - 0s 2ms/step\n",
      "MSE 25: 126.28446884395268\n",
      "10/10 [==============================] - 0s 2ms/step\n",
      "MSE 26: 104.97638430566677\n",
      "10/10 [==============================] - 0s 2ms/step\n",
      "MSE 27: 351.6034941611527\n",
      "10/10 [==============================] - 0s 2ms/step\n",
      "MSE 28: 1019.9100333643544\n",
      "10/10 [==============================] - 0s 2ms/step\n",
      "MSE 29: 170.15595653454807\n",
      "10/10 [==============================] - 0s 2ms/step\n",
      "MSE 30: 2185.4011748079065\n",
      "10/10 [==============================] - 0s 2ms/step\n",
      "MSE 31: 104.30970491115893\n",
      "10/10 [==============================] - 0s 2ms/step\n",
      "MSE 32: 126.9016438666531\n",
      "10/10 [==============================] - 0s 2ms/step\n",
      "MSE 33: 132.64417728041315\n",
      "10/10 [==============================] - 0s 2ms/step\n",
      "MSE 34: 594.2797281292859\n",
      "10/10 [==============================] - 0s 2ms/step\n",
      "MSE 35: 120.9955512294129\n",
      "10/10 [==============================] - 0s 2ms/step\n",
      "MSE 36: 115.66149008590722\n",
      "10/10 [==============================] - 0s 2ms/step\n",
      "MSE 37: 157.19826522146897\n",
      "10/10 [==============================] - 0s 2ms/step\n",
      "MSE 38: 95.60893032580371\n",
      "10/10 [==============================] - 0s 2ms/step\n",
      "MSE 39: 135.8599294828061\n",
      "10/10 [==============================] - 0s 2ms/step\n",
      "MSE 40: 108.87111508054018\n",
      "10/10 [==============================] - 0s 2ms/step\n",
      "MSE 41: 940.6715919012686\n",
      "10/10 [==============================] - 0s 2ms/step\n",
      "MSE 42: 353.9783513396902\n",
      "10/10 [==============================] - 0s 2ms/step\n",
      "MSE 43: 820.0679580975943\n",
      "10/10 [==============================] - 0s 2ms/step\n",
      "MSE 44: 214.35012011238186\n",
      "10/10 [==============================] - 0s 2ms/step\n",
      "MSE 45: 177.9881267752902\n",
      "10/10 [==============================] - 0s 2ms/step\n",
      "MSE 46: 118.96122107619613\n",
      "10/10 [==============================] - 0s 2ms/step\n",
      "MSE 47: 626.9905623900002\n",
      "10/10 [==============================] - 0s 2ms/step\n",
      "MSE 48: 231.3905022275722\n",
      "10/10 [==============================] - 0s 2ms/step\n",
      "MSE 49: 1359.424125679092\n"
     ]
    }
   ],
   "source": [
    "mse_list = do_fifty_times()"
   ]
  },
  {
   "cell_type": "markdown",
   "metadata": {},
   "source": [
    "### Average and Standard Deviation of MSE"
   ]
  },
  {
   "cell_type": "code",
   "execution_count": 36,
   "metadata": {},
   "outputs": [
    {
     "name": "stdout",
     "output_type": "stream",
     "text": [
      "Average of MSEs: 442.814296697479\n",
      "Standard Deviation MSEs: 526.5835180443946\n"
     ]
    }
   ],
   "source": [
    "import numpy as np\n",
    "print(f\"Average of MSEs: {np.mean(mse_list)}\")\n",
    "print(f\"Standard Deviation MSEs: {np.std(mse_list)}\")\n"
   ]
  },
  {
   "cell_type": "markdown",
   "metadata": {},
   "source": [
    "# MSE Compared to Part B"
   ]
  },
  {
   "cell_type": "markdown",
   "metadata": {},
   "source": [
    "For Part B:\n",
    "\n",
    "        Average of MSEs: 274.0061911191259\n",
    "        Standard Deviation MSEs: 235.82275802587836\n",
    "\n",
    "For Part C:\n",
    "\n",
    "        Average of MSEs: 442.814296697479\n",
    "        Standard Deviation MSEs: 526.5835180443946\n",
    "\n",
    "Both Mean MSE and SD have increased"
   ]
  },
  {
   "cell_type": "markdown",
   "metadata": {},
   "source": [
    "# Part D"
   ]
  },
  {
   "cell_type": "code",
   "execution_count": 37,
   "metadata": {},
   "outputs": [],
   "source": [
    "import tensorflow.keras as keras"
   ]
  },
  {
   "cell_type": "code",
   "execution_count": 38,
   "metadata": {},
   "outputs": [],
   "source": [
    "def build_model():\n",
    "    model = keras.models.Sequential()\n",
    "    model.add(keras.layers.Dense(10, activation=\"relu\", input_shape=(X_norm.shape[1],)))\n",
    "    model.add(keras.layers.Dense(10, activation=\"relu\"))\n",
    "    model.add(keras.layers.Dense(10, activation=\"relu\"))\n",
    "    model.add(keras.layers.Dense(1))\n",
    "    \n",
    "    model.compile(optimizer=\"adam\", loss=\"mean_squared_error\")\n",
    "    return model"
   ]
  },
  {
   "cell_type": "code",
   "execution_count": 39,
   "metadata": {},
   "outputs": [
    {
     "name": "stdout",
     "output_type": "stream",
     "text": [
      "Epoch 1/50\n",
      "23/23 [==============================] - 3s 2ms/step - loss: 1602.8252\n",
      "Epoch 2/50\n",
      "23/23 [==============================] - 0s 3ms/step - loss: 1576.4741\n",
      "Epoch 3/50\n",
      "23/23 [==============================] - 0s 3ms/step - loss: 1546.6514\n",
      "Epoch 4/50\n",
      "23/23 [==============================] - 0s 3ms/step - loss: 1507.8400\n",
      "Epoch 5/50\n",
      "23/23 [==============================] - 0s 3ms/step - loss: 1452.8308\n",
      "Epoch 6/50\n",
      "23/23 [==============================] - 0s 2ms/step - loss: 1367.0994\n",
      "Epoch 7/50\n",
      "23/23 [==============================] - 0s 3ms/step - loss: 1233.0011\n",
      "Epoch 8/50\n",
      "23/23 [==============================] - 0s 3ms/step - loss: 1057.6328\n",
      "Epoch 9/50\n",
      "23/23 [==============================] - 0s 3ms/step - loss: 861.0961\n",
      "Epoch 10/50\n",
      "23/23 [==============================] - 0s 3ms/step - loss: 666.7316\n",
      "Epoch 11/50\n",
      "23/23 [==============================] - 0s 3ms/step - loss: 515.5941\n",
      "Epoch 12/50\n",
      "23/23 [==============================] - 0s 2ms/step - loss: 412.4381\n",
      "Epoch 13/50\n",
      "23/23 [==============================] - 0s 3ms/step - loss: 346.4641\n",
      "Epoch 14/50\n",
      "23/23 [==============================] - 0s 3ms/step - loss: 302.3802\n",
      "Epoch 15/50\n",
      "23/23 [==============================] - 0s 3ms/step - loss: 275.8987\n",
      "Epoch 16/50\n",
      "23/23 [==============================] - 0s 2ms/step - loss: 256.9926\n",
      "Epoch 17/50\n",
      "23/23 [==============================] - 0s 3ms/step - loss: 243.8961\n",
      "Epoch 18/50\n",
      "23/23 [==============================] - 0s 3ms/step - loss: 233.0774\n",
      "Epoch 19/50\n",
      "23/23 [==============================] - 0s 3ms/step - loss: 224.7770\n",
      "Epoch 20/50\n",
      "23/23 [==============================] - 0s 3ms/step - loss: 216.3842\n",
      "Epoch 21/50\n",
      "23/23 [==============================] - 0s 3ms/step - loss: 210.6159\n",
      "Epoch 22/50\n",
      "23/23 [==============================] - 0s 3ms/step - loss: 203.6675\n",
      "Epoch 23/50\n",
      "23/23 [==============================] - 0s 3ms/step - loss: 198.1838\n",
      "Epoch 24/50\n",
      "23/23 [==============================] - 0s 3ms/step - loss: 192.9434\n",
      "Epoch 25/50\n",
      "23/23 [==============================] - 0s 3ms/step - loss: 188.3146\n",
      "Epoch 26/50\n",
      "23/23 [==============================] - 0s 3ms/step - loss: 184.0933\n",
      "Epoch 27/50\n",
      "23/23 [==============================] - 0s 2ms/step - loss: 180.2914\n",
      "Epoch 28/50\n",
      "23/23 [==============================] - 0s 3ms/step - loss: 175.5164\n",
      "Epoch 29/50\n",
      "23/23 [==============================] - 0s 4ms/step - loss: 172.1868\n",
      "Epoch 30/50\n",
      "23/23 [==============================] - 0s 4ms/step - loss: 168.4388\n",
      "Epoch 31/50\n",
      "23/23 [==============================] - 0s 4ms/step - loss: 165.2071\n",
      "Epoch 32/50\n",
      "23/23 [==============================] - 0s 4ms/step - loss: 162.1970\n",
      "Epoch 33/50\n",
      "23/23 [==============================] - 0s 4ms/step - loss: 159.2407\n",
      "Epoch 34/50\n",
      "23/23 [==============================] - 0s 4ms/step - loss: 156.7963\n",
      "Epoch 35/50\n",
      "23/23 [==============================] - 0s 3ms/step - loss: 154.2514\n",
      "Epoch 36/50\n",
      "23/23 [==============================] - 0s 4ms/step - loss: 152.1152\n",
      "Epoch 37/50\n",
      "23/23 [==============================] - 0s 4ms/step - loss: 150.1806\n",
      "Epoch 38/50\n",
      "23/23 [==============================] - 0s 4ms/step - loss: 148.0461\n",
      "Epoch 39/50\n",
      "23/23 [==============================] - 0s 4ms/step - loss: 146.3355\n",
      "Epoch 40/50\n",
      "23/23 [==============================] - 0s 3ms/step - loss: 144.8963\n",
      "Epoch 41/50\n",
      "23/23 [==============================] - 0s 4ms/step - loss: 143.4395\n",
      "Epoch 42/50\n",
      "23/23 [==============================] - 0s 4ms/step - loss: 141.8367\n",
      "Epoch 43/50\n",
      "23/23 [==============================] - 0s 4ms/step - loss: 140.7033\n",
      "Epoch 44/50\n",
      "23/23 [==============================] - 0s 3ms/step - loss: 139.4553\n",
      "Epoch 45/50\n",
      "23/23 [==============================] - 0s 3ms/step - loss: 138.0711\n",
      "Epoch 46/50\n",
      "23/23 [==============================] - 0s 3ms/step - loss: 137.3758\n",
      "Epoch 47/50\n",
      "23/23 [==============================] - 0s 3ms/step - loss: 135.8778\n",
      "Epoch 48/50\n",
      "23/23 [==============================] - 0s 4ms/step - loss: 134.6587\n",
      "Epoch 49/50\n",
      "23/23 [==============================] - 0s 6ms/step - loss: 133.5108\n",
      "Epoch 50/50\n",
      "23/23 [==============================] - 0s 4ms/step - loss: 132.7574\n"
     ]
    },
    {
     "data": {
      "text/plain": [
       "<keras.callbacks.History at 0x1fcab41a620>"
      ]
     },
     "execution_count": 39,
     "metadata": {},
     "output_type": "execute_result"
    }
   ],
   "source": [
    "model = build_model()\n",
    "\n",
    "model.fit(X_train, y_train, epochs=50, verbose=1)"
   ]
  },
  {
   "cell_type": "markdown",
   "metadata": {},
   "source": [
    "### Calculating Mean Squared Error"
   ]
  },
  {
   "cell_type": "code",
   "execution_count": 40,
   "metadata": {},
   "outputs": [
    {
     "name": "stdout",
     "output_type": "stream",
     "text": [
      "10/10 [==============================] - 0s 2ms/step\n",
      "Test MSE: 137.2090936257836\n"
     ]
    }
   ],
   "source": [
    "from sklearn.metrics import mean_squared_error\n",
    "\n",
    "predicted_y = model.predict(X_test)\n",
    "mse = mean_squared_error(y_test, predicted_y)\n",
    "print(f\"Test MSE: {mse}\")"
   ]
  },
  {
   "cell_type": "code",
   "execution_count": 41,
   "metadata": {},
   "outputs": [],
   "source": [
    "def do_fifty_times():\n",
    "    n=50\n",
    "    mse_list = []\n",
    "    for index in range(n):\n",
    "        # split data\n",
    "        X_train, X_test, y_train, y_test = train_test_split(X, y, test_size=0.3)\n",
    "        \n",
    "        # build model\n",
    "        model = build_model()\n",
    "        \n",
    "        # train model\n",
    "        model.fit(X_train, y_train, epochs=50, verbose=0)\n",
    "        \n",
    "        # predict test set\n",
    "        predicted_y = model.predict(X_test)\n",
    "        \n",
    "        # get MSE for the model\n",
    "        mse = mean_squared_error(y_test, predicted_y)\n",
    "        print(f\"MSE {index}: {mse}\")\n",
    "        \n",
    "        # append to list\n",
    "        mse_list.append(mse)\n",
    "    return mse_list"
   ]
  },
  {
   "cell_type": "code",
   "execution_count": 42,
   "metadata": {},
   "outputs": [
    {
     "name": "stdout",
     "output_type": "stream",
     "text": [
      "10/10 [==============================] - 0s 2ms/step\n",
      "MSE 0: 91.60750640460417\n",
      "10/10 [==============================] - 0s 2ms/step\n",
      "MSE 1: 117.46177724344687\n",
      "10/10 [==============================] - 0s 2ms/step\n",
      "MSE 2: 116.63984072170814\n",
      "10/10 [==============================] - 0s 2ms/step\n",
      "MSE 3: 98.63364276310654\n",
      "10/10 [==============================] - 0s 2ms/step\n",
      "MSE 4: 116.81053708741193\n",
      "10/10 [==============================] - 0s 2ms/step\n",
      "MSE 5: 233.34644255560846\n",
      "10/10 [==============================] - 0s 2ms/step\n",
      "MSE 6: 72.43754200544481\n",
      "10/10 [==============================] - 0s 2ms/step\n",
      "MSE 7: 148.58248224801855\n",
      "10/10 [==============================] - 0s 2ms/step\n",
      "MSE 8: 71.51021913380364\n",
      "10/10 [==============================] - 0s 2ms/step\n",
      "MSE 9: 124.80762659556004\n",
      "10/10 [==============================] - 0s 2ms/step\n",
      "MSE 10: 98.11132386517083\n",
      "10/10 [==============================] - 0s 2ms/step\n",
      "MSE 11: 127.58064742170461\n",
      "10/10 [==============================] - 0s 2ms/step\n",
      "MSE 12: 71.78774116780531\n",
      "10/10 [==============================] - 0s 2ms/step\n",
      "MSE 13: 61.031060346118\n",
      "10/10 [==============================] - 0s 2ms/step\n",
      "MSE 14: 200.330736514269\n",
      "10/10 [==============================] - 0s 2ms/step\n",
      "MSE 15: 213.59681291773967\n",
      "10/10 [==============================] - 1s 4ms/step\n",
      "MSE 16: 85.16804966985485\n",
      "10/10 [==============================] - 0s 2ms/step\n",
      "MSE 17: 154.38964227729485\n",
      "10/10 [==============================] - 0s 2ms/step\n",
      "MSE 18: 90.54617584028169\n",
      "10/10 [==============================] - 0s 2ms/step\n",
      "MSE 19: 87.71033684297775\n",
      "10/10 [==============================] - 0s 2ms/step\n",
      "MSE 20: 138.25254881980516\n",
      "10/10 [==============================] - 0s 2ms/step\n",
      "MSE 21: 198.92732429651002\n",
      "10/10 [==============================] - 0s 2ms/step\n",
      "MSE 22: 109.76730159055103\n",
      "10/10 [==============================] - 0s 2ms/step\n",
      "MSE 23: 131.5483189490387\n",
      "10/10 [==============================] - 0s 2ms/step\n",
      "MSE 24: 146.83011469938464\n",
      "10/10 [==============================] - 0s 2ms/step\n",
      "MSE 25: 79.71863160838627\n",
      "10/10 [==============================] - 0s 2ms/step\n",
      "MSE 26: 153.24635871912497\n",
      "10/10 [==============================] - 0s 2ms/step\n",
      "MSE 27: 99.80309255827767\n",
      "10/10 [==============================] - 0s 2ms/step\n",
      "MSE 28: 62.25454572595449\n",
      "10/10 [==============================] - 0s 2ms/step\n",
      "MSE 29: 221.70753953902457\n",
      "10/10 [==============================] - 0s 2ms/step\n",
      "MSE 30: 91.20482192264981\n",
      "10/10 [==============================] - 0s 2ms/step\n",
      "MSE 31: 168.5674022723594\n",
      "10/10 [==============================] - 0s 2ms/step\n",
      "MSE 32: 107.11170118528962\n",
      "10/10 [==============================] - 0s 2ms/step\n",
      "MSE 33: 98.46172695149568\n",
      "10/10 [==============================] - 0s 2ms/step\n",
      "MSE 34: 82.981679847113\n",
      "10/10 [==============================] - 0s 2ms/step\n",
      "MSE 35: 75.73773957275142\n",
      "10/10 [==============================] - 0s 2ms/step\n",
      "MSE 36: 118.59294580082504\n",
      "10/10 [==============================] - 0s 2ms/step\n",
      "MSE 37: 170.15901422560054\n",
      "10/10 [==============================] - 0s 2ms/step\n",
      "MSE 38: 128.52257239612285\n",
      "10/10 [==============================] - 0s 2ms/step\n",
      "MSE 39: 110.72773410843207\n",
      "10/10 [==============================] - 0s 2ms/step\n",
      "MSE 40: 119.97216544929584\n",
      "10/10 [==============================] - 0s 2ms/step\n",
      "MSE 41: 101.35683736433816\n",
      "10/10 [==============================] - 0s 2ms/step\n",
      "MSE 42: 107.74166458708834\n",
      "10/10 [==============================] - 0s 2ms/step\n",
      "MSE 43: 109.86008457559866\n",
      "10/10 [==============================] - 0s 2ms/step\n",
      "MSE 44: 270.78586179217893\n",
      "10/10 [==============================] - 0s 2ms/step\n",
      "MSE 45: 88.78126175819821\n",
      "10/10 [==============================] - 0s 2ms/step\n",
      "MSE 46: 138.25841591655174\n",
      "10/10 [==============================] - 0s 2ms/step\n",
      "MSE 47: 92.3877357309824\n",
      "10/10 [==============================] - 0s 2ms/step\n",
      "MSE 48: 90.55363797055514\n",
      "10/10 [==============================] - 0s 2ms/step\n",
      "MSE 49: 143.19138673214397\n"
     ]
    }
   ],
   "source": [
    "mse_list = do_fifty_times()"
   ]
  },
  {
   "cell_type": "markdown",
   "metadata": {},
   "source": [
    "### Average and Standard Deviation of MSE"
   ]
  },
  {
   "cell_type": "code",
   "execution_count": 43,
   "metadata": {},
   "outputs": [
    {
     "name": "stdout",
     "output_type": "stream",
     "text": [
      "Average of MSEs: 122.78204620575117\n",
      "Standard Deviation MSEs: 46.05085031127403\n"
     ]
    }
   ],
   "source": [
    "import numpy as np\n",
    "print(f\"Average of MSEs: {np.mean(mse_list)}\")\n",
    "print(f\"Standard Deviation MSEs: {np.std(mse_list)}\")\n"
   ]
  },
  {
   "cell_type": "markdown",
   "metadata": {},
   "source": [
    "# MSE Compared to Part B"
   ]
  },
  {
   "cell_type": "markdown",
   "metadata": {},
   "source": [
    "For part B:\n",
    "        \n",
    "        Average of MSEs: 274.0061911191259\n",
    "        Standard Deviation MSEs: 235.82275802587836\n",
    "\n",
    "For Part D:\n",
    "    \n",
    "        Average of MSEs: 122.78204620575117\n",
    "        Standard Deviation MSEs: 46.05085031127403\n",
    "            \n",
    "Both Average MSE and Standard Deviation has decreased, hence accuracy has increased"
   ]
  }
 ],
 "metadata": {
  "kernelspec": {
   "display_name": "Python 3 (ipykernel)",
   "language": "python",
   "name": "python3"
  },
  "language_info": {
   "codemirror_mode": {
    "name": "ipython",
    "version": 3
   },
   "file_extension": ".py",
   "mimetype": "text/x-python",
   "name": "python",
   "nbconvert_exporter": "python",
   "pygments_lexer": "ipython3",
   "version": "3.10.9"
  }
 },
 "nbformat": 4,
 "nbformat_minor": 2
}
