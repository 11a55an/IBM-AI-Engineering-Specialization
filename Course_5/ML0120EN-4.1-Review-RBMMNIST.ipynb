{
 "cells": [
  {
   "cell_type": "markdown",
   "metadata": {},
   "source": [
    "<img src=\"https://cf-courses-data.s3.us.cloud-object-storage.appdomain.cloud/IBMDeveloperSkillsNetwork-DL0120EN-SkillsNetwork/images/IDSN-logo.png\" width=\"300\" alt=\"cognitiveclass.ai logo\">\n",
    "\n",
    "<h1 align=\"center\"><font size=\"5\">RESTRICTED BOLTZMANN MACHINES</font></h1>\n"
   ]
  },
  {
   "cell_type": "markdown",
   "metadata": {},
   "source": [
    "Estimated time needed: **25** minutes\n"
   ]
  },
  {
   "cell_type": "markdown",
   "metadata": {},
   "source": [
    "<h3>Introduction</h3>\n",
    "<b>Restricted Boltzmann Machine (RBM):</b>  RBMs are shallow neural nets that learn to reconstruct data by themselves in an unsupervised fashion.  \n",
    "\n",
    "\n",
    "<h4>Why are RBMs important?</h4>\n",
    "An RBM are a basic form of autoencoder.  It can automatically extract <b>meaningful</b> features from a given input.\n",
    "\n",
    "\n",
    "<h4>How does it work?</h4>\n",
    "RBM is a 2 layer neural network. Simply, RBM takes the inputs and translates those into a set of binary values that represents them in the hidden layer. Then, these numbers can be translated back to reconstruct the inputs. Through several forward and backward passes, the RBM will be trained, and a trained RBM can reveal which features are the most important ones when detecting patterns.   \n",
    "\n",
    "\n",
    "<h4>What are the applications of an RBM?</h4>\n",
    "RBM is useful for <a href='http://www.cs.utoronto.ca/~hinton/absps/netflixICML.pdf?utm_medium=Exinfluencer&utm_source=Exinfluencer&utm_content=000026UJ&utm_term=10006555&utm_id=NA-SkillsNetwork-Channel-SkillsNetworkCoursesIBMDeveloperSkillsNetworkDL0120ENSkillsNetwork954-2023-01-01'>  Collaborative Filtering</a>, dimensionality reduction, classification, regression, feature learning, topic modeling and even <b>Deep Belief Networks</b>.\n",
    "\n",
    "<h4>Is RBM a generative or Discriminative model?</h4>\n",
    "RBM is a generative model. Let me explain it by first, see what is different between discriminative and generative models: \n",
    "\n",
    "<b>Discriminative:</b> Consider a classification problem where we want to learn to distinguish between Sedan cars (y = 1) and SUV cars (y = 0), based on some features of cars. Given a training set, an algorithm like logistic regression tries to find a straight line, or <i>decision boundary</i>, that separates the suv and sedan.  \n",
    "\n",
    "<b>Generative:</b> looking at cars, we can build a model of what Sedan cars look like. Then, looking at SUVs, we can build a separate model of what SUV cars look like. Finally, to classify a new car, we can match the new car against the Sedan model, and match it against the SUV model, to see whether the new car looks more like the SUV or Sedan. \n",
    "\n",
    "Generative Models specify a probability distribution over a dataset of input vectors. We can carry out both supervised and unsupervised tasks with generative models:\n",
    "<ul>\n",
    "    <li>In an unsupervised task, we try to form a model for $P(x)$, where $P$ is the probability given $x$ as an input vector.</li>\n",
    "    <li>In the supervised task, we first form a model for $P(x|y)$, where $P$ is the probability of $x$ given $y$(the label for $x$). For example, if $y = 0$ indicates that a car is an SUV, and $y = 1$ indicates that a car is a sedan, then $p(x|y = 0)$ models the distribution of SUV features, and $p(x|y = 1)$ models the distribution of sedan features. If we manage to find $P(x|y)$ and $P(y)$, then we can use <b>Bayes rule</b> to estimate $P(y|x)$, because:   \n",
    "        $$p(y|x) = \\frac{p(x|y)p(y)}{p(x)}$$</li>\n",
    "</ul>\n",
    "Now the question is, can we build a generative model, and then use it to create synthetic data by directly sampling from the modeled probability distributions? Lets see. \n"
   ]
  },
  {
   "cell_type": "markdown",
   "metadata": {},
   "source": [
    "<h2>Table of Contents</h2>\n",
    "<ol>\n",
    "    <li><a href=\"#ref1\">Initialization</a></li>\n",
    "    <li><a href=\"#ref2\">RBM layers</a></li>\n",
    "    <li><a href=\"#ref3\">What RBM can do after training?</a></li>\n",
    "    <li><a href=\"#ref4\">How to train the model?</a></li>\n",
    "    <li><a href=\"#ref5\">Learned features</a></li>\n",
    "</ol>\n",
    "<p></p>\n",
    "</div>\n",
    "<br>\n",
    "\n",
    "<hr>\n"
   ]
  },
  {
   "cell_type": "markdown",
   "metadata": {},
   "source": [
    "<a id=\"ref1\"></a>\n",
    "<h3>Initialization</h3>\n",
    "\n",
    "First, we have to load the utility file which contains different utility functions that are not connected\n",
    "in any way to the networks presented in the tutorials, but rather help in\n",
    "processing the outputs into a more understandable way.\n"
   ]
  },
  {
   "cell_type": "code",
   "execution_count": 1,
   "metadata": {
    "tags": []
   },
   "outputs": [],
   "source": [
    "import urllib.request\n",
    "with urllib.request.urlopen(\"https://cf-courses-data.s3.us.cloud-object-storage.appdomain.cloud/IBMDeveloperSkillsNetwork-DL0120EN-SkillsNetwork/labs/Week4/data/utils.py\") as url:\n",
    "    response = url.read()\n",
    "target = open('utils.py', 'w')\n",
    "target.write(response.decode('utf-8'))\n",
    "target.close()"
   ]
  },
  {
   "cell_type": "markdown",
   "metadata": {},
   "source": [
    "<h2>Installing TensorFlow </h2>\n",
    "\n",
    "We will installing TensorFlow version 2.9.0 and its required prerequistes.  Also installing pillow...\n"
   ]
  },
  {
   "cell_type": "code",
   "execution_count": 2,
   "metadata": {
    "tags": []
   },
   "outputs": [
    {
     "name": "stdout",
     "output_type": "stream",
     "text": [
      "Requirement already satisfied: grpcio==1.24.3 in /home/jupyterlab/conda/envs/python/lib/python3.7/site-packages (1.24.3)\n",
      "Requirement already satisfied: six>=1.5.2 in /home/jupyterlab/conda/envs/python/lib/python3.7/site-packages (from grpcio==1.24.3) (1.16.0)\n",
      "Requirement already satisfied: tensorflow==2.9.0 in /home/jupyterlab/conda/envs/python/lib/python3.7/site-packages (2.9.0)\n",
      "Requirement already satisfied: absl-py>=1.0.0 in /home/jupyterlab/conda/envs/python/lib/python3.7/site-packages (from tensorflow==2.9.0) (1.4.0)\n",
      "Requirement already satisfied: astunparse>=1.6.0 in /home/jupyterlab/conda/envs/python/lib/python3.7/site-packages (from tensorflow==2.9.0) (1.6.3)\n",
      "Requirement already satisfied: flatbuffers<2,>=1.12 in /home/jupyterlab/conda/envs/python/lib/python3.7/site-packages (from tensorflow==2.9.0) (1.12)\n",
      "Requirement already satisfied: gast<=0.4.0,>=0.2.1 in /home/jupyterlab/conda/envs/python/lib/python3.7/site-packages (from tensorflow==2.9.0) (0.4.0)\n",
      "Requirement already satisfied: google-pasta>=0.1.1 in /home/jupyterlab/conda/envs/python/lib/python3.7/site-packages (from tensorflow==2.9.0) (0.2.0)\n",
      "Requirement already satisfied: grpcio<2.0,>=1.24.3 in /home/jupyterlab/conda/envs/python/lib/python3.7/site-packages (from tensorflow==2.9.0) (1.24.3)\n",
      "Requirement already satisfied: h5py>=2.9.0 in /home/jupyterlab/conda/envs/python/lib/python3.7/site-packages (from tensorflow==2.9.0) (3.8.0)\n",
      "Requirement already satisfied: keras<2.10.0,>=2.9.0rc0 in /home/jupyterlab/conda/envs/python/lib/python3.7/site-packages (from tensorflow==2.9.0) (2.9.0)\n",
      "Requirement already satisfied: keras-preprocessing>=1.1.1 in /home/jupyterlab/conda/envs/python/lib/python3.7/site-packages (from tensorflow==2.9.0) (1.1.2)\n",
      "Requirement already satisfied: libclang>=13.0.0 in /home/jupyterlab/conda/envs/python/lib/python3.7/site-packages (from tensorflow==2.9.0) (16.0.0)\n",
      "Requirement already satisfied: numpy>=1.20 in /home/jupyterlab/conda/envs/python/lib/python3.7/site-packages (from tensorflow==2.9.0) (1.21.4)\n",
      "Requirement already satisfied: opt-einsum>=2.3.2 in /home/jupyterlab/conda/envs/python/lib/python3.7/site-packages (from tensorflow==2.9.0) (3.3.0)\n",
      "Requirement already satisfied: packaging in /home/jupyterlab/conda/envs/python/lib/python3.7/site-packages (from tensorflow==2.9.0) (23.1)\n",
      "Requirement already satisfied: protobuf>=3.9.2 in /home/jupyterlab/conda/envs/python/lib/python3.7/site-packages (from tensorflow==2.9.0) (3.19.6)\n",
      "Requirement already satisfied: setuptools in /home/jupyterlab/conda/envs/python/lib/python3.7/site-packages (from tensorflow==2.9.0) (67.7.2)\n",
      "Requirement already satisfied: six>=1.12.0 in /home/jupyterlab/conda/envs/python/lib/python3.7/site-packages (from tensorflow==2.9.0) (1.16.0)\n",
      "Requirement already satisfied: tensorboard<2.10,>=2.9 in /home/jupyterlab/conda/envs/python/lib/python3.7/site-packages (from tensorflow==2.9.0) (2.9.1)\n",
      "Requirement already satisfied: tensorflow-io-gcs-filesystem>=0.23.1 in /home/jupyterlab/conda/envs/python/lib/python3.7/site-packages (from tensorflow==2.9.0) (0.32.0)\n",
      "Requirement already satisfied: tensorflow-estimator<2.10.0,>=2.9.0rc0 in /home/jupyterlab/conda/envs/python/lib/python3.7/site-packages (from tensorflow==2.9.0) (2.9.0)\n",
      "Requirement already satisfied: termcolor>=1.1.0 in /home/jupyterlab/conda/envs/python/lib/python3.7/site-packages (from tensorflow==2.9.0) (2.3.0)\n",
      "Requirement already satisfied: typing-extensions>=3.6.6 in /home/jupyterlab/conda/envs/python/lib/python3.7/site-packages (from tensorflow==2.9.0) (4.5.0)\n",
      "Requirement already satisfied: wrapt>=1.11.0 in /home/jupyterlab/conda/envs/python/lib/python3.7/site-packages (from tensorflow==2.9.0) (1.14.1)\n",
      "Requirement already satisfied: wheel<1.0,>=0.23.0 in /home/jupyterlab/conda/envs/python/lib/python3.7/site-packages (from astunparse>=1.6.0->tensorflow==2.9.0) (0.40.0)\n",
      "Requirement already satisfied: google-auth<3,>=1.6.3 in /home/jupyterlab/conda/envs/python/lib/python3.7/site-packages (from tensorboard<2.10,>=2.9->tensorflow==2.9.0) (2.21.0)\n",
      "Requirement already satisfied: google-auth-oauthlib<0.5,>=0.4.1 in /home/jupyterlab/conda/envs/python/lib/python3.7/site-packages (from tensorboard<2.10,>=2.9->tensorflow==2.9.0) (0.4.6)\n",
      "Requirement already satisfied: markdown>=2.6.8 in /home/jupyterlab/conda/envs/python/lib/python3.7/site-packages (from tensorboard<2.10,>=2.9->tensorflow==2.9.0) (3.4.3)\n",
      "Requirement already satisfied: requests<3,>=2.21.0 in /home/jupyterlab/conda/envs/python/lib/python3.7/site-packages (from tensorboard<2.10,>=2.9->tensorflow==2.9.0) (2.29.0)\n",
      "Requirement already satisfied: tensorboard-data-server<0.7.0,>=0.6.0 in /home/jupyterlab/conda/envs/python/lib/python3.7/site-packages (from tensorboard<2.10,>=2.9->tensorflow==2.9.0) (0.6.1)\n",
      "Requirement already satisfied: tensorboard-plugin-wit>=1.6.0 in /home/jupyterlab/conda/envs/python/lib/python3.7/site-packages (from tensorboard<2.10,>=2.9->tensorflow==2.9.0) (1.8.1)\n",
      "Requirement already satisfied: werkzeug>=1.0.1 in /home/jupyterlab/conda/envs/python/lib/python3.7/site-packages (from tensorboard<2.10,>=2.9->tensorflow==2.9.0) (2.2.3)\n",
      "Requirement already satisfied: cachetools<6.0,>=2.0.0 in /home/jupyterlab/conda/envs/python/lib/python3.7/site-packages (from google-auth<3,>=1.6.3->tensorboard<2.10,>=2.9->tensorflow==2.9.0) (5.3.1)\n",
      "Requirement already satisfied: pyasn1-modules>=0.2.1 in /home/jupyterlab/conda/envs/python/lib/python3.7/site-packages (from google-auth<3,>=1.6.3->tensorboard<2.10,>=2.9->tensorflow==2.9.0) (0.3.0)\n",
      "Requirement already satisfied: rsa<5,>=3.1.4 in /home/jupyterlab/conda/envs/python/lib/python3.7/site-packages (from google-auth<3,>=1.6.3->tensorboard<2.10,>=2.9->tensorflow==2.9.0) (4.9)\n",
      "Requirement already satisfied: urllib3<2.0 in /home/jupyterlab/conda/envs/python/lib/python3.7/site-packages (from google-auth<3,>=1.6.3->tensorboard<2.10,>=2.9->tensorflow==2.9.0) (1.26.15)\n",
      "Requirement already satisfied: requests-oauthlib>=0.7.0 in /home/jupyterlab/conda/envs/python/lib/python3.7/site-packages (from google-auth-oauthlib<0.5,>=0.4.1->tensorboard<2.10,>=2.9->tensorflow==2.9.0) (1.3.1)\n",
      "Requirement already satisfied: importlib-metadata>=4.4 in /home/jupyterlab/conda/envs/python/lib/python3.7/site-packages (from markdown>=2.6.8->tensorboard<2.10,>=2.9->tensorflow==2.9.0) (4.11.4)\n",
      "Requirement already satisfied: charset-normalizer<4,>=2 in /home/jupyterlab/conda/envs/python/lib/python3.7/site-packages (from requests<3,>=2.21.0->tensorboard<2.10,>=2.9->tensorflow==2.9.0) (3.1.0)\n",
      "Requirement already satisfied: idna<4,>=2.5 in /home/jupyterlab/conda/envs/python/lib/python3.7/site-packages (from requests<3,>=2.21.0->tensorboard<2.10,>=2.9->tensorflow==2.9.0) (3.4)\n",
      "Requirement already satisfied: certifi>=2017.4.17 in /home/jupyterlab/conda/envs/python/lib/python3.7/site-packages (from requests<3,>=2.21.0->tensorboard<2.10,>=2.9->tensorflow==2.9.0) (2023.5.7)\n",
      "Requirement already satisfied: MarkupSafe>=2.1.1 in /home/jupyterlab/conda/envs/python/lib/python3.7/site-packages (from werkzeug>=1.0.1->tensorboard<2.10,>=2.9->tensorflow==2.9.0) (2.1.1)\n",
      "Requirement already satisfied: zipp>=0.5 in /home/jupyterlab/conda/envs/python/lib/python3.7/site-packages (from importlib-metadata>=4.4->markdown>=2.6.8->tensorboard<2.10,>=2.9->tensorflow==2.9.0) (3.15.0)\n",
      "Requirement already satisfied: pyasn1<0.6.0,>=0.4.6 in /home/jupyterlab/conda/envs/python/lib/python3.7/site-packages (from pyasn1-modules>=0.2.1->google-auth<3,>=1.6.3->tensorboard<2.10,>=2.9->tensorflow==2.9.0) (0.5.0)\n",
      "Requirement already satisfied: oauthlib>=3.0.0 in /home/jupyterlab/conda/envs/python/lib/python3.7/site-packages (from requests-oauthlib>=0.7.0->google-auth-oauthlib<0.5,>=0.4.1->tensorboard<2.10,>=2.9->tensorflow==2.9.0) (3.2.2)\n",
      "Requirement already satisfied: pillow==8.1.0 in /home/jupyterlab/conda/envs/python/lib/python3.7/site-packages (8.1.0)\n"
     ]
    }
   ],
   "source": [
    "!pip install grpcio==1.24.3\n",
    "!pip install tensorflow==2.9.0\n",
    "!pip install pillow==8.1.0"
   ]
  },
  {
   "cell_type": "markdown",
   "metadata": {},
   "source": [
    "<b>Notice:</b> This notebook has been created with TensorFlow version 2.9.0, and might not work with other versions. Therefore we check:\n"
   ]
  },
  {
   "cell_type": "code",
   "execution_count": 3,
   "metadata": {
    "tags": []
   },
   "outputs": [
    {
     "name": "stderr",
     "output_type": "stream",
     "text": [
      "2023-07-10 17:23:37.256146: I tensorflow/core/util/util.cc:169] oneDNN custom operations are on. You may see slightly different numerical results due to floating-point round-off errors from different computation orders. To turn them off, set the environment variable `TF_ENABLE_ONEDNN_OPTS=0`.\n",
      "2023-07-10 17:23:37.261108: W tensorflow/stream_executor/platform/default/dso_loader.cc:64] Could not load dynamic library 'libcudart.so.11.0'; dlerror: libcudart.so.11.0: cannot open shared object file: No such file or directory\n",
      "2023-07-10 17:23:37.261140: I tensorflow/stream_executor/cuda/cudart_stub.cc:29] Ignore above cudart dlerror if you do not have a GPU set up on your machine.\n"
     ]
    }
   ],
   "source": [
    "import tensorflow as tf\n",
    "from IPython.display import Markdown, display\n",
    "\n",
    "def printmd(string):\n",
    "    display(Markdown('# <span style=\"color:red\">'+string+'</span>'))\n",
    "\n",
    "\n",
    "if not tf.__version__ == '2.9.0':\n",
    "    printmd('<<<<<!!!!! ERROR !!!! please upgrade to TensorFlow 2.9.0, or restart your Kernel (Kernel->Restart & Clear Output)>>>>>')"
   ]
  },
  {
   "cell_type": "markdown",
   "metadata": {},
   "source": [
    "Now, we load in all the packages that we use to create the net including the TensorFlow package:\n"
   ]
  },
  {
   "cell_type": "code",
   "execution_count": 24,
   "metadata": {
    "tags": []
   },
   "outputs": [],
   "source": [
    "import tensorflow as tf\n",
    "import numpy as np\n",
    "\n",
    "from PIL import Image\n",
    "# from utils import tile_raster_images\n",
    "import matplotlib.pyplot as plt\n",
    "%matplotlib inline"
   ]
  },
  {
   "cell_type": "markdown",
   "metadata": {},
   "source": [
    "<hr>\n"
   ]
  },
  {
   "cell_type": "markdown",
   "metadata": {},
   "source": [
    "<a id=\"ref2\"></a>\n",
    "<h3>RBM layers</h3>\n",
    "\n",
    "An RBM has two layers. The first layer of the RBM is called the <b>visible</b> (or input layer). Imagine that our toy example, has only vectors with 7 values, so the visible layer must have $V=7$ input nodes. \n",
    "The second layer is the <b>hidden</b> layer, which has $H$ neurons in our case. Each hidden node takes on values of either 0 or 1 (i.e., $h_i = 1$ or $h_i$ = 0), with a probability that is a logistic function of the inputs it receives from the other $V$ visible units, called for example, $p(h_i = 1)$. For our toy sample, we'll use 2 nodes in the hidden layer, so $H = 2$.\n",
    "\n",
    "<center><img src=\"https://ibm.box.com/shared/static/eu26opvcefgls6vnwuo29uwp0nudmokh.png\" alt=\"RBM Model\" style=\"width: 400px;\"></center>\n"
   ]
  },
  {
   "cell_type": "markdown",
   "metadata": {},
   "source": [
    "     \n",
    "\n",
    "Each node in the first layer also has a <b>bias</b>. We will denote the bias as $v_{bias}$, and this single value is shared among the $V$ visible units.\n",
    "\n",
    "The <b>bias</b> of the second is defined similarly as $h_{bias}$, and this single value among the $H$ hidden units.\n"
   ]
  },
  {
   "cell_type": "code",
   "execution_count": 8,
   "metadata": {
    "tags": []
   },
   "outputs": [
    {
     "name": "stderr",
     "output_type": "stream",
     "text": [
      "2023-07-10 17:26:11.812312: W tensorflow/stream_executor/platform/default/dso_loader.cc:64] Could not load dynamic library 'libcuda.so.1'; dlerror: libcuda.so.1: cannot open shared object file: No such file or directory\n",
      "2023-07-10 17:26:11.812413: W tensorflow/stream_executor/cuda/cuda_driver.cc:269] failed call to cuInit: UNKNOWN ERROR (303)\n",
      "2023-07-10 17:26:11.812449: I tensorflow/stream_executor/cuda/cuda_diagnostics.cc:156] kernel driver does not appear to be running on this host (jupyterlab-u11a55an): /proc/driver/nvidia/version does not exist\n",
      "2023-07-10 17:26:11.812882: I tensorflow/core/platform/cpu_feature_guard.cc:193] This TensorFlow binary is optimized with oneAPI Deep Neural Network Library (oneDNN) to use the following CPU instructions in performance-critical operations:  AVX2 AVX512F AVX512_VNNI FMA\n",
      "To enable them in other operations, rebuild TensorFlow with the appropriate compiler flags.\n"
     ]
    }
   ],
   "source": [
    "v_bias = tf.Variable(tf.zeros([7]), tf.float32)\n",
    "h_bias = tf.Variable(tf.zeros([2]), tf.float32)"
   ]
  },
  {
   "cell_type": "markdown",
   "metadata": {},
   "source": [
    "We have to define weights among the input layer and hidden layer nodes. In the weight matrix, the number of rows are equal to the input nodes, and the number of columns are equal to the output nodes. We define a tensor $\\mathbf{W}$ of shape = (7,2), where the number of visible neurons = 7, and the number of hidden neurons = 2. \n"
   ]
  },
  {
   "cell_type": "code",
   "execution_count": 9,
   "metadata": {
    "tags": []
   },
   "outputs": [],
   "source": [
    "W = tf.constant(np.random.normal(loc=0.0, scale=1.0, size=(7, 2)).astype(np.float32))"
   ]
  },
  {
   "cell_type": "markdown",
   "metadata": {},
   "source": [
    "<hr>\n"
   ]
  },
  {
   "cell_type": "markdown",
   "metadata": {},
   "source": [
    "<a id=\"ref3\"></a>\n",
    "<h3>What RBM can do after training?</h3>\n",
    "Think of RBM as a model that has been trained based on images of a dataset of many SUV and sedan cars. Also, imagine that the RBM network has only two hidden nodes, where one node encodes the weight and, and the other encodes the size.  \n",
    "In a sense, the different configurations represent different cars, where one is an SUV and the other is Sedan.  In a training process, through many forward and backward passes, the RBM adjust its weights to send a stronger signal to either the SUV node (0, 1) or the sedan node (1, 0) in the hidden layer, given the pixels of images. Now, given an SUV in hidden layer, which distribution of pixels should we expect? RBM can give you 2 things. First, it encodes your images in hidden layer. Second, it gives you the probability of observing a case, given some hidden values.\n",
    "\n",
    "\n",
    "<h3>The Inference Process</h3>\n",
    "\n",
    "RBM has two phases:\n",
    "<ul>\n",
    "    <li>Forward Pass</li>  \n",
    "    <li>Backward Pass or Reconstruction</li>\n",
    "</ul>\n",
    "\n",
    "<b>Phase 1) Forward pass:</b>  \n",
    "\n",
    "Input one training sample (one image) $\\mathbf{x}$ through all visible nodes, and pass it to all hidden nodes. Processing happens in each node in the hidden layer. This computation begins by making stochastic decisions about whether to transmit that input or not (i.e. to determine the state of each hidden layer).  First, the probability vector is computed using the input feature vector $\\mathbf{x}$, the weight matrix $\\mathbf{W}$, and the bias term $h_{bias}$, as \n",
    "\n",
    "\n",
    "$$p({h_j}|\\mathbf x)= \\sigma( \\sum_{i=1}^V W_{ij} x_i + h_{bias} )$$, \n",
    "\n",
    "where $\\sigma(z) = (1+e^{-z})^{-1}$ is the logistic function.\n",
    "\n",
    "\n",
    "So, what does $p({h_j})$ represent? It is the <b>probability distribution</b> of the hidden units. That is, RBM uses inputs $x_i$ to make predictions about hidden node activations. For example, imagine that the hidden node activation values are [0.51 0.84] for the first training item. It tells you that the conditional probability for each hidden neuron for Phase 1 is: \n",
    "\n",
    "$$p(h_{1} = 1|\\mathbf{v}) = 0.51$$\n",
    "$$p(h_{2} = 1|\\mathbf{v}) = 0.84$$\n",
    "\n",
    "As a result, for each row in the training set, vector of probabilities is generated.  In TensorFlow, this is referred to as a `tensor` with a shape of (1,2). \n",
    "\n",
    "We then turn unit $j$ with probability $p(h_{j}|\\mathbf{v})$, and turn it off with probability $1 - p(h_{j}|\\mathbf{v})$ by generating a uniform random number vector $\\mathbf{\\xi}$, and comparing it to the activation probability as \n",
    "\n",
    "<center>If $\\xi_j>p(h_{j}|\\mathbf{v})$, then $h_j=1$, else $h_j=0$.</center>\n",
    "\n",
    "\n",
    "Therefore, the conditional probability of a configuration of $\\mathbf{h}$ given $\\mathbf{v}$ (for a training sample) is:\n",
    "\n",
    "$$p(\\mathbf{h} \\mid \\mathbf{v}) = \\prod_{j=1}^H p(h_j \\mid \\mathbf{v})$$\n",
    "\n",
    "\n",
    "where $H$ is the number of hidden units.\n",
    "\n"
   ]
  },
  {
   "cell_type": "markdown",
   "metadata": {},
   "source": [
    "Before we go further, let's look at a toy example for one case out of all input. Assume that we have a trained RBM, and a very simple input vector, such as [1.0, 0.0, 0.0, 1.0, 0.0, 0.0, 0.0].   \n",
    "Let's see what the output of forward pass would look like:\n"
   ]
  },
  {
   "cell_type": "code",
   "execution_count": 10,
   "metadata": {
    "tags": []
   },
   "outputs": [
    {
     "name": "stdout",
     "output_type": "stream",
     "text": [
      "Input:  tf.Tensor([[1. 0. 0. 1. 0. 0. 0.]], shape=(1, 7), dtype=float32)\n",
      "hb:  tf.Tensor([0.1 0.1], shape=(2,), dtype=float32)\n",
      "w:  tf.Tensor(\n",
      "[[ 0.5173355   1.3141943 ]\n",
      " [-0.6631539   0.4373681 ]\n",
      " [-0.2715933  -0.6916483 ]\n",
      " [ 0.33352134 -1.4391335 ]\n",
      " [ 0.24540415  0.15921013]\n",
      " [ 0.00676481 -0.00240178]\n",
      " [ 0.23665108 -0.19115986]], shape=(7, 2), dtype=float32)\n",
      "p(h|v):  tf.Tensor([[0.7212875  0.49376553]], shape=(1, 2), dtype=float32)\n",
      "h0 states: tf.Tensor([[0. 0.]], shape=(1, 2), dtype=float32)\n"
     ]
    }
   ],
   "source": [
    "X = tf.constant([[1.0, 0.0, 0.0, 1.0, 0.0, 0.0, 0.0]], tf.float32)\n",
    "\n",
    "v_state = X\n",
    "print (\"Input: \", v_state)\n",
    "\n",
    "h_bias = tf.constant([0.1, 0.1])\n",
    "print (\"hb: \", h_bias)\n",
    "print (\"w: \", W)\n",
    "\n",
    "# Calculate the probabilities of turning the hidden units on:\n",
    "h_prob = tf.nn.sigmoid(tf.matmul(v_state, W) + h_bias)  #probabilities of the hidden units\n",
    "print (\"p(h|v): \", h_prob)\n",
    "\n",
    "# Draw samples from the distribution:\n",
    "h_state = tf.nn.relu(tf.sign(h_prob - tf.random.uniform(tf.shape(h_prob)))) #states\n",
    "print (\"h0 states:\", h_state)"
   ]
  },
  {
   "cell_type": "markdown",
   "metadata": {},
   "source": [
    "<b>Phase 2) Backward Pass (Reconstruction):</b>\n",
    "The RBM reconstructs data by making several forward and backward passes between the visible and hidden layers.\n",
    "\n",
    "So, in the second phase (i.e. reconstruction phase), the samples from the hidden layer (i.e. $\\mathbf h$) becomes the input in the backward pass. The same weight matrix and visible layer biases are used to passed to the sigmoid function. The reproduced output is a reconstruction which is an approximation of the original input.\n"
   ]
  },
  {
   "cell_type": "code",
   "execution_count": 11,
   "metadata": {
    "tags": []
   },
   "outputs": [
    {
     "name": "stdout",
     "output_type": "stream",
     "text": [
      "b:  tf.Tensor([0.1 0.2 0.1 0.1 0.1 0.2 0.1], shape=(7,), dtype=float32)\n",
      "p(vi∣h):  tf.Tensor([[0.5249792 0.549834  0.5249792 0.5249792 0.5249792 0.549834  0.5249792]], shape=(1, 7), dtype=float32)\n",
      "v probability states:  tf.Tensor([[1. 1. 1. 0. 0. 0. 1.]], shape=(1, 7), dtype=float32)\n"
     ]
    }
   ],
   "source": [
    "vb = tf.constant([0.1, 0.2, 0.1, 0.1, 0.1, 0.2, 0.1])\n",
    "print (\"b: \", vb)\n",
    "v_prob = tf.nn.sigmoid(tf.matmul(h_state, tf.transpose(W)) + vb)\n",
    "print (\"p(vi∣h): \", v_prob)\n",
    "v_state = tf.nn.relu(tf.sign(v_prob - tf.random.uniform(tf.shape(v_prob))))\n",
    "print (\"v probability states: \", v_state)"
   ]
  },
  {
   "cell_type": "markdown",
   "metadata": {},
   "source": [
    "RBM learns a probability distribution over the input, and then, after being trained, the RBM can generate new samples from the learned probability distribution. As you know, <b>probability distribution</b>, is a mathematical function that provides the probabilities of occurrence of different possible outcomes in an experiment.\n",
    "\n",
    "The (conditional) probability distribution over the visible units v is given by\n",
    "\n",
    "$$p(\\mathbf{v} \\mid \\mathbf{h}) = \\prod_{i=1}^V p(v_i \\mid \\mathbf{h}),$$\n",
    "\n",
    "\n",
    "where,\n",
    "\n",
    "$$p(v_i \\mid \\mathbf{h}) = \\sigma\\left(\\sum_{j=1}^H W_{ji} h_j + v_{bias} \\right)$$\n",
    "\n",
    "so, given current state of hidden units and weights, what is the probability of generating [1. 0. 0. 1. 0. 0. 0.] in reconstruction phase, based on the above <b>probability distribution</b> function?\n"
   ]
  },
  {
   "cell_type": "code",
   "execution_count": 12,
   "metadata": {
    "tags": []
   },
   "outputs": [
    {
     "name": "stdout",
     "output_type": "stream",
     "text": [
      "input X: [[1. 0. 0. 1. 0. 0. 0.]]\n",
      "probablity vector: [0.5249792 0.549834  0.5249792 0.5249792 0.5249792 0.549834  0.5249792]\n",
      "probability of generating X:  0.005986424\n"
     ]
    }
   ],
   "source": [
    "inp = X\n",
    "print(\"input X:\" , inp.numpy())\n",
    "\n",
    "print(\"probablity vector:\" , v_prob[0].numpy())\n",
    "v_probability = 1\n",
    "\n",
    "for elm, p in zip(inp[0],v_prob[0]) :\n",
    "    if elm ==1:\n",
    "        v_probability *= p\n",
    "    else:\n",
    "        v_probability *= (1-p)\n",
    "\n",
    "print(\"probability of generating X: \" , v_probability.numpy())"
   ]
  },
  {
   "cell_type": "markdown",
   "metadata": {},
   "source": [
    "How similar are vectors $\\mathbf{x}$ and $\\mathbf{v}$? Of course, the reconstructed values most likely will not look anything like the input vector, because our network has not been trained yet. Our objective is to train the model in such a way that the input vector and reconstructed vector to be same. Therefore, based on how different the input values look to the ones that we just reconstructed, the weights are adjusted. \n"
   ]
  },
  {
   "cell_type": "markdown",
   "metadata": {},
   "source": [
    "<hr>\n"
   ]
  },
  {
   "cell_type": "markdown",
   "metadata": {},
   "source": [
    "\n",
    "<h2>MNIST</h2>\n"
   ]
  },
  {
   "cell_type": "markdown",
   "metadata": {},
   "source": [
    "We will be using the MNIST dataset to practice the usage of RBMs. The following cell loads the MNIST dataset.\n"
   ]
  },
  {
   "cell_type": "code",
   "execution_count": 13,
   "metadata": {
    "tags": []
   },
   "outputs": [],
   "source": [
    "#loading training and test data\n",
    "mnist = tf.keras.datasets.mnist\n",
    "(trX, trY), (teX, teY) = mnist.load_data()\n",
    "\n",
    "# showing an example of the Flatten class and operation\n",
    "from tensorflow.keras.layers import Flatten\n",
    "flatten = Flatten(dtype='float32')\n",
    "trX = flatten(trX/255.0)\n",
    "trY = flatten(trY/255.0)"
   ]
  },
  {
   "cell_type": "markdown",
   "metadata": {},
   "source": [
    "Lets look at the dimension of the images.\n"
   ]
  },
  {
   "cell_type": "markdown",
   "metadata": {},
   "source": [
    "MNIST images have 784 pixels, so the visible layer must have 784 input nodes.  For our case, we'll use 50 nodes in the hidden layer, so i = 50.\n"
   ]
  },
  {
   "cell_type": "code",
   "execution_count": 14,
   "metadata": {
    "tags": []
   },
   "outputs": [],
   "source": [
    "vb = tf.Variable(tf.zeros([784]), tf.float32)\n",
    "hb = tf.Variable(tf.zeros([50]), tf.float32)"
   ]
  },
  {
   "cell_type": "markdown",
   "metadata": {},
   "source": [
    "Let $\\mathbf W$ be the Tensor of 784x50 (784 - number of visible neurons, 50 - number of hidden neurons) that represents weights between the neurons. \n"
   ]
  },
  {
   "cell_type": "code",
   "execution_count": 15,
   "metadata": {
    "tags": []
   },
   "outputs": [],
   "source": [
    "W = tf.Variable(tf.zeros([784,50]), tf.float32)"
   ]
  },
  {
   "cell_type": "markdown",
   "metadata": {},
   "source": [
    "Lets define the visible layer:\n"
   ]
  },
  {
   "cell_type": "code",
   "execution_count": 16,
   "metadata": {
    "tags": []
   },
   "outputs": [
    {
     "data": {
      "text/plain": [
       "<tf.Tensor: shape=(1, 50), dtype=float32, numpy=\n",
       "array([[0., 0., 0., 0., 0., 0., 0., 0., 0., 0., 0., 0., 0., 0., 0., 0.,\n",
       "        0., 0., 0., 0., 0., 0., 0., 0., 0., 0., 0., 0., 0., 0., 0., 0.,\n",
       "        0., 0., 0., 0., 0., 0., 0., 0., 0., 0., 0., 0., 0., 0., 0., 0.,\n",
       "        0., 0.]], dtype=float32)>"
      ]
     },
     "execution_count": 16,
     "metadata": {},
     "output_type": "execute_result"
    }
   ],
   "source": [
    "v0_state = tf.Variable(tf.zeros([784]), tf.float32)\n",
    "\n",
    "#testing to see if the matrix product works\n",
    "tf.matmul( [v0_state], W)"
   ]
  },
  {
   "cell_type": "markdown",
   "metadata": {},
   "source": [
    "Now, we can define hidden layer:\n"
   ]
  },
  {
   "cell_type": "code",
   "execution_count": 17,
   "metadata": {
    "tags": []
   },
   "outputs": [
    {
     "name": "stdout",
     "output_type": "stream",
     "text": [
      "h0_state shape:  tf.Tensor([ 1 50], shape=(2,), dtype=int32)\n",
      "first 15 hidden states:  tf.Tensor([0. 0. 0. 0. 1. 0. 0. 0. 1. 0. 1. 1. 0. 0. 0.], shape=(15,), dtype=float32)\n"
     ]
    }
   ],
   "source": [
    "#computing the hidden nodes probability vector and checking shape\n",
    "h0_prob = tf.nn.sigmoid(tf.matmul([v0_state], W) + hb)  #probabilities of the hidden units\n",
    "print(\"h0_state shape: \" , tf.shape(h0_prob))\n",
    "\n",
    "#defining a function to return only the generated hidden states \n",
    "def hidden_layer(v0_state, W, hb):\n",
    "    h0_prob = tf.nn.sigmoid(tf.matmul([v0_state], W) + hb)  #probabilities of the hidden units\n",
    "    h0_state = tf.nn.relu(tf.sign(h0_prob - tf.random.uniform(tf.shape(h0_prob)))) #sample_h_given_X\n",
    "    return h0_state\n",
    "\n",
    "\n",
    "h0_state = hidden_layer(v0_state, W, hb)\n",
    "print(\"first 15 hidden states: \", h0_state[0][0:15])"
   ]
  },
  {
   "cell_type": "markdown",
   "metadata": {},
   "source": [
    "Now, we define reconstruction part:\n"
   ]
  },
  {
   "cell_type": "code",
   "execution_count": 18,
   "metadata": {
    "tags": []
   },
   "outputs": [
    {
     "name": "stdout",
     "output_type": "stream",
     "text": [
      "hidden state shape:  (1, 50)\n",
      "v0 state shape:   (784,)\n",
      "v1 state shape:   (784,)\n"
     ]
    }
   ],
   "source": [
    "def reconstructed_output(h0_state, W, vb):\n",
    "    v1_prob = tf.nn.sigmoid(tf.matmul(h0_state, tf.transpose(W)) + vb) \n",
    "    v1_state = tf.nn.relu(tf.sign(v1_prob - tf.random.uniform(tf.shape(v1_prob)))) #sample_v_given_h\n",
    "    return v1_state[0]\n",
    "\n",
    "v1_state = reconstructed_output(h0_state, W, vb)\n",
    "print(\"hidden state shape: \", h0_state.shape)\n",
    "print(\"v0 state shape:  \", v0_state.shape)\n",
    "print(\"v1 state shape:  \", v1_state.shape)"
   ]
  },
  {
   "cell_type": "markdown",
   "metadata": {},
   "source": [
    "<h3>What is the objective function?</h3>\n",
    "\n",
    "<b>Goal</b>: Maximize the likelihood of our data being drawn from that distribution\n",
    "\n",
    "<b>Calculate error:</b>  \n",
    "In each epoch, we compute the \"error\" as a sum of the squared difference between step 1 and step n,\n",
    "e.g the error shows the difference between the data and its reconstruction.\n",
    "\n",
    "<b>Note:</b> tf.reduce_mean computes the mean of elements across dimensions of a tensor.\n"
   ]
  },
  {
   "cell_type": "code",
   "execution_count": 19,
   "metadata": {
    "tags": []
   },
   "outputs": [
    {
     "name": "stdout",
     "output_type": "stream",
     "text": [
      "error 0.5127551\n"
     ]
    }
   ],
   "source": [
    "def error(v0_state, v1_state):\n",
    "    return tf.reduce_mean(tf.square(v0_state - v1_state))\n",
    "\n",
    "err = tf.reduce_mean(tf.square(v0_state - v1_state))\n",
    "print(\"error\" , err.numpy())"
   ]
  },
  {
   "cell_type": "markdown",
   "metadata": {},
   "source": [
    "<a id=\"ref4\"></a>\n",
    "<h3>Training the Model</h3>\n",
    "<b>Warning...</b> The following part is math-heavy, but you can skip it if you just want to run the cells in the next section.\n",
    "\n",
    "As mentioned, we want to give a high probability to the input data we train on. So, in order to train an RBM, we have to maximize the product of probabilities assigned to all rows $\\mathbf{v}$ (images) in the training set $\\mathbf{V}$ (a matrix, where each row of it is treated as a visible vector $\\mathbf{v}$)\n",
    "\n",
    "$$\\arg \\max_W \\prod_{\\mathbf{v}\\in\\mathbf{V}_T} p(\\mathbf{v})$$\n",
    "\n",
    "\n",
    "which is equivalent to maximizing the expectation of the log probability, given as\n",
    "\n",
    "$$\\arg\\max_W\\left[ \\mathbb{E} \\left(\\prod_{\\mathbf v\\in \\mathbf V}\\text{log} \\left(p(\\mathbf v)\\right) \\right) \\right].$$\n",
    "\n",
    "\n",
    "So, we have to update the weights $W_{ij}$  to increase $p(\\mathbf{v})$ for all $\\mathbf{v}$ in our training data during training. So we have to calculate the derivative:\n",
    "\n",
    "\n",
    "$$\\frac{\\partial \\log p(\\mathbf v)}{\\partial W_{ij}}$$\n",
    "\n",
    "This cannot be easily done by typical <b>gradient descent (SGD)</b>, so we can use another approach, which has 2 steps:\n",
    "<ol>\n",
    "    <li>Gibbs Sampling</li>\n",
    "    <li>Contrastive Divergence</li>\n",
    "</ol>    \n",
    "    \n",
    "<h3>Gibbs Sampling</h3>   \n",
    "\n",
    "<h4>Gibbs Sampling Step 1</h4> \n",
    "Given an input vector $\\mathbf{v}$, we are using $p(\\mathbf{h}|\\mathbf{v})$ to predict the hidden values $\\mathbf{h}$. \n",
    "  $$p({h_j}|\\mathbf v)= \\sigma\\left(\\sum_{i=1}^V W_{ij} v_i + h_{bias} \\right)$$\n",
    "The samples are generated from this distribution by generating the uniform random variate vector $\\mathbf{\\xi} \\sim U[0,1]$ of length $H$ and comparing to the computed probabilities as\n",
    "\n",
    "\n",
    "<center>If $\\xi_j>p(h_{j}|\\mathbf{v})$, then $h_j=1$, else $h_j=0$.</center>\n",
    "\n",
    "\n",
    "<h4>Gibbs Sampling Step 2</h4> \n",
    "Then, knowing the hidden values, we use $p(\\mathbf v| \\mathbf h)$ for reconstructing of new input values v. \n",
    "\n",
    "   $$p({v_i}|\\mathbf h)= \\sigma\\left(\\sum_{j=1}^H W^{T}_{ij} h_j + v_{bias} \\right)$$\n",
    "\n",
    "\n",
    "The samples are generated from this distribution by generating a uniform random variate vector $\\mathbf{\\xi} \\sim U[0,1]$ of length $V$ and comparing to the computed probabilities as\n",
    "\n",
    "<center>If $\\xi_i>p(v_{i}|\\mathbf{h})$, then $v_i=1$, else $v_i=0$.</center>\n",
    "\n",
    "Let vectors $\\mathbf v_k$ and $\\mathbf h_k$ be for the $k$th iteration.  In general, the $kth$ state is generrated as: \n",
    "\n",
    "\n",
    "    \n",
    "<b>Iteration</b> $k$: \n",
    "\n",
    "$$\\mathbf v_{k-1} \\Rightarrow p(\\mathbf h_{k-1}|\\mathbf v_{k-1})\\Rightarrow \\mathbf h_{k-1}\\Rightarrow p(\\mathbf v_{k}|\\mathbf h_{k-1})\\Rightarrow \\mathbf v_k$$       \n",
    "    \n",
    "<h3>Contrastive Divergence (CD-k)</h3>\n",
    "The update of the weight matrix is done during the Contrastive Divergence step. \n",
    "\n",
    "Vectors v0 and vk are used to calculate the activation probabilities for hidden values h0 and hk. The difference between the outer products of those probabilities with input vectors v0 and vk results in the update matrix:\n",
    "\n",
    "\n",
    "$$\\Delta \\mathbf W_k =\\mathbf v_k \\otimes \\mathbf h_k - \\mathbf v_{k-1} \\otimes \\mathbf h_{k-1}$$\n",
    "\n",
    "Contrastive Divergence is actually matrix of values that is computed and used to adjust values of the $\\mathbf W$ matrix. Changing $\\mathbf W$ incrementally leads to training of the  $\\mathbf W$ values. Then, on each step (epoch), $\\mathbf W$ is updated using the following:\n",
    "\n",
    "$$\\mathbf W_k = \\mathbf W_{k-1} + \\alpha * \\Delta \\mathbf W_k$$\n",
    "\n",
    "\n",
    "\n",
    "Reconstruction steps:\n",
    "<ul>\n",
    "    <li> Get one data point from data set, like <i>x</i>, and pass it through the following steps:</li>\n",
    "    \n",
    "<b>Iteration</b> $k=1$: \n",
    "    \n",
    "Sampling (starting with input image)\n",
    "    $$\\mathbf x = \\mathbf v_0 \\Rightarrow p(\\mathbf h_0|\\mathbf v_0)\\Rightarrow \\mathbf h_0 \\Rightarrow p(\\mathbf v_1|\\mathbf h_0)\\Rightarrow \\mathbf v_1$$   \n",
    "    followed by the CD-k step\n",
    "$$\\Delta \\mathbf W_1 =\\mathbf v_1 \\otimes \\mathbf h_1 - \\mathbf v_{0} \\otimes \\mathbf h_{0}$$     \n",
    "$$\\mathbf W_1 = \\mathbf W_{0} + \\alpha * \\Delta \\mathbf W_1$$ \n",
    " \n",
    "<li> $\\mathbf v_1$ is the reconstruction of $\\mathbf x$ sent to the next iteration).</li>\n",
    "\n",
    "<b>Iteration</b> $k=2$: \n",
    "\n",
    "Sampling (starting with $\\mathbf v_1$)\n",
    "\n",
    "$$\\mathbf v_1 \\Rightarrow p(\\mathbf h_1|\\mathbf v_1)\\Rightarrow \\mathbf h_1\\Rightarrow p(\\mathbf v_2|\\mathbf h_1)\\Rightarrow \\mathbf v_2$$   \n",
    "\n",
    "followed by the CD-k step\n",
    "$$\\Delta \\mathbf W_2 =\\mathbf v_2 \\otimes \\mathbf h_2 - \\mathbf v_{1} \\otimes \\mathbf h_{1}$$     \n",
    "$$\\mathbf W_2 = \\mathbf W_{1} + \\alpha * \\Delta \\mathbf W_2$$ \n",
    "\n",
    "<li> $\\mathbf v_2$ is the reconstruction of $\\mathbf v_1$ sent to the next iteration).</li>    \n",
    "      \n",
    "<b>Iteration</b> $k=K$:\n",
    "    \n",
    "Sampling (starting with $\\mathbf v_{K-1}$)\n",
    "\n",
    "$$\\mathbf v_{K-1} \\Rightarrow p(\\mathbf h_{K-1}|\\mathbf v_{K-1})\\Rightarrow \\mathbf h_{K-1}\\Rightarrow p(\\mathbf v_K|\\mathbf h_{K-1})\\Rightarrow \\mathbf v_K$$   \n",
    "\n",
    "followed by the CD-k step\n",
    "$$\\Delta \\mathbf W_K =\\mathbf v_K \\otimes \\mathbf h_K - \\mathbf v_{K-1} \\otimes \\mathbf h_{K-1}$$     \n",
    "$$\\mathbf W_K = \\mathbf W_{K-1} + \\alpha * \\Delta \\mathbf W_K$$ \n",
    "    \n",
    "<b>What is $\\alpha$?</b>  \n",
    "Here, alpha is some small step size, and is also known as the \"learning rate\".\n"
   ]
  },
  {
   "cell_type": "markdown",
   "metadata": {},
   "source": [
    "$K$ is adjustable, and good performance can be achieved with $K=1$, so that we just take one set of sampling steps per image.\n"
   ]
  },
  {
   "cell_type": "code",
   "execution_count": 20,
   "metadata": {
    "tags": []
   },
   "outputs": [],
   "source": [
    "h1_prob = tf.nn.sigmoid(tf.matmul([v1_state], W) + hb)\n",
    "h1_state = tf.nn.relu(tf.sign(h1_prob - tf.random.uniform(tf.shape(h1_prob)))) #sample_h_given_X"
   ]
  },
  {
   "cell_type": "markdown",
   "metadata": {},
   "source": [
    "Lets look at the error of the first run:\n"
   ]
  },
  {
   "cell_type": "code",
   "execution_count": 21,
   "metadata": {
    "tags": []
   },
   "outputs": [
    {
     "name": "stdout",
     "output_type": "stream",
     "text": [
      "error:  tf.Tensor(0.5127551, shape=(), dtype=float32)\n"
     ]
    }
   ],
   "source": [
    "print(\"error: \", error(v0_state, v1_state))"
   ]
  },
  {
   "cell_type": "code",
   "execution_count": 22,
   "metadata": {
    "tags": []
   },
   "outputs": [
    {
     "name": "stdout",
     "output_type": "stream",
     "text": [
      "Epoch: 0 batch #: 1  of 300 sample #: 199 reconstruction error: 0.166784\n",
      "Epoch: 0 batch #: 2  of 300 sample #: 199 reconstruction error: 0.195721\n",
      "Epoch: 0 batch #: 3  of 300 sample #: 199 reconstruction error: 0.123196\n",
      "Epoch: 0 batch #: 4  of 300 sample #: 199 reconstruction error: 0.115547\n",
      "Epoch: 0 batch #: 5  of 300 sample #: 199 reconstruction error: 0.114168\n",
      "Epoch: 0 batch #: 6  of 300 sample #: 199 reconstruction error: 0.178441\n",
      "Epoch: 0 batch #: 7  of 300 sample #: 199 reconstruction error: 0.101814\n",
      "Epoch: 0 batch #: 8  of 300 sample #: 199 reconstruction error: 0.115342\n",
      "Epoch: 0 batch #: 9  of 300 sample #: 199 reconstruction error: 0.090613\n",
      "Epoch: 0 batch #: 10  of 300 sample #: 199 reconstruction error: 0.182939\n",
      "Epoch: 0 batch #: 11  of 300 sample #: 199 reconstruction error: 0.103661\n",
      "Epoch: 0 batch #: 12  of 300 sample #: 199 reconstruction error: 0.144459\n",
      "Epoch: 0 batch #: 13  of 300 sample #: 199 reconstruction error: 0.054535\n",
      "Epoch: 0 batch #: 14  of 300 sample #: 199 reconstruction error: 0.092813\n",
      "Epoch: 0 batch #: 15  of 300 sample #: 199 reconstruction error: 0.118953\n",
      "Epoch: 0 batch #: 16  of 300 sample #: 199 reconstruction error: 0.103321\n",
      "Epoch: 0 batch #: 17  of 300 sample #: 199 reconstruction error: 0.065419\n",
      "Epoch: 0 batch #: 18  of 300 sample #: 199 reconstruction error: 0.121140\n",
      "Epoch: 0 batch #: 19  of 300 sample #: 199 reconstruction error: 0.149089\n",
      "Epoch: 0 batch #: 20  of 300 sample #: 199 reconstruction error: 0.094813\n",
      "Epoch: 0 batch #: 21  of 300 sample #: 199 reconstruction error: 0.086837\n",
      "Epoch: 0 batch #: 22  of 300 sample #: 199 reconstruction error: 0.087283\n",
      "Epoch: 0 batch #: 23  of 300 sample #: 199 reconstruction error: 0.101816\n",
      "Epoch: 0 batch #: 24  of 300 sample #: 199 reconstruction error: 0.118221\n",
      "Epoch: 0 batch #: 25  of 300 sample #: 199 reconstruction error: 0.105317\n",
      "Epoch: 0 batch #: 26  of 300 sample #: 199 reconstruction error: 0.095225\n",
      "Epoch: 0 batch #: 27  of 300 sample #: 199 reconstruction error: 0.102466\n",
      "Epoch: 0 batch #: 28  of 300 sample #: 199 reconstruction error: 0.084296\n",
      "Epoch: 0 batch #: 29  of 300 sample #: 199 reconstruction error: 0.088401\n",
      "Epoch: 0 batch #: 30  of 300 sample #: 199 reconstruction error: 0.073362\n",
      "Epoch: 0 batch #: 31  of 300 sample #: 199 reconstruction error: 0.080559\n",
      "Epoch: 0 batch #: 32  of 300 sample #: 199 reconstruction error: 0.110000\n",
      "Epoch: 0 batch #: 33  of 300 sample #: 199 reconstruction error: 0.060273\n",
      "Epoch: 0 batch #: 34  of 300 sample #: 199 reconstruction error: 0.079147\n",
      "Epoch: 0 batch #: 35  of 300 sample #: 199 reconstruction error: 0.067277\n",
      "Epoch: 0 batch #: 36  of 300 sample #: 199 reconstruction error: 0.091006\n",
      "Epoch: 0 batch #: 37  of 300 sample #: 199 reconstruction error: 0.062843\n",
      "Epoch: 0 batch #: 38  of 300 sample #: 199 reconstruction error: 0.069058\n",
      "Epoch: 0 batch #: 39  of 300 sample #: 199 reconstruction error: 0.093057\n",
      "Epoch: 0 batch #: 40  of 300 sample #: 199 reconstruction error: 0.109778\n",
      "Epoch: 0 batch #: 41  of 300 sample #: 199 reconstruction error: 0.061281\n",
      "Epoch: 0 batch #: 42  of 300 sample #: 199 reconstruction error: 0.075653\n",
      "Epoch: 0 batch #: 43  of 300 sample #: 199 reconstruction error: 0.143506\n",
      "Epoch: 0 batch #: 44  of 300 sample #: 199 reconstruction error: 0.086316\n",
      "Epoch: 0 batch #: 45  of 300 sample #: 199 reconstruction error: 0.060552\n",
      "Epoch: 0 batch #: 46  of 300 sample #: 199 reconstruction error: 0.028605\n",
      "Epoch: 0 batch #: 47  of 300 sample #: 199 reconstruction error: 0.029761\n",
      "Epoch: 0 batch #: 48  of 300 sample #: 199 reconstruction error: 0.037310\n",
      "Epoch: 0 batch #: 49  of 300 sample #: 199 reconstruction error: 0.138108\n",
      "Epoch: 0 batch #: 50  of 300 sample #: 199 reconstruction error: 0.050728\n",
      "Epoch: 0 batch #: 51  of 300 sample #: 199 reconstruction error: 0.055113\n",
      "Epoch: 0 batch #: 52  of 300 sample #: 199 reconstruction error: 0.029838\n",
      "Epoch: 0 batch #: 53  of 300 sample #: 199 reconstruction error: 0.099374\n",
      "Epoch: 0 batch #: 54  of 300 sample #: 199 reconstruction error: 0.049288\n",
      "Epoch: 0 batch #: 55  of 300 sample #: 199 reconstruction error: 0.108384\n",
      "Epoch: 0 batch #: 56  of 300 sample #: 199 reconstruction error: 0.059282\n",
      "Epoch: 0 batch #: 57  of 300 sample #: 199 reconstruction error: 0.048590\n",
      "Epoch: 0 batch #: 58  of 300 sample #: 199 reconstruction error: 0.081020\n",
      "Epoch: 0 batch #: 59  of 300 sample #: 199 reconstruction error: 0.063004\n",
      "Epoch: 0 batch #: 60  of 300 sample #: 199 reconstruction error: 0.109971\n",
      "Epoch: 0 batch #: 61  of 300 sample #: 199 reconstruction error: 0.064200\n",
      "Epoch: 0 batch #: 62  of 300 sample #: 199 reconstruction error: 0.069649\n",
      "Epoch: 0 batch #: 63  of 300 sample #: 199 reconstruction error: 0.043956\n",
      "Epoch: 0 batch #: 64  of 300 sample #: 199 reconstruction error: 0.089034\n",
      "Epoch: 0 batch #: 65  of 300 sample #: 199 reconstruction error: 0.094613\n",
      "Epoch: 0 batch #: 66  of 300 sample #: 199 reconstruction error: 0.063227\n",
      "Epoch: 0 batch #: 67  of 300 sample #: 199 reconstruction error: 0.055862\n",
      "Epoch: 0 batch #: 68  of 300 sample #: 199 reconstruction error: 0.065099\n",
      "Epoch: 0 batch #: 69  of 300 sample #: 199 reconstruction error: 0.080671\n",
      "Epoch: 0 batch #: 70  of 300 sample #: 199 reconstruction error: 0.088175\n",
      "Epoch: 0 batch #: 71  of 300 sample #: 199 reconstruction error: 0.074529\n",
      "Epoch: 0 batch #: 72  of 300 sample #: 199 reconstruction error: 0.065822\n",
      "Epoch: 0 batch #: 73  of 300 sample #: 199 reconstruction error: 0.086508\n",
      "Epoch: 0 batch #: 74  of 300 sample #: 199 reconstruction error: 0.093039\n",
      "Epoch: 0 batch #: 75  of 300 sample #: 199 reconstruction error: 0.044251\n",
      "Epoch: 0 batch #: 76  of 300 sample #: 199 reconstruction error: 0.082208\n",
      "Epoch: 0 batch #: 77  of 300 sample #: 199 reconstruction error: 0.105991\n",
      "Epoch: 0 batch #: 78  of 300 sample #: 199 reconstruction error: 0.102689\n",
      "Epoch: 0 batch #: 79  of 300 sample #: 199 reconstruction error: 0.106991\n",
      "Epoch: 0 batch #: 80  of 300 sample #: 199 reconstruction error: 0.029370\n",
      "Epoch: 0 batch #: 81  of 300 sample #: 199 reconstruction error: 0.063429\n",
      "Epoch: 0 batch #: 82  of 300 sample #: 199 reconstruction error: 0.047768\n",
      "Epoch: 0 batch #: 83  of 300 sample #: 199 reconstruction error: 0.073234\n",
      "Epoch: 0 batch #: 84  of 300 sample #: 199 reconstruction error: 0.081914\n",
      "Epoch: 0 batch #: 85  of 300 sample #: 199 reconstruction error: 0.058883\n",
      "Epoch: 0 batch #: 86  of 300 sample #: 199 reconstruction error: 0.097313\n",
      "Epoch: 0 batch #: 87  of 300 sample #: 199 reconstruction error: 0.074915\n",
      "Epoch: 0 batch #: 88  of 300 sample #: 199 reconstruction error: 0.024355\n",
      "Epoch: 0 batch #: 89  of 300 sample #: 199 reconstruction error: 0.048749\n",
      "Epoch: 0 batch #: 90  of 300 sample #: 199 reconstruction error: 0.079446\n",
      "Epoch: 0 batch #: 91  of 300 sample #: 199 reconstruction error: 0.075902\n",
      "Epoch: 0 batch #: 92  of 300 sample #: 199 reconstruction error: 0.055149\n",
      "Epoch: 0 batch #: 93  of 300 sample #: 199 reconstruction error: 0.112126\n",
      "Epoch: 0 batch #: 94  of 300 sample #: 199 reconstruction error: 0.102795\n",
      "Epoch: 0 batch #: 95  of 300 sample #: 199 reconstruction error: 0.054321\n",
      "Epoch: 0 batch #: 96  of 300 sample #: 199 reconstruction error: 0.053655\n",
      "Epoch: 0 batch #: 97  of 300 sample #: 199 reconstruction error: 0.098862\n",
      "Epoch: 0 batch #: 98  of 300 sample #: 199 reconstruction error: 0.081981\n",
      "Epoch: 0 batch #: 99  of 300 sample #: 199 reconstruction error: 0.065189\n",
      "Epoch: 0 batch #: 100  of 300 sample #: 199 reconstruction error: 0.112064\n",
      "Epoch: 0 batch #: 101  of 300 sample #: 199 reconstruction error: 0.080110\n",
      "Epoch: 0 batch #: 102  of 300 sample #: 199 reconstruction error: 0.089135\n",
      "Epoch: 0 batch #: 103  of 300 sample #: 199 reconstruction error: 0.058577\n",
      "Epoch: 0 batch #: 104  of 300 sample #: 199 reconstruction error: 0.073218\n",
      "Epoch: 0 batch #: 105  of 300 sample #: 199 reconstruction error: 0.067454\n",
      "Epoch: 0 batch #: 106  of 300 sample #: 199 reconstruction error: 0.127976\n",
      "Epoch: 0 batch #: 107  of 300 sample #: 199 reconstruction error: 0.151883\n",
      "Epoch: 0 batch #: 108  of 300 sample #: 199 reconstruction error: 0.071663\n",
      "Epoch: 0 batch #: 109  of 300 sample #: 199 reconstruction error: 0.103237\n",
      "Epoch: 0 batch #: 110  of 300 sample #: 199 reconstruction error: 0.062338\n",
      "Epoch: 0 batch #: 111  of 300 sample #: 199 reconstruction error: 0.099987\n",
      "Epoch: 0 batch #: 112  of 300 sample #: 199 reconstruction error: 0.032317\n",
      "Epoch: 0 batch #: 113  of 300 sample #: 199 reconstruction error: 0.090020\n",
      "Epoch: 0 batch #: 114  of 300 sample #: 199 reconstruction error: 0.080121\n",
      "Epoch: 0 batch #: 115  of 300 sample #: 199 reconstruction error: 0.052723\n",
      "Epoch: 0 batch #: 116  of 300 sample #: 199 reconstruction error: 0.051951\n",
      "Epoch: 0 batch #: 117  of 300 sample #: 199 reconstruction error: 0.041577\n",
      "Epoch: 0 batch #: 118  of 300 sample #: 199 reconstruction error: 0.077032\n",
      "Epoch: 0 batch #: 119  of 300 sample #: 199 reconstruction error: 0.109137\n",
      "Epoch: 0 batch #: 120  of 300 sample #: 199 reconstruction error: 0.078037\n",
      "Epoch: 0 batch #: 121  of 300 sample #: 199 reconstruction error: 0.058479\n",
      "Epoch: 0 batch #: 122  of 300 sample #: 199 reconstruction error: 0.080734\n",
      "Epoch: 0 batch #: 123  of 300 sample #: 199 reconstruction error: 0.072381\n",
      "Epoch: 0 batch #: 124  of 300 sample #: 199 reconstruction error: 0.063195\n",
      "Epoch: 0 batch #: 125  of 300 sample #: 199 reconstruction error: 0.050358\n",
      "Epoch: 0 batch #: 126  of 300 sample #: 199 reconstruction error: 0.100228\n",
      "Epoch: 0 batch #: 127  of 300 sample #: 199 reconstruction error: 0.091090\n",
      "Epoch: 0 batch #: 128  of 300 sample #: 199 reconstruction error: 0.077010\n",
      "Epoch: 0 batch #: 129  of 300 sample #: 199 reconstruction error: 0.050710\n",
      "Epoch: 0 batch #: 130  of 300 sample #: 199 reconstruction error: 0.066605\n",
      "Epoch: 0 batch #: 131  of 300 sample #: 199 reconstruction error: 0.054889\n",
      "Epoch: 0 batch #: 132  of 300 sample #: 199 reconstruction error: 0.057960\n",
      "Epoch: 0 batch #: 133  of 300 sample #: 199 reconstruction error: 0.057841\n",
      "Epoch: 0 batch #: 134  of 300 sample #: 199 reconstruction error: 0.105116\n",
      "Epoch: 0 batch #: 135  of 300 sample #: 199 reconstruction error: 0.108929\n",
      "Epoch: 0 batch #: 136  of 300 sample #: 199 reconstruction error: 0.111133\n",
      "Epoch: 0 batch #: 137  of 300 sample #: 199 reconstruction error: 0.053155\n",
      "Epoch: 0 batch #: 138  of 300 sample #: 199 reconstruction error: 0.073177\n",
      "Epoch: 0 batch #: 139  of 300 sample #: 199 reconstruction error: 0.106568\n",
      "Epoch: 0 batch #: 140  of 300 sample #: 199 reconstruction error: 0.092022\n",
      "Epoch: 0 batch #: 141  of 300 sample #: 199 reconstruction error: 0.078418\n",
      "Epoch: 0 batch #: 142  of 300 sample #: 199 reconstruction error: 0.075567\n",
      "Epoch: 0 batch #: 143  of 300 sample #: 199 reconstruction error: 0.052235\n",
      "Epoch: 0 batch #: 144  of 300 sample #: 199 reconstruction error: 0.065527\n",
      "Epoch: 0 batch #: 145  of 300 sample #: 199 reconstruction error: 0.088320\n",
      "Epoch: 0 batch #: 146  of 300 sample #: 199 reconstruction error: 0.119681\n",
      "Epoch: 0 batch #: 147  of 300 sample #: 199 reconstruction error: 0.071821\n",
      "Epoch: 0 batch #: 148  of 300 sample #: 199 reconstruction error: 0.071693\n",
      "Epoch: 0 batch #: 149  of 300 sample #: 199 reconstruction error: 0.039801\n",
      "Epoch: 0 batch #: 150  of 300 sample #: 199 reconstruction error: 0.045545\n",
      "Epoch: 0 batch #: 151  of 300 sample #: 199 reconstruction error: 0.104716\n",
      "Epoch: 0 batch #: 152  of 300 sample #: 199 reconstruction error: 0.097340\n",
      "Epoch: 0 batch #: 153  of 300 sample #: 199 reconstruction error: 0.056506\n",
      "Epoch: 0 batch #: 154  of 300 sample #: 199 reconstruction error: 0.065429\n",
      "Epoch: 0 batch #: 155  of 300 sample #: 199 reconstruction error: 0.053364\n",
      "Epoch: 0 batch #: 156  of 300 sample #: 199 reconstruction error: 0.068334\n",
      "Epoch: 0 batch #: 157  of 300 sample #: 199 reconstruction error: 0.087492\n",
      "Epoch: 0 batch #: 158  of 300 sample #: 199 reconstruction error: 0.062556\n",
      "Epoch: 0 batch #: 159  of 300 sample #: 199 reconstruction error: 0.064839\n",
      "Epoch: 0 batch #: 160  of 300 sample #: 199 reconstruction error: 0.072764\n",
      "Epoch: 0 batch #: 161  of 300 sample #: 199 reconstruction error: 0.078833\n",
      "Epoch: 0 batch #: 162  of 300 sample #: 199 reconstruction error: 0.105110\n",
      "Epoch: 0 batch #: 163  of 300 sample #: 199 reconstruction error: 0.041963\n",
      "Epoch: 0 batch #: 164  of 300 sample #: 199 reconstruction error: 0.062769\n",
      "Epoch: 0 batch #: 165  of 300 sample #: 199 reconstruction error: 0.074577\n",
      "Epoch: 0 batch #: 166  of 300 sample #: 199 reconstruction error: 0.060681\n",
      "Epoch: 0 batch #: 167  of 300 sample #: 199 reconstruction error: 0.080932\n",
      "Epoch: 0 batch #: 168  of 300 sample #: 199 reconstruction error: 0.038607\n",
      "Epoch: 0 batch #: 169  of 300 sample #: 199 reconstruction error: 0.044414\n",
      "Epoch: 0 batch #: 170  of 300 sample #: 199 reconstruction error: 0.056643\n",
      "Epoch: 0 batch #: 171  of 300 sample #: 199 reconstruction error: 0.028880\n",
      "Epoch: 0 batch #: 172  of 300 sample #: 199 reconstruction error: 0.052187\n",
      "Epoch: 0 batch #: 173  of 300 sample #: 199 reconstruction error: 0.091281\n",
      "Epoch: 0 batch #: 174  of 300 sample #: 199 reconstruction error: 0.097969\n",
      "Epoch: 0 batch #: 175  of 300 sample #: 199 reconstruction error: 0.076490\n",
      "Epoch: 0 batch #: 176  of 300 sample #: 199 reconstruction error: 0.043085\n",
      "Epoch: 0 batch #: 177  of 300 sample #: 199 reconstruction error: 0.031850\n",
      "Epoch: 0 batch #: 178  of 300 sample #: 199 reconstruction error: 0.092930\n",
      "Epoch: 0 batch #: 179  of 300 sample #: 199 reconstruction error: 0.073083\n",
      "Epoch: 0 batch #: 180  of 300 sample #: 199 reconstruction error: 0.079395\n",
      "Epoch: 0 batch #: 181  of 300 sample #: 199 reconstruction error: 0.098694\n",
      "Epoch: 0 batch #: 182  of 300 sample #: 199 reconstruction error: 0.067128\n",
      "Epoch: 0 batch #: 183  of 300 sample #: 199 reconstruction error: 0.098790\n",
      "Epoch: 0 batch #: 184  of 300 sample #: 199 reconstruction error: 0.056600\n",
      "Epoch: 0 batch #: 185  of 300 sample #: 199 reconstruction error: 0.073774\n",
      "Epoch: 0 batch #: 186  of 300 sample #: 199 reconstruction error: 0.094275\n",
      "Epoch: 0 batch #: 187  of 300 sample #: 199 reconstruction error: 0.067667\n",
      "Epoch: 0 batch #: 188  of 300 sample #: 199 reconstruction error: 0.130533\n",
      "Epoch: 0 batch #: 189  of 300 sample #: 199 reconstruction error: 0.084564\n",
      "Epoch: 0 batch #: 190  of 300 sample #: 199 reconstruction error: 0.059767\n",
      "Epoch: 0 batch #: 191  of 300 sample #: 199 reconstruction error: 0.098795\n",
      "Epoch: 0 batch #: 192  of 300 sample #: 199 reconstruction error: 0.106629\n",
      "Epoch: 0 batch #: 193  of 300 sample #: 199 reconstruction error: 0.087893\n",
      "Epoch: 0 batch #: 194  of 300 sample #: 199 reconstruction error: 0.087192\n",
      "Epoch: 0 batch #: 195  of 300 sample #: 199 reconstruction error: 0.050515\n",
      "Epoch: 0 batch #: 196  of 300 sample #: 199 reconstruction error: 0.045262\n",
      "Epoch: 0 batch #: 197  of 300 sample #: 199 reconstruction error: 0.049588\n",
      "Epoch: 0 batch #: 198  of 300 sample #: 199 reconstruction error: 0.098292\n",
      "Epoch: 0 batch #: 199  of 300 sample #: 199 reconstruction error: 0.066248\n",
      "Epoch: 0 batch #: 200  of 300 sample #: 199 reconstruction error: 0.102051\n",
      "Epoch: 0 batch #: 201  of 300 sample #: 199 reconstruction error: 0.075486\n",
      "Epoch: 0 batch #: 202  of 300 sample #: 199 reconstruction error: 0.025052\n",
      "Epoch: 0 batch #: 203  of 300 sample #: 199 reconstruction error: 0.096739\n",
      "Epoch: 0 batch #: 204  of 300 sample #: 199 reconstruction error: 0.053836\n",
      "Epoch: 0 batch #: 205  of 300 sample #: 199 reconstruction error: 0.021135\n",
      "Epoch: 0 batch #: 206  of 300 sample #: 199 reconstruction error: 0.061361\n",
      "Epoch: 0 batch #: 207  of 300 sample #: 199 reconstruction error: 0.088456\n",
      "Epoch: 0 batch #: 208  of 300 sample #: 199 reconstruction error: 0.054005\n",
      "Epoch: 0 batch #: 209  of 300 sample #: 199 reconstruction error: 0.032316\n",
      "Epoch: 0 batch #: 210  of 300 sample #: 199 reconstruction error: 0.114148\n",
      "Epoch: 0 batch #: 211  of 300 sample #: 199 reconstruction error: 0.087297\n",
      "Epoch: 0 batch #: 212  of 300 sample #: 199 reconstruction error: 0.061268\n",
      "Epoch: 0 batch #: 213  of 300 sample #: 199 reconstruction error: 0.093495\n",
      "Epoch: 0 batch #: 214  of 300 sample #: 199 reconstruction error: 0.115199\n",
      "Epoch: 0 batch #: 215  of 300 sample #: 199 reconstruction error: 0.027826\n",
      "Epoch: 0 batch #: 216  of 300 sample #: 199 reconstruction error: 0.099917\n",
      "Epoch: 0 batch #: 217  of 300 sample #: 199 reconstruction error: 0.089915\n",
      "Epoch: 0 batch #: 218  of 300 sample #: 199 reconstruction error: 0.068106\n",
      "Epoch: 0 batch #: 219  of 300 sample #: 199 reconstruction error: 0.062132\n",
      "Epoch: 0 batch #: 220  of 300 sample #: 199 reconstruction error: 0.058815\n",
      "Epoch: 0 batch #: 221  of 300 sample #: 199 reconstruction error: 0.086848\n",
      "Epoch: 0 batch #: 222  of 300 sample #: 199 reconstruction error: 0.107280\n",
      "Epoch: 0 batch #: 223  of 300 sample #: 199 reconstruction error: 0.076204\n",
      "Epoch: 0 batch #: 224  of 300 sample #: 199 reconstruction error: 0.069453\n",
      "Epoch: 0 batch #: 225  of 300 sample #: 199 reconstruction error: 0.082423\n",
      "Epoch: 0 batch #: 226  of 300 sample #: 199 reconstruction error: 0.143138\n",
      "Epoch: 0 batch #: 227  of 300 sample #: 199 reconstruction error: 0.069213\n",
      "Epoch: 0 batch #: 228  of 300 sample #: 199 reconstruction error: 0.077935\n",
      "Epoch: 0 batch #: 229  of 300 sample #: 199 reconstruction error: 0.079331\n",
      "Epoch: 0 batch #: 230  of 300 sample #: 199 reconstruction error: 0.038795\n",
      "Epoch: 0 batch #: 231  of 300 sample #: 199 reconstruction error: 0.029971\n",
      "Epoch: 0 batch #: 232  of 300 sample #: 199 reconstruction error: 0.078757\n",
      "Epoch: 0 batch #: 233  of 300 sample #: 199 reconstruction error: 0.079459\n",
      "Epoch: 0 batch #: 234  of 300 sample #: 199 reconstruction error: 0.069524\n",
      "Epoch: 0 batch #: 235  of 300 sample #: 199 reconstruction error: 0.071090\n",
      "Epoch: 0 batch #: 236  of 300 sample #: 199 reconstruction error: 0.109815\n",
      "Epoch: 0 batch #: 237  of 300 sample #: 199 reconstruction error: 0.081676\n",
      "Epoch: 0 batch #: 238  of 300 sample #: 199 reconstruction error: 0.106927\n",
      "Epoch: 0 batch #: 239  of 300 sample #: 199 reconstruction error: 0.027545\n",
      "Epoch: 0 batch #: 240  of 300 sample #: 199 reconstruction error: 0.089718\n",
      "Epoch: 0 batch #: 241  of 300 sample #: 199 reconstruction error: 0.089338\n",
      "Epoch: 0 batch #: 242  of 300 sample #: 199 reconstruction error: 0.063277\n",
      "Epoch: 0 batch #: 243  of 300 sample #: 199 reconstruction error: 0.069985\n",
      "Epoch: 0 batch #: 244  of 300 sample #: 199 reconstruction error: 0.085165\n",
      "Epoch: 0 batch #: 245  of 300 sample #: 199 reconstruction error: 0.065754\n",
      "Epoch: 0 batch #: 246  of 300 sample #: 199 reconstruction error: 0.096213\n",
      "Epoch: 0 batch #: 247  of 300 sample #: 199 reconstruction error: 0.040183\n",
      "Epoch: 0 batch #: 248  of 300 sample #: 199 reconstruction error: 0.079367\n",
      "Epoch: 0 batch #: 249  of 300 sample #: 199 reconstruction error: 0.040354\n",
      "Epoch: 0 batch #: 250  of 300 sample #: 199 reconstruction error: 0.080929\n",
      "Epoch: 0 batch #: 251  of 300 sample #: 199 reconstruction error: 0.037472\n",
      "Epoch: 0 batch #: 252  of 300 sample #: 199 reconstruction error: 0.073438\n",
      "Epoch: 0 batch #: 253  of 300 sample #: 199 reconstruction error: 0.063658\n",
      "Epoch: 0 batch #: 254  of 300 sample #: 199 reconstruction error: 0.030548\n",
      "Epoch: 0 batch #: 255  of 300 sample #: 199 reconstruction error: 0.051436\n",
      "Epoch: 0 batch #: 256  of 300 sample #: 199 reconstruction error: 0.106181\n",
      "Epoch: 0 batch #: 257  of 300 sample #: 199 reconstruction error: 0.076183\n",
      "Epoch: 0 batch #: 258  of 300 sample #: 199 reconstruction error: 0.091195\n",
      "Epoch: 0 batch #: 259  of 300 sample #: 199 reconstruction error: 0.077884\n",
      "Epoch: 0 batch #: 260  of 300 sample #: 199 reconstruction error: 0.079751\n",
      "Epoch: 0 batch #: 261  of 300 sample #: 199 reconstruction error: 0.046512\n",
      "Epoch: 0 batch #: 262  of 300 sample #: 199 reconstruction error: 0.073476\n",
      "Epoch: 0 batch #: 263  of 300 sample #: 199 reconstruction error: 0.080843\n",
      "Epoch: 0 batch #: 264  of 300 sample #: 199 reconstruction error: 0.067772\n",
      "Epoch: 0 batch #: 265  of 300 sample #: 199 reconstruction error: 0.074845\n",
      "Epoch: 0 batch #: 266  of 300 sample #: 199 reconstruction error: 0.032237\n",
      "Epoch: 0 batch #: 267  of 300 sample #: 199 reconstruction error: 0.070317\n",
      "Epoch: 0 batch #: 268  of 300 sample #: 199 reconstruction error: 0.031788\n",
      "Epoch: 0 batch #: 269  of 300 sample #: 199 reconstruction error: 0.083846\n",
      "Epoch: 0 batch #: 270  of 300 sample #: 199 reconstruction error: 0.066635\n",
      "Epoch: 0 batch #: 271  of 300 sample #: 199 reconstruction error: 0.041997\n",
      "Epoch: 0 batch #: 272  of 300 sample #: 199 reconstruction error: 0.062886\n",
      "Epoch: 0 batch #: 273  of 300 sample #: 199 reconstruction error: 0.055948\n",
      "Epoch: 0 batch #: 274  of 300 sample #: 199 reconstruction error: 0.059183\n",
      "Epoch: 0 batch #: 275  of 300 sample #: 199 reconstruction error: 0.107644\n",
      "Epoch: 0 batch #: 276  of 300 sample #: 199 reconstruction error: 0.088372\n",
      "Epoch: 0 batch #: 277  of 300 sample #: 199 reconstruction error: 0.075000\n",
      "Epoch: 0 batch #: 278  of 300 sample #: 199 reconstruction error: 0.055723\n",
      "Epoch: 0 batch #: 279  of 300 sample #: 199 reconstruction error: 0.052041\n",
      "Epoch: 0 batch #: 280  of 300 sample #: 199 reconstruction error: 0.069666\n",
      "Epoch: 0 batch #: 281  of 300 sample #: 199 reconstruction error: 0.062899\n",
      "Epoch: 0 batch #: 282  of 300 sample #: 199 reconstruction error: 0.110598\n",
      "Epoch: 0 batch #: 283  of 300 sample #: 199 reconstruction error: 0.049983\n",
      "Epoch: 0 batch #: 284  of 300 sample #: 199 reconstruction error: 0.041044\n",
      "Epoch: 0 batch #: 285  of 300 sample #: 199 reconstruction error: 0.061014\n",
      "Epoch: 0 batch #: 286  of 300 sample #: 199 reconstruction error: 0.085745\n",
      "Epoch: 0 batch #: 287  of 300 sample #: 199 reconstruction error: 0.069254\n",
      "Epoch: 0 batch #: 288  of 300 sample #: 199 reconstruction error: 0.026642\n",
      "Epoch: 0 batch #: 289  of 300 sample #: 199 reconstruction error: 0.074297\n",
      "Epoch: 0 batch #: 290  of 300 sample #: 199 reconstruction error: 0.120002\n",
      "Epoch: 0 batch #: 291  of 300 sample #: 199 reconstruction error: 0.116451\n",
      "Epoch: 0 batch #: 292  of 300 sample #: 199 reconstruction error: 0.058692\n",
      "Epoch: 0 batch #: 293  of 300 sample #: 199 reconstruction error: 0.063968\n",
      "Epoch: 0 batch #: 294  of 300 sample #: 199 reconstruction error: 0.078885\n",
      "Epoch: 0 batch #: 295  of 300 sample #: 199 reconstruction error: 0.084451\n",
      "Epoch: 0 batch #: 296  of 300 sample #: 199 reconstruction error: 0.022912\n",
      "Epoch: 0 batch #: 297  of 300 sample #: 199 reconstruction error: 0.110669\n",
      "Epoch: 0 batch #: 298  of 300 sample #: 199 reconstruction error: 0.050231\n",
      "Epoch: 0 batch #: 299  of 300 sample #: 199 reconstruction error: 0.054637\n",
      "Epoch: 0 batch #: 300  of 300 sample #: 199 reconstruction error: 0.084770\n"
     ]
    }
   ],
   "source": [
    "#Parameters\n",
    "alpha = 0.01\n",
    "epochs = 1\n",
    "batchsize = 200\n",
    "weights = []\n",
    "errors = []\n",
    "batch_number = 0\n",
    "K = 1\n",
    "\n",
    "#creating datasets\n",
    "train_ds = \\\n",
    "    tf.data.Dataset.from_tensor_slices((trX, trY)).batch(batchsize)\n",
    "\n",
    "for epoch in range(epochs):\n",
    "    for batch_x, batch_y in train_ds:\n",
    "        batch_number += 1\n",
    "        for i_sample in range(batchsize):           \n",
    "            for k in range(K):\n",
    "                v0_state = batch_x[i_sample]\n",
    "                h0_state = hidden_layer(v0_state, W, hb)\n",
    "                v1_state = reconstructed_output(h0_state, W, vb)\n",
    "                h1_state = hidden_layer(v1_state, W, hb)\n",
    "\n",
    "                delta_W = tf.matmul(tf.transpose([v0_state]), h0_state) - tf.matmul(tf.transpose([v1_state]), h1_state)\n",
    "                W = W + alpha * delta_W\n",
    "\n",
    "                vb = vb + alpha * tf.reduce_mean(v0_state - v1_state, 0)\n",
    "                hb = hb + alpha * tf.reduce_mean(h0_state - h1_state, 0) \n",
    "\n",
    "                v0_state = v1_state\n",
    "\n",
    "            if i_sample == batchsize-1:\n",
    "                err = error(batch_x[i_sample], v1_state)\n",
    "                errors.append(err)\n",
    "                weights.append(W)\n",
    "                print ( 'Epoch: %d' % epoch, \n",
    "                       \"batch #: %i \" % batch_number, \"of %i\" % int(60e3/batchsize), \n",
    "                       \"sample #: %i\" % i_sample,\n",
    "                       'reconstruction error: %f' % err)\n",
    "\n"
   ]
  },
  {
   "cell_type": "markdown",
   "metadata": {},
   "source": [
    "Let's take a look at the errors at the end of each batch:\n"
   ]
  },
  {
   "cell_type": "code",
   "execution_count": 25,
   "metadata": {
    "tags": []
   },
   "outputs": [
    {
     "data": {
      "image/png": "[encoded data removed]",
      "text/plain": [
       "<Figure size 640x480 with 1 Axes>"
      ]
     },
     "metadata": {},
     "output_type": "display_data"
    }
   ],
   "source": [
    "plt.plot(errors)\n",
    "plt.xlabel(\"Batch Number\")\n",
    "plt.ylabel(\"Error\")\n",
    "plt.show()"
   ]
  },
  {
   "cell_type": "markdown",
   "metadata": {},
   "source": [
    "What is the final weight matrix $W$ after training?\n"
   ]
  },
  {
   "cell_type": "code",
   "execution_count": 26,
   "metadata": {
    "tags": []
   },
   "outputs": [
    {
     "name": "stdout",
     "output_type": "stream",
     "text": [
      "[[-0.27       -0.29999998 -0.24000004 ... -0.5299998  -0.27\n",
      "  -0.17      ]\n",
      " [-0.28       -0.33999994 -0.32999995 ... -0.65999967 -0.25000003\n",
      "  -0.11999998]\n",
      " [-0.23000003 -0.3899999  -0.29999998 ... -0.56999975 -0.25000003\n",
      "  -0.10999998]\n",
      " ...\n",
      " [-0.31999996 -0.45999983 -0.29999998 ... -0.57999974 -0.29\n",
      "  -0.09999999]\n",
      " [-0.34999993 -0.4799998  -0.26000002 ... -0.6099997  -0.31999996\n",
      "  -0.16      ]\n",
      " [-0.31999996 -0.42999986 -0.30999997 ... -0.58999974 -0.26000002\n",
      "  -0.16      ]]\n"
     ]
    }
   ],
   "source": [
    "print(W.numpy()) # a weight matrix of shape (50,784)"
   ]
  },
  {
   "cell_type": "markdown",
   "metadata": {},
   "source": [
    "<a id=\"ref5\"></a>\n",
    "<h3>Learned features</h3> \n"
   ]
  },
  {
   "cell_type": "markdown",
   "metadata": {},
   "source": [
    "We can take each hidden unit and visualize the connections between that hidden unit and each element in the input vector. In our case, we have 50 hidden units. Lets visualize those.\n"
   ]
  },
  {
   "cell_type": "markdown",
   "metadata": {},
   "source": [
    "Let's plot the current weights:\n",
    "<b>tile_raster_images</b> helps in generating an easy to grasp image from a set of samples or weights. It transforms the <b>uw</b> (with one flattened image per row of size 784), into an array (of size $28\\times28$) in which images are reshaped and laid out like tiles on a floor.\n"
   ]
  },
  {
   "cell_type": "code",
   "execution_count": 28,
   "metadata": {
    "tags": []
   },
   "outputs": [],
   "source": [
    "def tile_raster_images(X, img_shape, tile_shape, tile_spacing=(0, 0),\n",
    "                       scale_rows_to_unit_interval=True,\n",
    "                       output_pixel_vals=True):\n",
    "    \"\"\"\n",
    "    Transform an array with one flattened image per row, into an array in\n",
    "    which images are reshaped and layed out like tiles on a floor.\n",
    "\n",
    "    This function is useful for visualizing datasets whose rows are images,\n",
    "    and also columns of matrices for transforming those rows\n",
    "    (such as the first layer of a neural net).\n",
    "\n",
    "    :type X: a 2-D ndarray or a tuple of 4 channels, elements of which can\n",
    "    be 2-D ndarrays or None;\n",
    "    :param X: a 2-D array in which every row is a flattened image.\n",
    "\n",
    "    :type img_shape: tuple; (height, width)\n",
    "    :param img_shape: the original shape of each image\n",
    "\n",
    "    :type tile_shape: tuple; (rows, cols)\n",
    "    :param tile_shape: the number of images to tile (rows, cols)\n",
    "\n",
    "    :param output_pixel_vals: if output should be pixel values (i.e. int8\n",
    "    values) or floats\n",
    "\n",
    "    :param scale_rows_to_unit_interval: if the values need to be scaled before\n",
    "    being plotted to [0,1] or not\n",
    "\n",
    "\n",
    "    :returns: array suitable for viewing as an image.\n",
    "    (See:`Image.fromarray`.)\n",
    "    :rtype: a 2-d array with same dtype as X.\n",
    "\n",
    "    \"\"\"\n",
    "\n",
    "    assert len(img_shape) == 2\n",
    "    assert len(tile_shape) == 2\n",
    "    assert len(tile_spacing) == 2\n",
    "\n",
    "    # The expression below can be re-written in a more C style as\n",
    "    # follows :\n",
    "    #\n",
    "    # out_shape    = [0,0]\n",
    "    # out_shape[0] = (img_shape[0]+tile_spacing[0])*tile_shape[0] -\n",
    "    #                tile_spacing[0]\n",
    "    # out_shape[1] = (img_shape[1]+tile_spacing[1])*tile_shape[1] -\n",
    "    #                tile_spacing[1]\n",
    "    out_shape = [\n",
    "        (ishp + tsp) * tshp - tsp\n",
    "        for ishp, tshp, tsp in zip(img_shape, tile_shape, tile_spacing)\n",
    "    ]\n",
    "\n",
    "    if isinstance(X, tuple):\n",
    "        assert len(X) == 4\n",
    "        # Create an output numpy ndarray to store the image\n",
    "        if output_pixel_vals:\n",
    "            out_array = numpy.zeros((out_shape[0], out_shape[1], 4),\n",
    "                                    dtype='uint8')\n",
    "        else:\n",
    "            out_array = numpy.zeros((out_shape[0], out_shape[1], 4),\n",
    "                                    dtype=X.dtype)\n",
    "\n",
    "        #colors default to 0, alpha defaults to 1 (opaque)\n",
    "        if output_pixel_vals:\n",
    "            channel_defaults = [0, 0, 0, 255]\n",
    "        else:\n",
    "            channel_defaults = [0., 0., 0., 1.]\n",
    "\n",
    "        for i in range(4):\n",
    "            if X[i] is None:\n",
    "                # if channel is None, fill it with zeros of the correct\n",
    "                # dtype\n",
    "                dt = out_array.dtype\n",
    "                if output_pixel_vals:\n",
    "                    dt = 'uint8'\n",
    "                out_array[:, :, i] = numpy.zeros(\n",
    "                    out_shape,\n",
    "                    dtype=dt\n",
    "                ) + channel_defaults[i]\n",
    "            else:\n",
    "                # use a recurrent call to compute the channel and store it\n",
    "                # in the output\n",
    "                out_array[:, :, i] = tile_raster_images(\n",
    "                    X[i], img_shape, tile_shape, tile_spacing,\n",
    "                    scale_rows_to_unit_interval, output_pixel_vals)\n",
    "        return out_array\n",
    "\n",
    "    else:\n",
    "        # if we are dealing with only one channel\n",
    "        H, W = img_shape\n",
    "        Hs, Ws = tile_spacing\n",
    "\n",
    "        # generate a matrix to store the output\n",
    "        dt = X.dtype\n",
    "        if output_pixel_vals:\n",
    "            dt = 'uint8'\n",
    "        out_array = numpy.zeros(out_shape, dtype=dt)\n",
    "\n",
    "        for tile_row in range(tile_shape[0]):\n",
    "            for tile_col in range(tile_shape[1]):\n",
    "                if tile_row * tile_shape[1] + tile_col < X.shape[0]:\n",
    "                    this_x = X[tile_row * tile_shape[1] + tile_col]\n",
    "                    if scale_rows_to_unit_interval:\n",
    "                        # if we should scale values to be between 0 and 1\n",
    "                        # do this by calling the `scale_to_unit_interval`\n",
    "                        # function\n",
    "                        this_img = scale_to_unit_interval(\n",
    "                            this_x.reshape(img_shape))\n",
    "                    else:\n",
    "                        this_img = this_x.reshape(img_shape)\n",
    "                    # add the slice to the corresponding position in the\n",
    "                    # output array\n",
    "                    c = 1\n",
    "                    if output_pixel_vals:\n",
    "                        c = 255\n",
    "                    out_array[\n",
    "                        tile_row * (H + Hs): tile_row * (H + Hs) + H,\n",
    "                        tile_col * (W + Ws): tile_col * (W + Ws) + W\n",
    "                    ] = this_img * c\n",
    "        return out_array\n"
   ]
  },
  {
   "cell_type": "markdown",
   "metadata": {},
   "source": [
    "Each tile in the above visualization corresponds to a vector of connections between a hidden unit and visible layer's units. \n"
   ]
  },
  {
   "cell_type": "markdown",
   "metadata": {},
   "source": [
    "Let's look at one of the learned weights corresponding to one of hidden units for example. In this particular square, the gray color represents weight = 0, and the whiter it is, the more positive the weights are (closer to 1). Conversely, the darker pixels are, the more negative the weights. The positive pixels will increase the probability of activation in hidden units (after multiplying by input/visible pixels), and negative pixels will decrease the probability of a unit hidden to be 1 (activated). So, why is this important?  So we can see that this specific square (hidden unit) can detect a feature (e.g. a \"/\" shape) and if it exists in the input.\n"
   ]
  },
  {
   "cell_type": "markdown",
   "metadata": {},
   "source": [
    "Let's look at the reconstruction of an image now. Imagine that we have a destructed image of figure 3. Lets see if our trained network can fix it:\n",
    "\n",
    "First we plot the image:\n"
   ]
  },
  {
   "cell_type": "code",
   "execution_count": 36,
   "metadata": {
    "tags": []
   },
   "outputs": [
    {
     "name": "stdout",
     "output_type": "stream",
     "text": [
      "--2023-07-10 17:42:13--  https://ibm.box.com/shared/static/vvm1b63uvuxq88vbw9znpwu5ol380mco.jpg\n",
      "Resolving ibm.box.com (ibm.box.com)... 74.112.186.144\n",
      "Connecting to ibm.box.com (ibm.box.com)|74.112.186.144|:443... connected.\n",
      "HTTP request sent, awaiting response... 301 Moved Permanently\n",
      "Location: /public/static/vvm1b63uvuxq88vbw9znpwu5ol380mco.jpg [following]\n",
      "--2023-07-10 17:42:13--  https://ibm.box.com/public/static/vvm1b63uvuxq88vbw9znpwu5ol380mco.jpg\n",
      "Reusing existing connection to ibm.box.com:443.\n",
      "HTTP request sent, awaiting response... 301 Moved Permanently\n",
      "Location: https://ibm.ent.box.com/public/static/vvm1b63uvuxq88vbw9znpwu5ol380mco.jpg [following]\n",
      "--2023-07-10 17:42:13--  https://ibm.ent.box.com/public/static/vvm1b63uvuxq88vbw9znpwu5ol380mco.jpg\n",
      "Resolving ibm.ent.box.com (ibm.ent.box.com)... 74.112.186.144\n",
      "Connecting to ibm.ent.box.com (ibm.ent.box.com)|74.112.186.144|:443... connected.\n",
      "HTTP request sent, awaiting response... 302 Found\n",
      "Location: https://public.boxcloud.com/d/1/b1!ETK1OUUJbNQL5QERt1z4CUvnfvNRs-OSwNHjG0fQTUXc8ZlgeYtOpq0mwy3p0GT-vL4nWt_JyUThsOMkFI3PvyFSF2_gglAL9xZhDJGtCqiFkg1RGrO-7dn_TW5G_DlmxPSaswlhrla9qyLKPX9olkI9IdIJUT8Z6cjToIdLOdRtx4O6SCQ6PzuaMiZ4UC_CykJGLD5R6tschlXQLtM-zDvOvG44KuBxGH9xFH-6xrgpdGLw4LX1KC9n3TBcBPJ8gLhMqRrkRfxXJtP785m-FhtYTHpWpFiR51IgbcLf1_zEZwUrVPErn6-21Ei-PycM31ZIsXi1hQN6WYtNPhjJU4OpLnhzxOoHon8L2bnWcE9URJQlkhjWKJvDWRXsMhdsRN-tsZaYBZM2ByBqxeQFKh6lfENWrj0gh6CIECeapr3r69iYYrEu2Pt6rh3O6glPLs1iYoZZMP7ZIzJmCFUXXipIrvQkhwJc3Yq2i1rkDHlEYzY5LjITTGXa5bBrJLGSBGKlXw51q81O1_-r0xeiGKB55ECf67l8giktEia4Aere3WOOFwPyQCzabxXPzpqGxArJpjzq4CDMRsM36v3PfcQLb1X0HpX8QUZIBmIpIdINjFS9HlnZifPadOpM-rchWtr8N6KPwkNch1JtLuexPNlMYi9mFogA4V8pdY4iQuhWlgKE6hjajTHcfnEwfm7KrShyQJQhMj98r2b__l-c6TXHaQTU0PaUBO0OCqsPQGu85V1kp_cecrzyOZDfOW36Nmt_PddD7xiGeI_sn-35_6VFm5ce8nTSpzXlRDX8iZUNsGdILGhygkT2CE8bE3zdhLjMci7I888mlRJ9kmhYtlI__ID-dBKn_kig_4sEYIO-tUqSbtajgIoRz2zGUVuWjAhUm6MS40fd9T6feMHbXhgOkl8WpqEZypAHZ0XdZUcbTbA3KS_tSuoEwqIw1hA7XshYPXOwwjGjWzKyeqFb8vQ0mKFoaiEcwhbRANC7e47uJTEK31jXoHUF3L-EXtGH_omJp73zxDNdMHTXFYTS66FdHZW_2t1nnAYl3VfG1iauh_rgn9t6JgoHnvyBE7iPpImp9YH2WZFbRjljjyF-WqlUfMHl2C3W9OAnU4pwLS5o0Jr_sAzto0wv1iG8rw3nJlLIRKpd683bbn9t4HUmnAXifL8ZO07zQKFk50boTPK8jDmkD6suzeSXLuBRKr1b_Oz9PzBSjR6vVjilZiG905APfZMT9Xkr4AMAyalppCjkGj2Qn9uaJYusUFhnuyA56mrZXz5-eNkszG85e2zwiD42o4jb0QcgE5pyj6_dnq6Qu_Bf2I5UbYzf7ybNWLDk_yUqckM0gN6ENWalID3c_cWTowA4A3yNCeN1wGjT9xuzvKqOPfhwXfUIBRpBP_eqzFY_Zbj33dyGZo4tpqAaVkcq/download [following]\n",
      "--2023-07-10 17:42:15--  https://public.boxcloud.com/d/1/b1!ETK1OUUJbNQL5QERt1z4CUvnfvNRs-OSwNHjG0fQTUXc8ZlgeYtOpq0mwy3p0GT-vL4nWt_JyUThsOMkFI3PvyFSF2_gglAL9xZhDJGtCqiFkg1RGrO-7dn_TW5G_DlmxPSaswlhrla9qyLKPX9olkI9IdIJUT8Z6cjToIdLOdRtx4O6SCQ6PzuaMiZ4UC_CykJGLD5R6tschlXQLtM-zDvOvG44KuBxGH9xFH-6xrgpdGLw4LX1KC9n3TBcBPJ8gLhMqRrkRfxXJtP785m-FhtYTHpWpFiR51IgbcLf1_zEZwUrVPErn6-21Ei-PycM31ZIsXi1hQN6WYtNPhjJU4OpLnhzxOoHon8L2bnWcE9URJQlkhjWKJvDWRXsMhdsRN-tsZaYBZM2ByBqxeQFKh6lfENWrj0gh6CIECeapr3r69iYYrEu2Pt6rh3O6glPLs1iYoZZMP7ZIzJmCFUXXipIrvQkhwJc3Yq2i1rkDHlEYzY5LjITTGXa5bBrJLGSBGKlXw51q81O1_-r0xeiGKB55ECf67l8giktEia4Aere3WOOFwPyQCzabxXPzpqGxArJpjzq4CDMRsM36v3PfcQLb1X0HpX8QUZIBmIpIdINjFS9HlnZifPadOpM-rchWtr8N6KPwkNch1JtLuexPNlMYi9mFogA4V8pdY4iQuhWlgKE6hjajTHcfnEwfm7KrShyQJQhMj98r2b__l-c6TXHaQTU0PaUBO0OCqsPQGu85V1kp_cecrzyOZDfOW36Nmt_PddD7xiGeI_sn-35_6VFm5ce8nTSpzXlRDX8iZUNsGdILGhygkT2CE8bE3zdhLjMci7I888mlRJ9kmhYtlI__ID-dBKn_kig_4sEYIO-tUqSbtajgIoRz2zGUVuWjAhUm6MS40fd9T6feMHbXhgOkl8WpqEZypAHZ0XdZUcbTbA3KS_tSuoEwqIw1hA7XshYPXOwwjGjWzKyeqFb8vQ0mKFoaiEcwhbRANC7e47uJTEK31jXoHUF3L-EXtGH_omJp73zxDNdMHTXFYTS66FdHZW_2t1nnAYl3VfG1iauh_rgn9t6JgoHnvyBE7iPpImp9YH2WZFbRjljjyF-WqlUfMHl2C3W9OAnU4pwLS5o0Jr_sAzto0wv1iG8rw3nJlLIRKpd683bbn9t4HUmnAXifL8ZO07zQKFk50boTPK8jDmkD6suzeSXLuBRKr1b_Oz9PzBSjR6vVjilZiG905APfZMT9Xkr4AMAyalppCjkGj2Qn9uaJYusUFhnuyA56mrZXz5-eNkszG85e2zwiD42o4jb0QcgE5pyj6_dnq6Qu_Bf2I5UbYzf7ybNWLDk_yUqckM0gN6ENWalID3c_cWTowA4A3yNCeN1wGjT9xuzvKqOPfhwXfUIBRpBP_eqzFY_Zbj33dyGZo4tpqAaVkcq/download\n",
      "Resolving public.boxcloud.com (public.boxcloud.com)... 74.112.186.128\n",
      "Connecting to public.boxcloud.com (public.boxcloud.com)|74.112.186.128|:443... connected.\n",
      "HTTP request sent, awaiting response... 200 OK\n",
      "Length: 24383 (24K) [image/jpeg]\n",
      "Saving to: ‘destructed3.jpg’\n",
      "\n",
      "destructed3.jpg     100%[===================>]  23.81K  --.-KB/s    in 0.05s   \n",
      "\n",
      "2023-07-10 17:42:15 (511 KB/s) - ‘destructed3.jpg’ saved [24383/24383]\n",
      "\n"
     ]
    },
    {
     "data": {
      "image/png": "[encoded data removed]",
      "text/plain": [
       "<PIL.JpegImagePlugin.JpegImageFile image mode=RGB size=181x181 at 0x7F408F2F1A10>"
      ]
     },
     "execution_count": 36,
     "metadata": {},
     "output_type": "execute_result"
    }
   ],
   "source": [
    "!wget -O destructed3.jpg  https://ibm.box.com/shared/static/vvm1b63uvuxq88vbw9znpwu5ol380mco.jpg\n",
    "img = Image.open('destructed3.jpg')\n",
    "img"
   ]
  },
  {
   "cell_type": "markdown",
   "metadata": {},
   "source": [
    "Now let's pass this image through the neural net:\n"
   ]
  },
  {
   "cell_type": "code",
   "execution_count": 37,
   "metadata": {
    "tags": []
   },
   "outputs": [],
   "source": [
    "# convert the image to a 1d numpy array\n",
    "sample_case = np.array(img.convert('I').resize((28,28))).ravel().reshape((1, -1))/255.0\n",
    "\n",
    "sample_case = tf.cast(sample_case, dtype=tf.float32)"
   ]
  },
  {
   "cell_type": "markdown",
   "metadata": {},
   "source": [
    "Feed the sample case into the network and reconstruct the output:\n"
   ]
  },
  {
   "cell_type": "code",
   "execution_count": 38,
   "metadata": {
    "tags": []
   },
   "outputs": [
    {
     "name": "stdout",
     "output_type": "stream",
     "text": [
      "Probability nodes in hidden layer: tf.Tensor(\n",
      "[[8.5648483e-01 1.7662221e-01 9.9994767e-01 5.6876313e-09 9.8709333e-01\n",
      "  1.7454812e-01 9.8277634e-01 9.9999982e-01 1.0000000e+00 1.5147362e-04\n",
      "  9.4949174e-01 2.8299335e-14 1.4615740e-09 8.1093669e-01 3.4084229e-07\n",
      "  6.7951744e-10 7.9578752e-14 3.1665760e-11 2.7209924e-13 1.3625444e-04\n",
      "  1.7131649e-13 8.4162856e-08 9.9993950e-01 3.9328104e-01 2.6466063e-07\n",
      "  2.0648973e-07 1.5753165e-05 1.0000000e+00 8.9715939e-04 3.4056904e-13\n",
      "  7.7571087e-02 1.6444375e-05 2.4657312e-12 1.0000000e+00 9.9999964e-01\n",
      "  1.0000000e+00 2.7397249e-09 1.2585738e-01 9.9956483e-01 3.9562264e-01\n",
      "  3.6754641e-03 1.0139125e-08 9.7635937e-01 2.9128763e-12 4.6417132e-05\n",
      "  6.4950413e-04 9.9788731e-01 9.9491978e-01 3.2314432e-03 8.7827315e-21]], shape=(1, 50), dtype=float32)\n",
      "activated nodes in hidden layer: tf.Tensor(\n",
      "[[1. 0. 1. 0. 1. 0. 1. 1. 1. 0. 1. 0. 0. 1. 0. 0. 0. 0. 0. 0. 0. 0. 1. 0.\n",
      "  0. 0. 0. 1. 0. 0. 0. 0. 0. 1. 1. 1. 0. 0. 1. 0. 0. 0. 1. 0. 0. 0. 1. 1.\n",
      "  0. 0.]], shape=(1, 50), dtype=float32)\n",
      "tf.Tensor(\n",
      "[[4.15275194e-04 2.72894074e-04 4.03006823e-04 3.40024271e-04\n",
      "  2.54449551e-04 2.00168026e-04 3.98998178e-04 3.33293399e-04\n",
      "  2.81202811e-04 3.64669686e-04 2.84027949e-04 1.90407503e-04\n",
      "  3.07568262e-04 2.75798229e-04 2.47134594e-04 2.21684240e-04\n",
      "  4.15274990e-04 3.61042359e-04 3.53895972e-04 2.70179415e-04\n",
      "  3.61042359e-04 2.62196816e-04 2.08335317e-04 2.89764168e-04\n",
      "  1.43913639e-04 2.67491996e-04 3.23446351e-04 2.54449551e-04\n",
      "  2.92675541e-04 1.90407503e-04 2.62196583e-04 2.37251312e-04\n",
      "  2.33285071e-04 3.50430753e-04 3.39691294e-04 3.53452429e-04\n",
      "  3.45764100e-04 3.45669163e-04 3.91116773e-04 4.76304762e-04\n",
      "  4.31014952e-04 3.80187092e-04 3.41775623e-04 4.06290463e-04\n",
      "  4.87926649e-04 5.23122551e-04 2.90571945e-04 2.95152888e-04\n",
      "  2.25364987e-04 2.10899336e-04 3.57381650e-04 4.43039578e-04\n",
      "  3.26696085e-04 2.98586063e-04 2.78405234e-04 2.62196583e-04\n",
      "  8.78729508e-04 3.33293719e-04 4.38770483e-04 2.33266604e-04\n",
      "  2.73483514e-04 2.02607975e-04 5.16297878e-04 3.79576872e-04\n",
      "  3.93747847e-04 3.24437424e-04 1.77300797e-04 1.18888267e-04\n",
      "  1.30999455e-04 1.17244897e-04 1.19103068e-04 2.02801239e-04\n",
      "  2.66355462e-04 1.26353567e-04 9.03871187e-05 4.29210777e-05\n",
      "  5.83215151e-05 1.28420579e-04 3.61879036e-04 3.50802264e-04\n",
      "  3.46945046e-04 4.82580828e-04 1.63889679e-04 3.64669861e-04\n",
      "  4.87294543e-04 4.68196638e-04 2.20444650e-04 3.81067337e-04\n",
      "  5.76997700e-04 4.33063920e-04 7.77185254e-04 3.85440275e-04\n",
      "  4.89306170e-04 2.14756641e-04 1.53484230e-04 2.17765031e-04\n",
      "  4.06229869e-04 7.86320248e-04 7.99246947e-04 1.77842123e-03\n",
      "  2.97060050e-03 3.59292002e-03 1.09869812e-03 3.85959633e-04\n",
      "  2.59133551e-04 3.96863616e-04 2.52453290e-04 4.57835005e-04\n",
      "  5.48765238e-04 4.11693443e-04 2.68353353e-04 2.62196583e-04\n",
      "  4.27916908e-04 2.45050818e-04 2.90321623e-04 3.78788827e-04\n",
      "  4.27531166e-04 1.00260274e-03 1.18551916e-03 1.07804779e-03\n",
      "  1.19968038e-03 1.60943298e-03 2.08160654e-03 4.86421073e-03\n",
      "  6.33238396e-03 1.24342218e-02 3.71287912e-02 8.66638795e-02\n",
      "  7.78172091e-02 1.35095417e-01 8.26647580e-02 4.94693778e-02\n",
      "  1.37123149e-02 5.32183331e-03 4.58533270e-03 2.81419419e-03\n",
      "  2.00545159e-03 8.93137068e-04 2.69904704e-04 3.76863056e-04\n",
      "  2.06262703e-04 2.54449551e-04 3.13435332e-04 5.21381502e-04\n",
      "  1.15503732e-03 1.91141549e-03 2.48934049e-03 7.63997203e-03\n",
      "  1.05105489e-02 2.56053600e-02 5.37920259e-02 1.02649420e-01\n",
      "  3.52944851e-01 6.26779258e-01 8.39289367e-01 9.03116763e-01\n",
      "  9.00398254e-01 8.85918140e-01 4.59437519e-01 5.48838675e-01\n",
      "  2.10734904e-01 6.79266378e-02 2.56882329e-02 3.38190701e-03\n",
      "  2.41020927e-03 2.03669444e-03 8.45661911e-04 2.12618164e-04\n",
      "  3.07676470e-04 3.49087350e-04 3.62446299e-04 8.94150813e-04\n",
      "  3.73468921e-03 5.69340913e-03 4.91599590e-02 4.61761914e-02\n",
      "  8.47721770e-02 1.70255572e-01 2.79516727e-01 7.40917742e-01\n",
      "  8.99015665e-01 9.55761373e-01 9.50599015e-01 9.64794815e-01\n",
      "  9.77545202e-01 9.61751223e-01 8.50015879e-01 8.25066626e-01\n",
      "  5.83955109e-01 1.40736371e-01 3.63813303e-02 9.29890200e-03\n",
      "  2.09708186e-03 2.45991373e-03 1.60300441e-03 5.10902784e-04\n",
      "  2.74191814e-04 3.44181724e-04 5.50941855e-04 1.72153034e-03\n",
      "  7.81641062e-03 3.18137929e-02 5.66589758e-02 8.13011304e-02\n",
      "  2.77842253e-01 4.37789828e-01 6.81231856e-01 9.27554071e-01\n",
      "  8.50169003e-01 8.74020278e-01 8.75028789e-01 8.23981941e-01\n",
      "  6.16395414e-01 6.77111387e-01 7.56638169e-01 7.54570603e-01\n",
      "  7.95782268e-01 4.82538432e-01 1.10032871e-01 6.10319711e-03\n",
      "  1.82712008e-03 6.85384905e-04 1.01652485e-03 3.84639367e-04\n",
      "  2.66017654e-04 3.67770961e-04 7.20095122e-04 1.94675638e-03\n",
      "  1.05036376e-02 4.66878302e-02 8.91429782e-02 1.54044598e-01\n",
      "  2.56670564e-01 3.45360458e-01 5.69748878e-01 6.78472221e-01\n",
      "  5.24150848e-01 4.81632829e-01 2.68205255e-01 2.47674629e-01\n",
      "  1.74112737e-01 2.70510435e-01 4.39256102e-01 6.46627903e-01\n",
      "  8.04353893e-01 5.97281396e-01 9.71950740e-02 9.84533690e-03\n",
      "  4.66698734e-03 1.18080666e-03 1.31461327e-03 4.45652171e-04\n",
      "  2.20600254e-04 3.22686508e-04 5.44738199e-04 1.91997387e-03\n",
      "  6.87660603e-03 5.78932054e-02 1.08835831e-01 2.33900517e-01\n",
      "  1.46650836e-01 1.08787507e-01 1.38830096e-01 1.08796962e-01\n",
      "  9.09273401e-02 2.02832110e-02 1.30063556e-02 5.43787293e-02\n",
      "  8.58233497e-02 2.51885921e-01 4.27815318e-01 6.38763726e-01\n",
      "  6.51726484e-01 5.39585412e-01 2.12213397e-01 2.15694476e-02\n",
      "  3.48273083e-03 1.51418953e-03 8.97662656e-04 4.41461831e-04\n",
      "  3.74316092e-04 3.18389357e-04 6.50976552e-04 2.27850326e-03\n",
      "  9.97242145e-03 3.36549021e-02 6.42251596e-02 4.15615402e-02\n",
      "  3.13985944e-02 2.31172554e-02 3.05040702e-02 2.85756513e-02\n",
      "  1.51510155e-02 1.93973593e-02 3.93881761e-02 9.02730301e-02\n",
      "  3.81899178e-01 4.98262614e-01 7.29747593e-01 7.03068674e-01\n",
      "  7.23148704e-01 4.73661900e-01 1.12679750e-01 1.18711963e-02\n",
      "  2.32590921e-03 1.64458877e-03 5.55430946e-04 5.11403428e-04\n",
      "  4.09841683e-04 6.04901346e-04 6.23240136e-04 1.74692250e-03\n",
      "  7.92268384e-03 3.98415327e-02 2.24352591e-02 1.97779108e-02\n",
      "  1.73705518e-02 1.53717063e-02 1.83261186e-02 4.04022671e-02\n",
      "  6.58266246e-02 2.47947916e-01 3.36926460e-01 6.23105347e-01\n",
      "  8.20110559e-01 8.60823572e-01 6.32046461e-01 5.40593445e-01\n",
      "  5.55673957e-01 1.29766628e-01 1.76066067e-02 4.09224397e-03\n",
      "  2.50370149e-03 1.36572891e-03 5.14701649e-04 2.83127883e-04\n",
      "  5.47561736e-04 2.83427420e-04 4.61275544e-04 1.23360171e-03\n",
      "  1.66167319e-03 8.69915076e-03 1.09465756e-02 4.53275861e-03\n",
      "  1.48196351e-02 2.96084955e-02 1.21613435e-01 3.37525487e-01\n",
      "  7.10886657e-01 8.37959290e-01 9.12557602e-01 9.62642968e-01\n",
      "  8.89821947e-01 8.63145888e-01 4.71805364e-01 4.11236972e-01\n",
      "  2.76855141e-01 4.35027368e-02 8.10302701e-03 6.53722149e-04\n",
      "  2.70543154e-04 6.62350445e-04 5.22445596e-04 5.00732334e-04\n",
      "  2.85110204e-04 4.02344100e-04 7.60136638e-04 7.98766501e-04\n",
      "  1.90054113e-03 3.27312108e-03 2.56462255e-03 2.67015258e-03\n",
      "  9.67301056e-03 6.31100684e-02 3.26787710e-01 8.47015142e-01\n",
      "  9.63245273e-01 9.77738202e-01 9.72096384e-01 9.44736660e-01\n",
      "  8.86074245e-01 6.59592986e-01 5.02265573e-01 9.71635133e-02\n",
      "  5.05321473e-02 6.03008037e-03 1.23639731e-03 3.96305171e-04\n",
      "  1.68867584e-04 6.05710491e-04 3.89143592e-04 3.10633885e-04\n",
      "  3.22674197e-04 2.87557254e-04 3.07471812e-04 6.16631762e-04\n",
      "  1.04287372e-03 9.76941781e-04 5.62586531e-04 7.13011133e-04\n",
      "  8.72943457e-03 1.01231679e-01 4.91233557e-01 7.82407403e-01\n",
      "  8.67728174e-01 8.43579829e-01 7.43018806e-01 6.66120470e-01\n",
      "  7.32135952e-01 6.78464711e-01 1.17907867e-01 5.50214536e-02\n",
      "  1.76718663e-02 3.60180088e-03 1.61252380e-03 5.45191928e-04\n",
      "  1.19656077e-04 2.53028003e-04 1.97037880e-04 2.78493098e-04\n",
      "  2.87107163e-04 3.10426956e-04 3.72705370e-04 9.70145222e-04\n",
      "  1.29916519e-03 3.98174976e-04 5.78382984e-04 1.25246146e-03\n",
      "  5.45503804e-03 3.41324806e-02 1.24494009e-01 9.85517874e-02\n",
      "  8.89297798e-02 5.94756939e-02 9.38844681e-02 2.38674611e-01\n",
      "  4.39822674e-01 4.01540339e-01 1.33119479e-01 2.32710522e-02\n",
      "  4.15745378e-03 1.81945134e-03 1.34645856e-03 5.75922953e-04\n",
      "  1.23614693e-04 2.09179663e-04 4.85655561e-04 3.65356769e-04\n",
      "  2.67754309e-04 6.31301838e-04 9.41537030e-04 2.12470046e-03\n",
      "  2.17263377e-03 8.97461723e-04 1.69532211e-03 1.56616757e-03\n",
      "  7.93699175e-03 1.68970991e-02 1.68885775e-02 1.06405020e-02\n",
      "  8.86497181e-03 8.23025033e-03 1.23444581e-02 1.22268289e-01\n",
      "  4.94256318e-01 5.30442715e-01 9.62852016e-02 3.77216004e-02\n",
      "  7.70656858e-03 2.84396997e-03 2.03338359e-03 8.92161916e-04\n",
      "  1.84956953e-04 2.18414832e-04 4.23727382e-04 3.78877885e-04\n",
      "  2.72894074e-04 3.71654955e-04 7.08061969e-04 4.61849850e-03\n",
      "  6.11730805e-03 9.72946361e-03 1.09185828e-02 1.11166909e-02\n",
      "  1.72440149e-02 1.64486468e-02 1.60848051e-02 5.96712437e-03\n",
      "  2.39764433e-03 4.86315833e-03 1.61180813e-02 1.94545388e-01\n",
      "  4.60547000e-01 5.64631164e-01 1.81671113e-01 3.51480022e-02\n",
      "  1.49123510e-02 5.60815632e-03 3.93022038e-03 1.22452714e-03\n",
      "  4.62856755e-04 4.02108679e-04 6.95822353e-04 3.86983331e-04\n",
      "  3.45019449e-04 3.52262607e-04 2.35269475e-03 1.78661086e-02\n",
      "  7.21617341e-02 3.64683904e-02 4.11123596e-02 4.47552837e-02\n",
      "  4.31479327e-02 2.38682348e-02 6.30511567e-02 1.34183904e-02\n",
      "  5.38594462e-03 5.32935886e-03 2.74317339e-02 3.10418695e-01\n",
      "  5.77260613e-01 5.99197567e-01 4.09963876e-01 7.39374459e-02\n",
      "  1.23105757e-02 1.47243943e-02 6.47229049e-03 2.54015019e-03\n",
      "  9.16445511e-04 8.79452040e-04 6.69972389e-04 3.46319983e-04\n",
      "  2.94748257e-04 3.88335728e-04 7.27197668e-03 6.17582723e-02\n",
      "  1.99316323e-01 1.50790781e-01 2.14731261e-01 1.49050117e-01\n",
      "  1.58230081e-01 6.68833554e-02 8.26589316e-02 1.59391705e-02\n",
      "  1.19636236e-02 2.44696829e-02 1.13347515e-01 3.66462588e-01\n",
      "  7.12985396e-01 7.10765183e-01 3.20996791e-01 4.26399596e-02\n",
      "  9.41867381e-03 1.30107189e-02 7.72924535e-03 4.12837928e-03\n",
      "  3.03419982e-03 7.89123063e-04 7.70996325e-04 4.61563846e-04\n",
      "  2.72894074e-04 4.46456426e-04 8.65455624e-03 1.90969869e-01\n",
      "  5.49478412e-01 3.83390039e-01 5.25691032e-01 4.15077835e-01\n",
      "  3.64868820e-01 1.72842979e-01 5.77283427e-02 2.75541041e-02\n",
      "  2.05331389e-02 7.17590153e-02 3.44725549e-01 7.08702862e-01\n",
      "  8.79052103e-01 7.26256371e-01 1.36417076e-01 1.67298876e-02\n",
      "  2.21040417e-02 1.16416812e-02 1.04045188e-02 1.02149872e-02\n",
      "  4.45647491e-03 1.56621903e-03 5.73256984e-04 3.62332794e-04\n",
      "  3.51269584e-04 3.61510058e-04 8.71396624e-03 2.09308892e-01\n",
      "  5.47545791e-01 6.53539062e-01 8.03349257e-01 7.98848033e-01\n",
      "  6.72767758e-01 3.70529771e-01 1.24047190e-01 1.12683989e-01\n",
      "  2.00689286e-01 3.76592696e-01 7.29775608e-01 8.60157013e-01\n",
      "  7.61666715e-01 1.62621826e-01 2.45440733e-02 1.40929474e-02\n",
      "  1.53929750e-02 1.09968539e-02 1.08439149e-02 1.41471447e-02\n",
      "  3.56976921e-03 1.40947104e-03 3.63827421e-04 2.97184801e-04\n",
      "  4.03876620e-04 4.31673456e-04 4.15316224e-03 1.26898304e-01\n",
      "  4.60301518e-01 6.08688176e-01 8.50479722e-01 8.83139074e-01\n",
      "  8.81308675e-01 5.66546559e-01 5.68416536e-01 6.40277088e-01\n",
      "  6.82228804e-01 7.88817525e-01 8.93738210e-01 6.66717470e-01\n",
      "  3.45563680e-01 3.33913118e-02 1.43003184e-02 9.90812015e-03\n",
      "  1.10336328e-02 1.81026887e-02 1.33292116e-02 5.95560065e-03\n",
      "  4.96700592e-03 1.22589257e-03 2.75993138e-04 3.16485181e-04\n",
      "  5.07171266e-04 2.67491996e-04 6.26717461e-04 1.92593709e-02\n",
      "  2.00820252e-01 5.49506605e-01 8.13792288e-01 9.14907575e-01\n",
      "  9.39746916e-01 9.37222540e-01 8.53278875e-01 7.75690496e-01\n",
      "  7.71089196e-01 7.84464061e-01 5.51246941e-01 2.50050366e-01\n",
      "  3.89565006e-02 1.21325199e-02 4.80159745e-03 2.87779537e-03\n",
      "  1.15839839e-02 5.96335810e-03 4.60052770e-03 1.62958505e-03\n",
      "  1.58441358e-03 6.02606218e-04 4.77594091e-04 4.11144749e-04\n",
      "  4.19446733e-04 3.68333422e-04 4.96588997e-04 1.78626529e-03\n",
      "  2.74225660e-02 2.61878252e-01 4.95405585e-01 5.32109082e-01\n",
      "  7.78388679e-01 7.96511531e-01 5.29719114e-01 4.92061704e-01\n",
      "  4.10980940e-01 2.09701508e-01 6.50034249e-02 4.83394042e-02\n",
      "  1.17335301e-02 1.94109336e-03 8.21250840e-04 6.02594169e-04\n",
      "  9.27124405e-04 5.94283920e-04 8.57408682e-04 8.45133560e-04\n",
      "  6.24192180e-04 3.79963516e-04 2.61621753e-04 2.78405496e-04\n",
      "  2.54449551e-04 2.44474882e-04 2.59059918e-04 3.82054772e-04\n",
      "  1.19986106e-03 2.90667149e-03 5.83225535e-03 1.30671747e-02\n",
      "  2.53659952e-02 9.40266624e-03 1.02655152e-02 4.18117968e-03\n",
      "  7.58190081e-03 3.89887253e-03 4.00586938e-03 1.38776039e-03\n",
      "  4.38466901e-04 1.67705832e-04 1.19623663e-04 1.86625897e-04\n",
      "  1.54505644e-04 1.26442013e-04 2.88156094e-04 3.42284970e-04\n",
      "  4.42466873e-04 4.12016321e-04 3.69302055e-04 3.29978386e-04\n",
      "  5.02127339e-04 1.90407693e-04 3.95029900e-04 2.92928191e-04\n",
      "  6.45967491e-04 7.42881210e-04 1.58323580e-03 1.56584627e-03\n",
      "  8.02721712e-04 4.53868357e-04 9.24799650e-04 4.00333898e-04\n",
      "  3.27947695e-04 1.97550311e-04 1.62446493e-04 1.21339122e-04\n",
      "  7.59771137e-05 8.09219418e-05 7.18899464e-05 1.59509742e-04\n",
      "  1.96174617e-04 1.79272407e-04 3.89830908e-04 3.04950663e-04\n",
      "  2.85793009e-04 3.90518806e-04 2.75636034e-04 3.61042534e-04\n",
      "  3.20228981e-04 2.72894074e-04 4.03006619e-04 2.49412231e-04\n",
      "  3.50389688e-04 3.00135551e-04 5.81492786e-04 4.36677452e-04\n",
      "  1.08439988e-03 1.45996804e-03 1.81609171e-03 7.29983556e-04\n",
      "  8.80110136e-04 7.68585887e-04 3.79117409e-04 2.80356355e-04\n",
      "  3.11854645e-04 4.42103861e-04 5.21648733e-04 3.31768533e-04\n",
      "  2.99912121e-04 3.42230778e-04 2.19823400e-04 3.24538880e-04\n",
      "  2.16835790e-04 2.37251312e-04 2.72894074e-04 2.54449551e-04]], shape=(1, 784), dtype=float32)\n"
     ]
    }
   ],
   "source": [
    "hh0_p = tf.nn.sigmoid(tf.matmul(sample_case, W) + hb)\n",
    "hh0_s = tf.round(hh0_p)\n",
    "\n",
    "print(\"Probability nodes in hidden layer:\" ,hh0_p)\n",
    "print(\"activated nodes in hidden layer:\" ,hh0_s)\n",
    "\n",
    "# reconstruct\n",
    "vv1_p = tf.nn.sigmoid(tf.matmul(hh0_s, tf.transpose(W)) + vb)\n",
    "\n",
    "print(vv1_p)\n",
    "#rec_prob = sess.run(vv1_p, feed_dict={ hh0_s: hh0_s_val, W: prv_w, vb: prv_vb})"
   ]
  },
  {
   "cell_type": "markdown",
   "metadata": {},
   "source": [
    "Here we plot the reconstructed image:\n"
   ]
  },
  {
   "cell_type": "code",
   "execution_count": 41,
   "metadata": {
    "tags": []
   },
   "outputs": [
    {
     "ename": "AttributeError",
     "evalue": "module 'tensorflow' has no attribute 'Session'",
     "output_type": "error",
     "traceback": [
      "\u001b[0;31m---------------------------------------------------------------------------\u001b[0m",
      "\u001b[0;31mAttributeError\u001b[0m                            Traceback (most recent call last)",
      "\u001b[0;32m/tmp/ipykernel_3593/1506512472.py\u001b[0m in \u001b[0;36m<module>\u001b[0;34m\u001b[0m\n\u001b[0;32m----> 1\u001b[0;31m \u001b[0msess\u001b[0m \u001b[0;34m=\u001b[0m \u001b[0mtf\u001b[0m\u001b[0;34m.\u001b[0m\u001b[0mSession\u001b[0m\u001b[0;34m(\u001b[0m\u001b[0;34m)\u001b[0m\u001b[0;34m\u001b[0m\u001b[0;34m\u001b[0m\u001b[0m\n\u001b[0m\u001b[1;32m      2\u001b[0m \u001b[0mX\u001b[0m \u001b[0;34m=\u001b[0m \u001b[0mtf\u001b[0m\u001b[0;34m.\u001b[0m\u001b[0mconstant\u001b[0m\u001b[0;34m(\u001b[0m\u001b[0;34m[\u001b[0m\u001b[0;34m[\u001b[0m\u001b[0;36m1.0\u001b[0m\u001b[0;34m,\u001b[0m \u001b[0;36m0.0\u001b[0m\u001b[0;34m,\u001b[0m \u001b[0;36m0.0\u001b[0m\u001b[0;34m,\u001b[0m \u001b[0;36m1.0\u001b[0m\u001b[0;34m,\u001b[0m \u001b[0;36m0.0\u001b[0m\u001b[0;34m,\u001b[0m \u001b[0;36m0.0\u001b[0m\u001b[0;34m,\u001b[0m \u001b[0;36m0.0\u001b[0m\u001b[0;34m]\u001b[0m\u001b[0;34m]\u001b[0m\u001b[0;34m)\u001b[0m\u001b[0;34m\u001b[0m\u001b[0;34m\u001b[0m\u001b[0m\n\u001b[1;32m      3\u001b[0m \u001b[0mv_state\u001b[0m \u001b[0;34m=\u001b[0m \u001b[0mX\u001b[0m\u001b[0;34m\u001b[0m\u001b[0;34m\u001b[0m\u001b[0m\n\u001b[1;32m      4\u001b[0m \u001b[0mprint\u001b[0m \u001b[0;34m(\u001b[0m\u001b[0;34m\"Input: \"\u001b[0m\u001b[0;34m,\u001b[0m \u001b[0msess\u001b[0m\u001b[0;34m.\u001b[0m\u001b[0mrun\u001b[0m\u001b[0;34m(\u001b[0m\u001b[0mv_state\u001b[0m\u001b[0;34m)\u001b[0m\u001b[0;34m)\u001b[0m\u001b[0;34m\u001b[0m\u001b[0;34m\u001b[0m\u001b[0m\n\u001b[1;32m      5\u001b[0m \u001b[0;34m\u001b[0m\u001b[0m\n",
      "\u001b[0;31mAttributeError\u001b[0m: module 'tensorflow' has no attribute 'Session'"
     ]
    }
   ],
   "source": [
    "sess = tf.Session()\n",
    "X = tf.constant([[1.0, 0.0, 0.0, 1.0, 0.0, 0.0, 0.0]])\n",
    "v_state = X\n",
    "print (\"Input: \", sess.run(v_state))\n",
    "\n",
    "h_bias = tf.constant([0.1, 0.1])\n",
    "print (\"hb: \", sess.run(h_bias))\n",
    "print (\"w: \", sess.run(W))\n",
    "\n",
    "# Calculate the probabilities of turning the hidden units on:\n",
    "h_prob = tf.nn.sigmoid(tf.matmul(v_state, W) + h_bias)  #probabilities of the hidden units\n",
    "print (\"p(h|v): \", sess.run(h_prob))\n",
    "\n",
    "# Draw samples from the distribution:\n",
    "h_state = tf.nn.relu(tf.sign(h_prob - tf.random_uniform(tf.shape(h_prob)))) #states\n",
    "print (\"h0 states:\", sess.run(h_state))"
   ]
  },
  {
   "cell_type": "code",
   "execution_count": 40,
   "metadata": {
    "tags": []
   },
   "outputs": [
    {
     "ename": "NameError",
     "evalue": "name 'sess' is not defined",
     "output_type": "error",
     "traceback": [
      "\u001b[0;31m---------------------------------------------------------------------------\u001b[0m",
      "\u001b[0;31mNameError\u001b[0m                                 Traceback (most recent call last)",
      "\u001b[0;32m/tmp/ipykernel_3593/1499273505.py\u001b[0m in \u001b[0;36m<module>\u001b[0;34m\u001b[0m\n\u001b[0;32m----> 1\u001b[0;31m \u001b[0mrec_prob\u001b[0m \u001b[0;34m=\u001b[0m \u001b[0msess\u001b[0m\u001b[0;34m.\u001b[0m\u001b[0mrun\u001b[0m\u001b[0;34m(\u001b[0m\u001b[0mvv1_p\u001b[0m\u001b[0;34m,\u001b[0m \u001b[0mfeed_dict\u001b[0m\u001b[0;34m=\u001b[0m\u001b[0;34m{\u001b[0m \u001b[0mhh0_s\u001b[0m\u001b[0;34m:\u001b[0m \u001b[0mhh0_s_val\u001b[0m\u001b[0;34m,\u001b[0m \u001b[0mW\u001b[0m\u001b[0;34m:\u001b[0m \u001b[0mprv_w\u001b[0m\u001b[0;34m,\u001b[0m \u001b[0mvb\u001b[0m\u001b[0;34m:\u001b[0m \u001b[0mprv_vb\u001b[0m\u001b[0;34m}\u001b[0m\u001b[0;34m)\u001b[0m\u001b[0;34m\u001b[0m\u001b[0;34m\u001b[0m\u001b[0m\n\u001b[0m",
      "\u001b[0;31mNameError\u001b[0m: name 'sess' is not defined"
     ]
    }
   ],
   "source": [
    "rec_prob = sess.run(vv1_p, feed_dict={ hh0_s: hh0_s_val, W: prv_w, vb: prv_vb})"
   ]
  },
  {
   "cell_type": "code",
   "execution_count": 39,
   "metadata": {
    "tags": []
   },
   "outputs": [
    {
     "ename": "NameError",
     "evalue": "name 'numpy' is not defined",
     "output_type": "error",
     "traceback": [
      "\u001b[0;31m---------------------------------------------------------------------------\u001b[0m",
      "\u001b[0;31mNameError\u001b[0m                                 Traceback (most recent call last)",
      "\u001b[0;32m/tmp/ipykernel_3593/3803996827.py\u001b[0m in \u001b[0;36m<module>\u001b[0;34m\u001b[0m\n\u001b[0;32m----> 1\u001b[0;31m \u001b[0mimg\u001b[0m \u001b[0;34m=\u001b[0m \u001b[0mImage\u001b[0m\u001b[0;34m.\u001b[0m\u001b[0mfromarray\u001b[0m\u001b[0;34m(\u001b[0m\u001b[0mtile_raster_images\u001b[0m\u001b[0;34m(\u001b[0m\u001b[0mX\u001b[0m\u001b[0;34m=\u001b[0m\u001b[0mvv1_p\u001b[0m\u001b[0;34m.\u001b[0m\u001b[0mnumpy\u001b[0m\u001b[0;34m(\u001b[0m\u001b[0;34m)\u001b[0m\u001b[0;34m,\u001b[0m \u001b[0mimg_shape\u001b[0m\u001b[0;34m=\u001b[0m\u001b[0;34m(\u001b[0m\u001b[0;36m28\u001b[0m\u001b[0;34m,\u001b[0m \u001b[0;36m28\u001b[0m\u001b[0;34m)\u001b[0m\u001b[0;34m,\u001b[0m\u001b[0mtile_shape\u001b[0m\u001b[0;34m=\u001b[0m\u001b[0;34m(\u001b[0m\u001b[0;36m1\u001b[0m\u001b[0;34m,\u001b[0m \u001b[0;36m1\u001b[0m\u001b[0;34m)\u001b[0m\u001b[0;34m,\u001b[0m \u001b[0mtile_spacing\u001b[0m\u001b[0;34m=\u001b[0m\u001b[0;34m(\u001b[0m\u001b[0;36m1\u001b[0m\u001b[0;34m,\u001b[0m \u001b[0;36m1\u001b[0m\u001b[0;34m)\u001b[0m\u001b[0;34m)\u001b[0m\u001b[0;34m)\u001b[0m\u001b[0;34m\u001b[0m\u001b[0;34m\u001b[0m\u001b[0m\n\u001b[0m\u001b[1;32m      2\u001b[0m \u001b[0mplt\u001b[0m\u001b[0;34m.\u001b[0m\u001b[0mrcParams\u001b[0m\u001b[0;34m[\u001b[0m\u001b[0;34m'figure.figsize'\u001b[0m\u001b[0;34m]\u001b[0m \u001b[0;34m=\u001b[0m \u001b[0;34m(\u001b[0m\u001b[0;36m4.0\u001b[0m\u001b[0;34m,\u001b[0m \u001b[0;36m4.0\u001b[0m\u001b[0;34m)\u001b[0m\u001b[0;34m\u001b[0m\u001b[0;34m\u001b[0m\u001b[0m\n\u001b[1;32m      3\u001b[0m \u001b[0mimgplot\u001b[0m \u001b[0;34m=\u001b[0m \u001b[0mplt\u001b[0m\u001b[0;34m.\u001b[0m\u001b[0mimshow\u001b[0m\u001b[0;34m(\u001b[0m\u001b[0mimg\u001b[0m\u001b[0;34m)\u001b[0m\u001b[0;34m\u001b[0m\u001b[0;34m\u001b[0m\u001b[0m\n\u001b[1;32m      4\u001b[0m \u001b[0mimgplot\u001b[0m\u001b[0;34m.\u001b[0m\u001b[0mset_cmap\u001b[0m\u001b[0;34m(\u001b[0m\u001b[0;34m'gray'\u001b[0m\u001b[0;34m)\u001b[0m\u001b[0;34m\u001b[0m\u001b[0;34m\u001b[0m\u001b[0m\n",
      "\u001b[0;32m/tmp/ipykernel_3593/3562959629.py\u001b[0m in \u001b[0;36mtile_raster_images\u001b[0;34m(X, img_shape, tile_shape, tile_spacing, scale_rows_to_unit_interval, output_pixel_vals)\u001b[0m\n\u001b[1;32m     94\u001b[0m         \u001b[0;32mif\u001b[0m \u001b[0moutput_pixel_vals\u001b[0m\u001b[0;34m:\u001b[0m\u001b[0;34m\u001b[0m\u001b[0;34m\u001b[0m\u001b[0m\n\u001b[1;32m     95\u001b[0m             \u001b[0mdt\u001b[0m \u001b[0;34m=\u001b[0m \u001b[0;34m'uint8'\u001b[0m\u001b[0;34m\u001b[0m\u001b[0;34m\u001b[0m\u001b[0m\n\u001b[0;32m---> 96\u001b[0;31m         \u001b[0mout_array\u001b[0m \u001b[0;34m=\u001b[0m \u001b[0mnumpy\u001b[0m\u001b[0;34m.\u001b[0m\u001b[0mzeros\u001b[0m\u001b[0;34m(\u001b[0m\u001b[0mout_shape\u001b[0m\u001b[0;34m,\u001b[0m \u001b[0mdtype\u001b[0m\u001b[0;34m=\u001b[0m\u001b[0mdt\u001b[0m\u001b[0;34m)\u001b[0m\u001b[0;34m\u001b[0m\u001b[0;34m\u001b[0m\u001b[0m\n\u001b[0m\u001b[1;32m     97\u001b[0m \u001b[0;34m\u001b[0m\u001b[0m\n\u001b[1;32m     98\u001b[0m         \u001b[0;32mfor\u001b[0m \u001b[0mtile_row\u001b[0m \u001b[0;32min\u001b[0m \u001b[0mrange\u001b[0m\u001b[0;34m(\u001b[0m\u001b[0mtile_shape\u001b[0m\u001b[0;34m[\u001b[0m\u001b[0;36m0\u001b[0m\u001b[0;34m]\u001b[0m\u001b[0;34m)\u001b[0m\u001b[0;34m:\u001b[0m\u001b[0;34m\u001b[0m\u001b[0;34m\u001b[0m\u001b[0m\n",
      "\u001b[0;31mNameError\u001b[0m: name 'numpy' is not defined"
     ]
    }
   ],
   "source": [
    "img = Image.fromarray(tile_raster_images(X=vv1_p.numpy(), img_shape=(28, 28),tile_shape=(1, 1), tile_spacing=(1, 1)))\n",
    "plt.rcParams['figure.figsize'] = (4.0, 4.0)\n",
    "imgplot = plt.imshow(img)\n",
    "imgplot.set_cmap('gray') "
   ]
  },
  {
   "cell_type": "markdown",
   "metadata": {},
   "source": [
    "<hr>\n",
    "\n",
    "## Want to learn more?\n",
    "\n",
    "Also, you can use __Watson Studio__ to run these notebooks faster with bigger datasets.__Watson Studio__ is IBM’s leading cloud solution for data scientists, built by data scientists. With Jupyter notebooks, RStudio, Apache Spark and popular libraries pre-packaged in the cloud, __Watson Studio__ enables data scientists to collaborate on their projects without having to install anything. Join the fast-growing community of __Watson Studio__ users today with a free account at [Watson Studio](https://cocl.us/ML0120EN_DSX).This is the end of this lesson. Thank you for reading this notebook, and good luck on your studies.\n"
   ]
  },
  {
   "cell_type": "markdown",
   "metadata": {},
   "source": [
    "### Thanks for completing this lesson!\n",
    "\n",
    "Notebook created by: <a href = \"https://ca.linkedin.com/in/saeedaghabozorgi\">Saeed Aghabozorgi</a>\n",
    "\n",
    "Updated to TF 2.X by  <a href=\"https://ca.linkedin.com/in/nilmeier?utm_medium=Exinfluencer&utm_source=Exinfluencer&utm_content=000026UJ&utm_term=10006555&utm_id=NA-SkillsNetwork-Channel-SkillsNetworkCoursesIBMDeveloperSkillsNetworkDL0120ENSkillsNetwork954-2023-01-01\"> Jerome Nilmeier</a><br />\n"
   ]
  },
  {
   "cell_type": "markdown",
   "metadata": {},
   "source": [
    "### References:\n",
    "https://en.wikipedia.org/wiki/Restricted_Boltzmann_machine  \n",
    "http://deeplearning.net/tutorial/rbm.html  \n",
    "http://www.cs.utoronto.ca/~hinton/absps/netflixICML.pdf<br>\n",
    "http://imonad.com/rbm/restricted-boltzmann-machine/  \n"
   ]
  },
  {
   "cell_type": "markdown",
   "metadata": {},
   "source": [
    "<hr>\n",
    "\n",
    "Copyright &copy; 2018 [Cognitive Class](https://cocl.us/DX0108EN_CC). This notebook and its source code are released under the terms of the [MIT License](https://bigdatauniversity.com/mit-license/?utm_medium=Exinfluencer&utm_source=Exinfluencer&utm_content=000026UJ&utm_term=10006555&utm_id=NA-SkillsNetwork-Channel-SkillsNetworkCoursesIBMDeveloperSkillsNetworkDL0120ENSkillsNetwork954-2023-01-01).\n"
   ]
  }
 ],
 "metadata": {
  "kernelspec": {
   "display_name": "Python",
   "language": "python",
   "name": "conda-env-python-py"
  },
  "language_info": {
   "codemirror_mode": {
    "name": "ipython",
    "version": 3
   },
   "file_extension": ".py",
   "mimetype": "text/x-python",
   "name": "python",
   "nbconvert_exporter": "python",
   "pygments_lexer": "ipython3",
   "version": "3.7.12"
  }
 },
 "nbformat": 4,
 "nbformat_minor": 4
}
