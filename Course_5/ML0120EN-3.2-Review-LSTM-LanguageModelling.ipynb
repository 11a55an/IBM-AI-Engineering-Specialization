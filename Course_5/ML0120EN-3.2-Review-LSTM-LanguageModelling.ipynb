{
 "cells": [
  {
   "cell_type": "markdown",
   "metadata": {},
   "source": [
    "<img src=\"https://cf-courses-data.s3.us.cloud-object-storage.appdomain.cloud/IBMDeveloperSkillsNetwork-DL0120EN-SkillsNetwork/images/IDSN-logo.png\" width=\"300\" alt=\"cognitiveclass.ai logo\">\n",
    "\n",
    "<h1 align=\"center\"><font size=\"5\">RECURRENT NETWORKS and LSTM IN DEEP LEARNING</font></h1>\n"
   ]
  },
  {
   "cell_type": "markdown",
   "metadata": {},
   "source": [
    "Estimated time needed: **30** minutes\n"
   ]
  },
  {
   "cell_type": "markdown",
   "metadata": {},
   "source": [
    "<h2>Applying Recurrent Neural Networks/LSTM for Language Modeling</h2>\n",
    "Hello and welcome to this part. In this notebook, we will go over the topic of Language Modelling, and create a Recurrent Neural Network model based on the Long Short-Term Memory unit to train and benchmark on the Penn Treebank dataset. By the end of this notebook, you should be able to understand how TensorFlow builds and executes a RNN model for Language Modelling.\n"
   ]
  },
  {
   "cell_type": "markdown",
   "metadata": {},
   "source": [
    "<h2>The Objective</h2>\n",
    "By now, you should have an understanding of how Recurrent Networks work -- a specialized model to process sequential data by keeping track of the \"state\" or context. In this notebook, we go over a TensorFlow code snippet for creating a model focused on <b>Language Modelling</b> -- a very relevant task that is the cornerstone of many different linguistic problems such as <b>Speech Recognition, Machine Translation and Image Captioning</b>. For this, we will be using the Penn Treebank dataset, which is an often-used dataset for benchmarking Language Modelling models.\n"
   ]
  },
  {
   "cell_type": "markdown",
   "metadata": {},
   "source": [
    "\n",
    "<h2>Table of Contents</h2>\n",
    "<ol>\n",
    "    <li><a href=\"#language_modelling\">What exactly is Language Modelling?</a></li>\n",
    "    <li><a href=\"#treebank_dataset\">The Penn Treebank dataset</a></li>\n",
    "    <li><a href=\"#word_embedding\">Word Embedding</a></li>\n",
    "    <li><a href=\"#building_lstm_model\">Building the LSTM model for Language Modeling</a></li>\n",
    "    <li><a href=\"#ltsm\">LTSM</a></li>\n",
    "</ol>\n",
    "<p></p>\n",
    "</div>\n",
    "<br>\n"
   ]
  },
  {
   "cell_type": "markdown",
   "metadata": {},
   "source": [
    "--------\n"
   ]
  },
  {
   "cell_type": "markdown",
   "metadata": {},
   "source": [
    "<a id=\"language_modelling\"></a>\n",
    "<h2>What exactly is Language Modelling?</h2>\n",
    "Language Modelling, to put it simply, <b>is the task of assigning probabilities to sequences of words</b>. This means that, given a context of one or a sequence of words in the language the model was trained on, the model should provide the next most probable words or sequence of words that follows from the given sequence of words the sentence. Language Modelling is one of the most important tasks in Natural Language Processing.\n",
    "\n",
    "<img src=\"https://ibm.box.com/shared/static/1d1i5gub6wljby2vani2vzxp0xsph702.png\" width=\"1080\">\n",
    "<center><i>Example of a sentence being predicted</i></center>\n",
    "<br><br>\n",
    "In this example, one can see the predictions for the next word of a sentence, given the context \"This is an\". As you can see, this boils down to a sequential data analysis task -- you are given a word or a sequence of words (the input data), and, given the context (the state), you need to find out what is the next word (the prediction). This kind of analysis is very important for language-related tasks such as <b>Speech Recognition, Machine Translation, Image Captioning, Text Correction</b> and many other very relevant problems. \n",
    "\n",
    "<img src=\"https://ibm.box.com/shared/static/az39idf9ipfdpc5ugifpgxnydelhyf3i.png\" width=\"1080\">\n",
    "<center><i>The above example is a schema of an RNN in execution</i></center>\n",
    "<br><br>\n",
    "As the above image shows, Recurrent Network models fit this problem like a glove. Alongside LSTM and its capacity to maintain the model's state for over one thousand time steps, we have all the tools we need to undertake this problem. The goal for this notebook is to create a model that can reach <b>low levels of perplexity</b> on our desired dataset.\n",
    "\n",
    "For Language Modelling problems, <b>perplexity</b> is the way to gauge efficiency. Perplexity is simply a measure of how well a probabilistic model is able to predict its sample. A higher-level way to explain this would be saying that <b>low perplexity means a higher degree of trust in the predictions the model makes</b>. Therefore, the lower perplexity is, the better.\n"
   ]
  },
  {
   "cell_type": "markdown",
   "metadata": {},
   "source": [
    "<a id=\"treebank_dataset\"></a>\n",
    "<h2>The Penn Treebank dataset</h2>\n",
    "Historically, datasets big enough for Natural Language Processing are hard to come by. This is in part due to the necessity of the sentences to be broken down and tagged with a certain degree of correctness -- or else the models trained on it won't be able to be correct at all. This means that we need a <b>large amount of data, annotated by or at least corrected by humans</b>. This is, of course, not an easy task at all.\n",
    "\n",
    "The Penn Treebank, or PTB for short, is a dataset maintained by the University of Pennsylvania. It is <i>huge</i> -- there are over <b>four million and eight hundred thousand</b> annotated words in it, all corrected by humans. It is composed of many different sources, from abstracts of Department of Energy papers to texts from the Library of America. Since it is verifiably correct and of such a huge size, the Penn Treebank is commonly used as a benchmark dataset for Language Modelling.\n",
    "\n",
    "The dataset is divided in different kinds of annotations, such as Piece-of-Speech, Syntactic and Semantic skeletons. For this example, we will simply use a sample of clean, non-annotated words (with the exception of one tag --<code>&lt;unk&gt;</code>\n",
    ", which is used for rare words such as uncommon proper nouns) for our model. This means that we just want to predict what the next words would be, not what they mean in context or their classes on a given sentence.\n",
    "\n",
    "<center>Example of text from the dataset we are going to use, <b>ptb.train</b></center>\n",
    "<br><br>\n",
    "\n",
    "<div class=\"alert alert-block alert-info\" style=\"margin-top: 20px\">\n",
    "    <center>the percentage of lung cancer deaths among the workers at the west <code>&lt;unk&gt;</code> mass. paper factory appears to be the highest for any asbestos workers studied in western industrialized countries he said \n",
    " the plant which is owned by <code>&lt;unk&gt;</code> & <code>&lt;unk&gt;</code> co. was under contract with <code>&lt;unk&gt;</code> to make the cigarette filters \n",
    " the finding probably will support those who argue that the U.S. should regulate the class of asbestos including <code>&lt;unk&gt;</code> more <code>&lt;unk&gt;</code> than the common kind of asbestos <code>&lt;unk&gt;</code> found in most schools and other buildings dr. <code>&lt;unk&gt;</code> said</center>\n",
    "</div>\n"
   ]
  },
  {
   "cell_type": "markdown",
   "metadata": {},
   "source": [
    "<a id=\"word_embedding\"></a>\n",
    "<h2>Word Embeddings</h2><br/>\n",
    "\n",
    "For better processing, in this example, we will make use of <a href=\"https://www.tensorflow.org/tutorials/word2vec/?utm_medium=Exinfluencer&utm_source=Exinfluencer&utm_content=000026UJ&utm_term=10006555&utm_id=NA-SkillsNetwork-Channel-SkillsNetworkCoursesIBMDeveloperSkillsNetworkDL0120ENSkillsNetwork954-2023-01-01\"><b>word embeddings</b></a>, which is <b>a way of representing sentence structures or words as n-dimensional vectors (where n is a reasonably high number, such as 200 or 500) of real numbers</b>. Basically, we will assign each word a randomly-initialized vector, and input those into the network to be processed. After a number of iterations, these vectors are expected to assume values that help the network to correctly predict what it needs to -- in our case, the probable next word in the sentence. This is shown to be a very effective task in Natural Language Processing, and is a commonplace practice.\n",
    "<br><br>\n",
    "<font size=\"4\"><strong>\n",
    "$$Vec(\"Example\") = [0.02, 0.00, 0.00, 0.92, 0.30, \\ldots]$$\n",
    "</strong></font>\n",
    "<br>\n",
    "Word Embedding tends to group up similarly used words <i>reasonably</i> close together in the vectorial space. For example, if we use T-SNE (a dimensional reduction visualization algorithm) to flatten the dimensions of our vectors into a 2-dimensional space and plot these words in a 2-dimensional space, we might see something like this:\n",
    "\n",
    "<img src=\"https://ibm.box.com/shared/static/bqhc5dg879gcoabzhxra1w8rkg3od1cu.png\" width=\"800\">\n",
    "<center><i>T-SNE Mockup with clusters marked for easier visualization</i></center>\n",
    "<br><br>\n",
    "As you can see, words that are frequently used together, in place of each other, or in the same places as them tend to be grouped together -- being closer together the higher they are correlated. For example, \"None\" is pretty semantically close to \"Zero\", while a phrase that uses \"Italy\", you could probably also fit \"Germany\" in it, with little damage to the sentence structure. The vectorial \"closeness\" for similar words like this is a great indicator of a well-built model.\n",
    "\n",
    "<hr>\n",
    " \n"
   ]
  },
  {
   "cell_type": "markdown",
   "metadata": {},
   "source": [
    "We need to import the necessary modules for our code. We need <b><code>numpy</code></b> and <b><code>tensorflow</code></b>, obviously. Additionally, we can import directly the <b><code>tensorflow.models.rnn</code></b> model, which includes the function for building RNNs, and <b><code>tensorflow.models.rnn.ptb.reader</code></b> which is the helper module for getting the input data from the dataset we just downloaded.\n",
    "\n",
    "If you want to learn more take a look at https://github.com/tensorflow/models/blob/master/tutorials/rnn/ptb/reader.py\n"
   ]
  },
  {
   "cell_type": "code",
   "execution_count": 1,
   "metadata": {},
   "outputs": [
    {
     "name": "stdout",
     "output_type": "stream",
     "text": [
      "Requirement already satisfied: tensorflow==2.9.0 in /home/jupyterlab/conda/envs/python/lib/python3.7/site-packages (2.9.0)\n",
      "Requirement already satisfied: absl-py>=1.0.0 in /home/jupyterlab/conda/envs/python/lib/python3.7/site-packages (from tensorflow==2.9.0) (1.4.0)\n",
      "Requirement already satisfied: astunparse>=1.6.0 in /home/jupyterlab/conda/envs/python/lib/python3.7/site-packages (from tensorflow==2.9.0) (1.6.3)\n",
      "Requirement already satisfied: flatbuffers<2,>=1.12 in /home/jupyterlab/conda/envs/python/lib/python3.7/site-packages (from tensorflow==2.9.0) (1.12)\n",
      "Requirement already satisfied: gast<=0.4.0,>=0.2.1 in /home/jupyterlab/conda/envs/python/lib/python3.7/site-packages (from tensorflow==2.9.0) (0.4.0)\n",
      "Requirement already satisfied: google-pasta>=0.1.1 in /home/jupyterlab/conda/envs/python/lib/python3.7/site-packages (from tensorflow==2.9.0) (0.2.0)\n",
      "Requirement already satisfied: grpcio<2.0,>=1.24.3 in /home/jupyterlab/conda/envs/python/lib/python3.7/site-packages (from tensorflow==2.9.0) (1.24.3)\n",
      "Requirement already satisfied: h5py>=2.9.0 in /home/jupyterlab/conda/envs/python/lib/python3.7/site-packages (from tensorflow==2.9.0) (3.8.0)\n",
      "Requirement already satisfied: keras<2.10.0,>=2.9.0rc0 in /home/jupyterlab/conda/envs/python/lib/python3.7/site-packages (from tensorflow==2.9.0) (2.9.0)\n",
      "Requirement already satisfied: keras-preprocessing>=1.1.1 in /home/jupyterlab/conda/envs/python/lib/python3.7/site-packages (from tensorflow==2.9.0) (1.1.2)\n",
      "Requirement already satisfied: libclang>=13.0.0 in /home/jupyterlab/conda/envs/python/lib/python3.7/site-packages (from tensorflow==2.9.0) (16.0.0)\n",
      "Requirement already satisfied: numpy>=1.20 in /home/jupyterlab/conda/envs/python/lib/python3.7/site-packages (from tensorflow==2.9.0) (1.21.4)\n",
      "Requirement already satisfied: opt-einsum>=2.3.2 in /home/jupyterlab/conda/envs/python/lib/python3.7/site-packages (from tensorflow==2.9.0) (3.3.0)\n",
      "Requirement already satisfied: packaging in /home/jupyterlab/conda/envs/python/lib/python3.7/site-packages (from tensorflow==2.9.0) (23.1)\n",
      "Requirement already satisfied: protobuf>=3.9.2 in /home/jupyterlab/conda/envs/python/lib/python3.7/site-packages (from tensorflow==2.9.0) (3.19.6)\n",
      "Requirement already satisfied: setuptools in /home/jupyterlab/conda/envs/python/lib/python3.7/site-packages (from tensorflow==2.9.0) (67.7.2)\n",
      "Requirement already satisfied: six>=1.12.0 in /home/jupyterlab/conda/envs/python/lib/python3.7/site-packages (from tensorflow==2.9.0) (1.16.0)\n",
      "Requirement already satisfied: tensorboard<2.10,>=2.9 in /home/jupyterlab/conda/envs/python/lib/python3.7/site-packages (from tensorflow==2.9.0) (2.9.1)\n",
      "Requirement already satisfied: tensorflow-io-gcs-filesystem>=0.23.1 in /home/jupyterlab/conda/envs/python/lib/python3.7/site-packages (from tensorflow==2.9.0) (0.32.0)\n",
      "Requirement already satisfied: tensorflow-estimator<2.10.0,>=2.9.0rc0 in /home/jupyterlab/conda/envs/python/lib/python3.7/site-packages (from tensorflow==2.9.0) (2.9.0)\n",
      "Requirement already satisfied: termcolor>=1.1.0 in /home/jupyterlab/conda/envs/python/lib/python3.7/site-packages (from tensorflow==2.9.0) (2.3.0)\n",
      "Requirement already satisfied: typing-extensions>=3.6.6 in /home/jupyterlab/conda/envs/python/lib/python3.7/site-packages (from tensorflow==2.9.0) (4.5.0)\n",
      "Requirement already satisfied: wrapt>=1.11.0 in /home/jupyterlab/conda/envs/python/lib/python3.7/site-packages (from tensorflow==2.9.0) (1.14.1)\n",
      "Requirement already satisfied: wheel<1.0,>=0.23.0 in /home/jupyterlab/conda/envs/python/lib/python3.7/site-packages (from astunparse>=1.6.0->tensorflow==2.9.0) (0.40.0)\n",
      "Requirement already satisfied: google-auth<3,>=1.6.3 in /home/jupyterlab/conda/envs/python/lib/python3.7/site-packages (from tensorboard<2.10,>=2.9->tensorflow==2.9.0) (2.21.0)\n",
      "Requirement already satisfied: google-auth-oauthlib<0.5,>=0.4.1 in /home/jupyterlab/conda/envs/python/lib/python3.7/site-packages (from tensorboard<2.10,>=2.9->tensorflow==2.9.0) (0.4.6)\n",
      "Requirement already satisfied: markdown>=2.6.8 in /home/jupyterlab/conda/envs/python/lib/python3.7/site-packages (from tensorboard<2.10,>=2.9->tensorflow==2.9.0) (3.4.3)\n",
      "Requirement already satisfied: requests<3,>=2.21.0 in /home/jupyterlab/conda/envs/python/lib/python3.7/site-packages (from tensorboard<2.10,>=2.9->tensorflow==2.9.0) (2.29.0)\n",
      "Requirement already satisfied: tensorboard-data-server<0.7.0,>=0.6.0 in /home/jupyterlab/conda/envs/python/lib/python3.7/site-packages (from tensorboard<2.10,>=2.9->tensorflow==2.9.0) (0.6.1)\n",
      "Requirement already satisfied: tensorboard-plugin-wit>=1.6.0 in /home/jupyterlab/conda/envs/python/lib/python3.7/site-packages (from tensorboard<2.10,>=2.9->tensorflow==2.9.0) (1.8.1)\n",
      "Requirement already satisfied: werkzeug>=1.0.1 in /home/jupyterlab/conda/envs/python/lib/python3.7/site-packages (from tensorboard<2.10,>=2.9->tensorflow==2.9.0) (2.2.3)\n",
      "Requirement already satisfied: cachetools<6.0,>=2.0.0 in /home/jupyterlab/conda/envs/python/lib/python3.7/site-packages (from google-auth<3,>=1.6.3->tensorboard<2.10,>=2.9->tensorflow==2.9.0) (5.3.1)\n",
      "Requirement already satisfied: pyasn1-modules>=0.2.1 in /home/jupyterlab/conda/envs/python/lib/python3.7/site-packages (from google-auth<3,>=1.6.3->tensorboard<2.10,>=2.9->tensorflow==2.9.0) (0.3.0)\n",
      "Requirement already satisfied: rsa<5,>=3.1.4 in /home/jupyterlab/conda/envs/python/lib/python3.7/site-packages (from google-auth<3,>=1.6.3->tensorboard<2.10,>=2.9->tensorflow==2.9.0) (4.9)\n",
      "Requirement already satisfied: urllib3<2.0 in /home/jupyterlab/conda/envs/python/lib/python3.7/site-packages (from google-auth<3,>=1.6.3->tensorboard<2.10,>=2.9->tensorflow==2.9.0) (1.26.15)\n",
      "Requirement already satisfied: requests-oauthlib>=0.7.0 in /home/jupyterlab/conda/envs/python/lib/python3.7/site-packages (from google-auth-oauthlib<0.5,>=0.4.1->tensorboard<2.10,>=2.9->tensorflow==2.9.0) (1.3.1)\n",
      "Requirement already satisfied: importlib-metadata>=4.4 in /home/jupyterlab/conda/envs/python/lib/python3.7/site-packages (from markdown>=2.6.8->tensorboard<2.10,>=2.9->tensorflow==2.9.0) (4.11.4)\n",
      "Requirement already satisfied: charset-normalizer<4,>=2 in /home/jupyterlab/conda/envs/python/lib/python3.7/site-packages (from requests<3,>=2.21.0->tensorboard<2.10,>=2.9->tensorflow==2.9.0) (3.1.0)\n",
      "Requirement already satisfied: idna<4,>=2.5 in /home/jupyterlab/conda/envs/python/lib/python3.7/site-packages (from requests<3,>=2.21.0->tensorboard<2.10,>=2.9->tensorflow==2.9.0) (3.4)\n",
      "Requirement already satisfied: certifi>=2017.4.17 in /home/jupyterlab/conda/envs/python/lib/python3.7/site-packages (from requests<3,>=2.21.0->tensorboard<2.10,>=2.9->tensorflow==2.9.0) (2023.5.7)\n",
      "Requirement already satisfied: MarkupSafe>=2.1.1 in /home/jupyterlab/conda/envs/python/lib/python3.7/site-packages (from werkzeug>=1.0.1->tensorboard<2.10,>=2.9->tensorflow==2.9.0) (2.1.1)\n",
      "Requirement already satisfied: zipp>=0.5 in /home/jupyterlab/conda/envs/python/lib/python3.7/site-packages (from importlib-metadata>=4.4->markdown>=2.6.8->tensorboard<2.10,>=2.9->tensorflow==2.9.0) (3.15.0)\n",
      "Requirement already satisfied: pyasn1<0.6.0,>=0.4.6 in /home/jupyterlab/conda/envs/python/lib/python3.7/site-packages (from pyasn1-modules>=0.2.1->google-auth<3,>=1.6.3->tensorboard<2.10,>=2.9->tensorflow==2.9.0) (0.5.0)\n",
      "Requirement already satisfied: oauthlib>=3.0.0 in /home/jupyterlab/conda/envs/python/lib/python3.7/site-packages (from requests-oauthlib>=0.7.0->google-auth-oauthlib<0.5,>=0.4.1->tensorboard<2.10,>=2.9->tensorflow==2.9.0) (3.2.2)\n",
      "Requirement already satisfied: numpy==1.21.4 in /home/jupyterlab/conda/envs/python/lib/python3.7/site-packages (1.21.4)\n"
     ]
    }
   ],
   "source": [
    "!pip install tensorflow==2.9.0\n",
    "!pip install numpy==1.21.4\n"
   ]
  },
  {
   "cell_type": "code",
   "execution_count": 2,
   "metadata": {},
   "outputs": [
    {
     "name": "stderr",
     "output_type": "stream",
     "text": [
      "2023-07-10 17:05:30.188346: I tensorflow/core/util/util.cc:169] oneDNN custom operations are on. You may see slightly different numerical results due to floating-point round-off errors from different computation orders. To turn them off, set the environment variable `TF_ENABLE_ONEDNN_OPTS=0`.\n",
      "2023-07-10 17:05:30.609196: W tensorflow/stream_executor/platform/default/dso_loader.cc:64] Could not load dynamic library 'libcudart.so.11.0'; dlerror: libcudart.so.11.0: cannot open shared object file: No such file or directory\n",
      "2023-07-10 17:05:30.609242: I tensorflow/stream_executor/cuda/cudart_stub.cc:29] Ignore above cudart dlerror if you do not have a GPU set up on your machine.\n"
     ]
    }
   ],
   "source": [
    "import time\n",
    "import numpy as np\n",
    "import tensorflow as tf\n",
    "if not tf.__version__ == '2.9.0':\n",
    "    print(tf.__version__)\n",
    "    raise ValueError('please upgrade to TensorFlow 2.9.0, or restart your Kernel (Kernel->Restart & Clear Output)')"
   ]
  },
  {
   "cell_type": "markdown",
   "metadata": {},
   "source": [
    "IMPORTANT! => Please restart the kernel by clicking on \"Kernel\"->\"Restart and Clear Outout\" and wait until all output disapears. Then your changes are beeing picked up\n"
   ]
  },
  {
   "cell_type": "code",
   "execution_count": 3,
   "metadata": {},
   "outputs": [],
   "source": [
    "#!mkdir data\n",
    "#!mkdir data/ptb\n",
    "#!wget -q -O data/ptb/reader.py https://cf-courses-data.s3.us.cloud-object-storage.appdomain.cloud/IBMDeveloperSkillsNetwork-DL0120EN-SkillsNetwork/labs/Week3/data/ptb/reader.py\n",
    "#!cp data/ptb/reader.py .\n",
    "\n"
   ]
  },
  {
   "cell_type": "code",
   "execution_count": 4,
   "metadata": {},
   "outputs": [],
   "source": [
    "# Copyright 2015 The TensorFlow Authors. All Rights Reserved.\n",
    "#\n",
    "# Licensed under the Apache License, Version 2.0 (the \"License\");\n",
    "# you may not use this file except in compliance with the License.\n",
    "# You may obtain a copy of the License at\n",
    "#\n",
    "#     http://www.apache.org/licenses/LICENSE-2.0\n",
    "#\n",
    "# Unless required by applicable law or agreed to in writing, software\n",
    "# distributed under the License is distributed on an \"AS IS\" BASIS,\n",
    "# WITHOUT WARRANTIES OR CONDITIONS OF ANY KIND, either express or implied.\n",
    "# See the License for the specific language governing permissions and\n",
    "# limitations under the License.\n",
    "# ==============================================================================\n",
    "\n",
    "\n",
    "\"\"\"Utilities for parsing PTB text files.\"\"\"\n",
    "from __future__ import absolute_import\n",
    "from __future__ import division\n",
    "from __future__ import print_function\n",
    "\n",
    "import collections\n",
    "import os\n",
    "\n",
    "import numpy as np\n",
    "import tensorflow as tf\n",
    "\n",
    "\n",
    "def _read_words(filename):\n",
    "  with tf.io.gfile.GFile(filename, \"r\") as f:\n",
    "    return f.read().replace(\"\\n\", \"<eos>\").split()\n",
    "\n",
    "\n",
    "def _build_vocab(filename):\n",
    "  data = _read_words(filename)\n",
    "\n",
    "  counter = collections.Counter(data)\n",
    "  count_pairs = sorted(counter.items(), key=lambda x: (-x[1], x[0]))\n",
    "\n",
    "  words, _ = list(zip(*count_pairs))\n",
    "  word_to_id = dict(zip(words, range(len(words))))\n",
    "\n",
    "  return word_to_id\n",
    "\n",
    "\n",
    "def _file_to_word_ids(filename, word_to_id):\n",
    "  data = _read_words(filename)\n",
    "  return [word_to_id[word] for word in data if word in word_to_id]\n",
    "\n",
    "\n",
    "def ptb_raw_data(data_path=None):\n",
    "  \"\"\"Load PTB raw data from data directory \"data_path\".\n",
    "\n",
    "  Reads PTB text files, converts strings to integer ids,\n",
    "  and performs mini-batching of the inputs.\n",
    "\n",
    "  The PTB dataset comes from Tomas Mikolov's webpage:\n",
    "\n",
    "  http://www.fit.vutbr.cz/~imikolov/rnnlm/simple-examples.tgz\n",
    "\n",
    "  Args:\n",
    "    data_path: string path to the directory where simple-examples.tgz has\n",
    "      been extracted.\n",
    "\n",
    "  Returns:\n",
    "    tuple (train_data, valid_data, test_data, vocabulary)\n",
    "    where each of the data objects can be passed to PTBIterator.\n",
    "  \"\"\"\n",
    "\n",
    "  train_path = os.path.join(data_path, \"ptb.train.txt\")\n",
    "  valid_path = os.path.join(data_path, \"ptb.valid.txt\")\n",
    "  test_path = os.path.join(data_path, \"ptb.test.txt\")\n",
    "\n",
    "  word_to_id = _build_vocab(train_path)\n",
    "  train_data = _file_to_word_ids(train_path, word_to_id)\n",
    "  valid_data = _file_to_word_ids(valid_path, word_to_id)\n",
    "  test_data = _file_to_word_ids(test_path, word_to_id)\n",
    "  vocabulary = len(word_to_id)\n",
    "  return train_data, valid_data, test_data, vocabulary, word_to_id\n",
    "\n",
    "\n",
    "def ptb_iterator(raw_data, batch_size, num_steps):\n",
    "  \"\"\"Iterate on the raw PTB data.\n",
    "\n",
    "  This generates batch_size pointers into the raw PTB data, and allows\n",
    "  minibatch iteration along these pointers.\n",
    "\n",
    "  Args:\n",
    "    raw_data: one of the raw data outputs from ptb_raw_data.\n",
    "    batch_size: int, the batch size.\n",
    "    num_steps: int, the number of unrolls.\n",
    "\n",
    "  Yields:\n",
    "    Pairs of the batched data, each a matrix of shape [batch_size, num_steps].\n",
    "    The second element of the tuple is the same data time-shifted to the\n",
    "    right by one.\n",
    "\n",
    "  Raises:\n",
    "    ValueError: if batch_size or num_steps are too high.\n",
    "  \"\"\"\n",
    "  raw_data = np.array(raw_data, dtype=np.int32)\n",
    "\n",
    "  data_len = len(raw_data)\n",
    "  batch_len = data_len // batch_size\n",
    "  data = np.zeros([batch_size, batch_len], dtype=np.int32)\n",
    "  for i in range(batch_size):\n",
    "    data[i] = raw_data[batch_len * i:batch_len * (i + 1)]\n",
    "\n",
    "  epoch_size = (batch_len - 1) // num_steps\n",
    "\n",
    "  if epoch_size == 0:\n",
    "    raise ValueError(\"epoch_size == 0, decrease batch_size or num_steps\")\n",
    "\n",
    "  for i in range(epoch_size):\n",
    "    x = data[:, i*num_steps:(i+1)*num_steps]\n",
    "    y = data[:, i*num_steps+1:(i+1)*num_steps+1]\n",
    "    yield (x, y)"
   ]
  },
  {
   "cell_type": "markdown",
   "metadata": {},
   "source": [
    "<a id=\"building_lstm_model\"></a>\n",
    "<h2>Building the LSTM model for Language Modeling</h2>\n",
    "Now that we know exactly what we are doing, we can start building our model using TensorFlow. The very first thing we need to do is download and extract the <code>simple-examples</code> dataset, which can be done by executing the code cell below.\n"
   ]
  },
  {
   "cell_type": "code",
   "execution_count": 5,
   "metadata": {},
   "outputs": [
    {
     "name": "stdout",
     "output_type": "stream",
     "text": [
      "--2023-07-10 17:05:34--  http://www.fit.vutbr.cz/~imikolov/rnnlm/simple-examples.tgz\n",
      "Resolving www.fit.vutbr.cz (www.fit.vutbr.cz)... 147.229.9.23, 2001:67c:1220:809::93e5:917\n",
      "Connecting to www.fit.vutbr.cz (www.fit.vutbr.cz)|147.229.9.23|:80... connected.\n",
      "HTTP request sent, awaiting response... 200 OK\n",
      "Length: 34869662 (33M) [application/x-gtar]\n",
      "Saving to: ‘simple-examples.tgz.3’\n",
      "\n",
      "simple-examples.tgz 100%[===================>]  33.25M  8.82MB/s    in 4.0s    \n",
      "\n",
      "2023-07-10 17:05:39 (8.41 MB/s) - ‘simple-examples.tgz.3’ saved [34869662/34869662]\n",
      "\n",
      "tar: data: Cannot open: No such file or directory\n",
      "tar: Error is not recoverable: exiting now\n"
     ]
    }
   ],
   "source": [
    "!wget http://www.fit.vutbr.cz/~imikolov/rnnlm/simple-examples.tgz \n",
    "!tar xzf simple-examples.tgz -C data/"
   ]
  },
  {
   "cell_type": "code",
   "execution_count": 6,
   "metadata": {
    "tags": []
   },
   "outputs": [],
   "source": [
    "!tar xzf simple-examples.tgz"
   ]
  },
  {
   "cell_type": "markdown",
   "metadata": {},
   "source": [
    "Additionally, for the sake of making it easy to play around with the model's hyperparameters, we can declare them beforehand. Feel free to change these -- you will see a difference in performance each time you change those!  \n"
   ]
  },
  {
   "cell_type": "code",
   "execution_count": 7,
   "metadata": {},
   "outputs": [],
   "source": [
    "#Initial weight scale\n",
    "init_scale = 0.1\n",
    "#Initial learning rate\n",
    "learning_rate = 1.0\n",
    "#Maximum permissible norm for the gradient (For gradient clipping -- another measure against Exploding Gradients)\n",
    "max_grad_norm = 5\n",
    "#The number of layers in our model\n",
    "num_layers = 2\n",
    "#The total number of recurrence steps, also known as the number of layers when our RNN is \"unfolded\"\n",
    "num_steps = 20\n",
    "#The number of processing units (neurons) in the hidden layers\n",
    "hidden_size_l1 = 256\n",
    "hidden_size_l2 = 128\n",
    "#The maximum number of epochs trained with the initial learning rate\n",
    "max_epoch_decay_lr = 4\n",
    "#The total number of epochs in training\n",
    "max_epoch = 15\n",
    "#The probability for keeping data in the Dropout Layer (This is an optimization, but is outside our scope for this notebook!)\n",
    "#At 1, we ignore the Dropout Layer wrapping.\n",
    "keep_prob = 1\n",
    "#The decay for the learning rate\n",
    "decay = 0.5\n",
    "#The size for each batch of data\n",
    "batch_size = 30\n",
    "#The size of our vocabulary\n",
    "vocab_size = 10000\n",
    "embeding_vector_size= 200\n",
    "#Training flag to separate training from testing\n",
    "is_training = 1\n",
    "#Data directory for our dataset\n",
    "data_dir = \"simple-examples/data/\""
   ]
  },
  {
   "cell_type": "markdown",
   "metadata": {},
   "source": [
    "Some clarifications for LSTM architecture based on the arguments:\n",
    "\n",
    "Network structure:\n",
    "<ul>\n",
    "    <li>In this network, the number of LSTM cells are 2. To give the model more expressive power, we can add multiple layers of LSTMs to process the data. The output of the first layer will become the input of the second and so on.\n",
    "    </li>\n",
    "    <li>The recurrence steps is 20, that is, when our RNN is \"Unfolded\", the recurrence step is 20.</li>   \n",
    "    <li>the structure is like:\n",
    "        <ul>\n",
    "            <li>200 input units -> [200x200] Weight -> 200 Hidden units (first layer) -> [200x200] Weight matrix  -> 200 Hidden units (second layer) ->  [200] weight Matrix -> 200 unit output</li>\n",
    "        </ul>\n",
    "    </li>\n",
    "</ul>\n",
    "<br>\n",
    "\n",
    "Input layer: \n",
    "<ul>\n",
    "    <li>The network has 200 input units.</li>\n",
    "    <li>Suppose each word is represented by an embedding vector of dimensionality e=200. The input layer of each cell will have 200 linear units. These e=200 linear units are connected to each of the h=200 LSTM units in the hidden layer (assuming there is only one hidden layer, though our case has 2 layers).\n",
    "    </li>\n",
    "    <li>The input shape is [batch_size, num_steps], that is [30x20]. It will turn into [30x20x200] after embedding, and then 20x[30x200]\n",
    "    </li>\n",
    "</ul>\n",
    "<br>\n",
    "\n",
    "Hidden layer:\n",
    "<ul>\n",
    "    <li>Each LSTM has 200 hidden units which is equivalent to the dimensionality of the embedding words and output.</li>\n",
    "</ul>\n",
    "<br>\n"
   ]
  },
  {
   "cell_type": "markdown",
   "metadata": {},
   "source": [
    "There is a lot to be done and a ton of information to process at the same time, so go over this code slowly. It may seem complex at first, but if you try to apply what you just learned about language modelling to the code you see, you should be able to understand it.\n",
    "\n",
    "This code is adapted from the <a href=\"https://github.com/tensorflow/models\">PTBModel</a> example bundled with the TensorFlow source code.\n",
    "\n",
    "\n",
    "<h3>Training data</h3>\n",
    "The story starts from data:\n",
    "<ul>\n",
    "    <li>Train data is a list of words, of size 929589, represented by numbers, e.g. [9971, 9972, 9974, 9975,...]</li>\n",
    "    <li>We read data as mini-batch of size b=30. Assume the size of each sentence is 20 words (num_steps = 20). Then it will take $$floor(\\frac{N}{b \\times h})+1=1548$$ iterations for the learner to go through all sentences once. Where N is the size of the list of words, b is batch size, and h is size of each sentence. So, the number of iterators is 1548\n",
    "    </li>\n",
    "    <li>Each batch data is read from train dataset of size 600, and shape of [30x20]</li>\n",
    "</ul>\n"
   ]
  },
  {
   "cell_type": "code",
   "execution_count": 8,
   "metadata": {},
   "outputs": [],
   "source": [
    "# Reads the data and separates it into training data, validation data and testing data\n",
    "raw_data = ptb_raw_data(data_dir)\n",
    "train_data, valid_data, test_data, vocab, word_to_id = raw_data"
   ]
  },
  {
   "cell_type": "code",
   "execution_count": 9,
   "metadata": {},
   "outputs": [
    {
     "data": {
      "text/plain": [
       "929589"
      ]
     },
     "execution_count": 9,
     "metadata": {},
     "output_type": "execute_result"
    }
   ],
   "source": [
    "len(train_data)"
   ]
  },
  {
   "cell_type": "code",
   "execution_count": 10,
   "metadata": {},
   "outputs": [
    {
     "name": "stdout",
     "output_type": "stream",
     "text": [
      "['aer', 'banknote', 'berlitz', 'calloway', 'centrust', 'cluett', 'fromstein', 'gitano', 'guterman', 'hydro-quebec', 'ipo', 'kia', 'memotec', 'mlx', 'nahb', 'punts', 'rake', 'regatta', 'rubens', 'sim', 'snack-food', 'ssangyong', 'swapo', 'wachter', '<eos>', 'pierre', '<unk>', 'N', 'years', 'old', 'will', 'join', 'the', 'board', 'as', 'a', 'nonexecutive', 'director', 'nov.', 'N', '<eos>', 'mr.', '<unk>', 'is', 'chairman', 'of', '<unk>', 'n.v.', 'the', 'dutch', 'publishing', 'group', '<eos>', 'rudolph', '<unk>', 'N', 'years', 'old', 'and', 'former', 'chairman', 'of', 'consolidated', 'gold', 'fields', 'plc', 'was', 'named', 'a', 'nonexecutive', 'director', 'of', 'this', 'british', 'industrial', 'conglomerate', '<eos>', 'a', 'form', 'of', 'asbestos', 'once', 'used', 'to', 'make', 'kent', 'cigarette', 'filters', 'has', 'caused', 'a', 'high', 'percentage', 'of', 'cancer', 'deaths', 'among', 'a', 'group', 'of']\n"
     ]
    }
   ],
   "source": [
    "def id_to_word(id_list):\n",
    "    line = []\n",
    "    for w in id_list:\n",
    "        for word, wid in word_to_id.items():\n",
    "            if wid == w:\n",
    "                line.append(word)\n",
    "    return line            \n",
    "                \n",
    "\n",
    "print(id_to_word(train_data[0:100]))"
   ]
  },
  {
   "cell_type": "markdown",
   "metadata": {},
   "source": [
    "Lets just read one mini-batch now and feed our network:\n"
   ]
  },
  {
   "cell_type": "code",
   "execution_count": 11,
   "metadata": {},
   "outputs": [],
   "source": [
    "itera = ptb_iterator(train_data, batch_size, num_steps)\n",
    "first_touple = itera.__next__()\n",
    "_input_data = first_touple[0]\n",
    "_targets = first_touple[1]"
   ]
  },
  {
   "cell_type": "code",
   "execution_count": 12,
   "metadata": {},
   "outputs": [
    {
     "data": {
      "text/plain": [
       "(30, 20)"
      ]
     },
     "execution_count": 12,
     "metadata": {},
     "output_type": "execute_result"
    }
   ],
   "source": [
    "_input_data.shape"
   ]
  },
  {
   "cell_type": "code",
   "execution_count": 13,
   "metadata": {},
   "outputs": [
    {
     "data": {
      "text/plain": [
       "(30, 20)"
      ]
     },
     "execution_count": 13,
     "metadata": {},
     "output_type": "execute_result"
    }
   ],
   "source": [
    "_targets.shape"
   ]
  },
  {
   "cell_type": "markdown",
   "metadata": {},
   "source": [
    "Lets look at 3 sentences of our input x:\n"
   ]
  },
  {
   "cell_type": "code",
   "execution_count": 14,
   "metadata": {},
   "outputs": [
    {
     "data": {
      "text/plain": [
       "array([[9970, 9971, 9972, 9974, 9975, 9976, 9980, 9981, 9982, 9983, 9984,\n",
       "        9986, 9987, 9988, 9989, 9991, 9992, 9993, 9994, 9995],\n",
       "       [2654,    6,  334, 2886,    4,    1,  233,  711,  834,   11,  130,\n",
       "         123,    7,  514,    2,   63,   10,  514,    8,  605],\n",
       "       [   0, 1071,    4,    0,  185,   24,  368,   20,   31, 3109,  954,\n",
       "          12,    3,   21,    2, 2915,    2,   12,    3,   21]],\n",
       "      dtype=int32)"
      ]
     },
     "execution_count": 14,
     "metadata": {},
     "output_type": "execute_result"
    }
   ],
   "source": [
    "_input_data[0:3]"
   ]
  },
  {
   "cell_type": "code",
   "execution_count": 15,
   "metadata": {},
   "outputs": [
    {
     "name": "stdout",
     "output_type": "stream",
     "text": [
      "['aer', 'banknote', 'berlitz', 'calloway', 'centrust', 'cluett', 'fromstein', 'gitano', 'guterman', 'hydro-quebec', 'ipo', 'kia', 'memotec', 'mlx', 'nahb', 'punts', 'rake', 'regatta', 'rubens', 'sim']\n"
     ]
    }
   ],
   "source": [
    "print(id_to_word(_input_data[0,:]))"
   ]
  },
  {
   "cell_type": "markdown",
   "metadata": {},
   "source": [
    "<h3>Embeddings</h3>\n",
    "We have to convert the words in our dataset to vectors of numbers. The traditional approach is to use one-hot encoding method that is usually used for converting categorical values to numerical values. However, One-hot encoded vectors are high-dimensional, sparse and in a big dataset, computationally inefficient. So, we use word2vec approach. It is, in fact, a layer in our LSTM network, where the word IDs will be represented as a dense representation before feeding to the LSTM. \n",
    "\n",
    "The embedded vectors also get updated during the training process of the deep neural network.\n",
    "We create the embeddings for our input data. <b>embedding_vocab</b> is matrix of [10000x200] for all 10000 unique words.\n"
   ]
  },
  {
   "cell_type": "markdown",
   "metadata": {},
   "source": [
    "<b>embedding_lookup()</b> finds the embedded values for our batch of 30x20 words. It  goes to each row of <code>input_data</code>, and for each word in the row/sentence, finds the correspond vector in <code>embedding_dic<code>. <br>\n",
    "It creates a [30x20x200] tensor, so, the first element of <b>inputs</b> (the first sentence), is a matrix of 20x200, which each row of it, is vector representing a word in the sentence.\n"
   ]
  },
  {
   "cell_type": "code",
   "execution_count": 16,
   "metadata": {},
   "outputs": [],
   "source": [
    "embedding_layer = tf.keras.layers.Embedding(vocab_size, embeding_vector_size,batch_input_shape=(batch_size, num_steps),trainable=True,name=\"embedding_vocab\")  "
   ]
  },
  {
   "cell_type": "code",
   "execution_count": 17,
   "metadata": {},
   "outputs": [
    {
     "name": "stderr",
     "output_type": "stream",
     "text": [
      "2023-07-10 17:05:53.912935: W tensorflow/stream_executor/platform/default/dso_loader.cc:64] Could not load dynamic library 'libcuda.so.1'; dlerror: libcuda.so.1: cannot open shared object file: No such file or directory\n",
      "2023-07-10 17:05:53.913008: W tensorflow/stream_executor/cuda/cuda_driver.cc:269] failed call to cuInit: UNKNOWN ERROR (303)\n",
      "2023-07-10 17:05:53.913049: I tensorflow/stream_executor/cuda/cuda_diagnostics.cc:156] kernel driver does not appear to be running on this host (jupyterlab-u11a55an): /proc/driver/nvidia/version does not exist\n",
      "2023-07-10 17:05:53.914312: I tensorflow/core/platform/cpu_feature_guard.cc:193] This TensorFlow binary is optimized with oneAPI Deep Neural Network Library (oneDNN) to use the following CPU instructions in performance-critical operations:  AVX2 AVX512F AVX512_VNNI FMA\n",
      "To enable them in other operations, rebuild TensorFlow with the appropriate compiler flags.\n"
     ]
    },
    {
     "data": {
      "text/plain": [
       "<tf.Tensor: shape=(30, 20, 200), dtype=float32, numpy=\n",
       "array([[[ 0.01293006,  0.01393849, -0.00969366, ..., -0.00769563,\n",
       "          0.01352575, -0.01943315],\n",
       "        [-0.04420371, -0.01442705,  0.03072071, ..., -0.00955992,\n",
       "         -0.0043138 ,  0.00765308],\n",
       "        [ 0.01955805, -0.03233063, -0.04802353, ...,  0.02421499,\n",
       "          0.01753445,  0.02848304],\n",
       "        ...,\n",
       "        [ 0.01627994, -0.00827999,  0.0361663 , ...,  0.01873714,\n",
       "          0.04417056,  0.0062858 ],\n",
       "        [-0.00999553, -0.03848585, -0.03225863, ..., -0.01874423,\n",
       "         -0.01702175, -0.0322779 ],\n",
       "        [ 0.02640159,  0.02695749,  0.04888164, ...,  0.03514298,\n",
       "          0.0444042 , -0.0083532 ]],\n",
       "\n",
       "       [[ 0.03030113, -0.04332739,  0.02634356, ...,  0.00796063,\n",
       "         -0.01654465, -0.02809395],\n",
       "        [ 0.02277999, -0.01579165,  0.03271074, ...,  0.01356082,\n",
       "         -0.01291742, -0.00758232],\n",
       "        [ 0.02306653,  0.0289935 ,  0.03330152, ..., -0.03138291,\n",
       "         -0.04858253,  0.04682424],\n",
       "        ...,\n",
       "        [ 0.00837319,  0.02748492,  0.02185061, ..., -0.00745815,\n",
       "         -0.00527859,  0.04815706],\n",
       "        [-0.01834328,  0.04339795, -0.00761533, ...,  0.00877483,\n",
       "         -0.0090745 , -0.0380589 ],\n",
       "        [ 0.03817452, -0.02589609,  0.03840948, ..., -0.01643652,\n",
       "          0.01385747,  0.02021856]],\n",
       "\n",
       "       [[-0.01690452, -0.04059063,  0.00900749, ..., -0.02136427,\n",
       "         -0.0114792 ,  0.0291799 ],\n",
       "        [ 0.02390293,  0.00968857,  0.01169968, ..., -0.04312491,\n",
       "         -0.00309817, -0.00166358],\n",
       "        [-0.01926195,  0.00719501,  0.0472416 , ..., -0.0328176 ,\n",
       "         -0.02021363,  0.00682131],\n",
       "        ...,\n",
       "        [-0.02347889, -0.02295574,  0.03747435, ...,  0.03566511,\n",
       "         -0.02659308, -0.04378397],\n",
       "        [ 0.00218653, -0.04358101,  0.00764884, ..., -0.02043812,\n",
       "         -0.04554176,  0.04525535],\n",
       "        [-0.04902482,  0.0190035 , -0.03375038, ..., -0.02053886,\n",
       "          0.00421871,  0.00771465]],\n",
       "\n",
       "       ...,\n",
       "\n",
       "       [[ 0.03972434, -0.04543861,  0.02964804, ...,  0.04042803,\n",
       "         -0.04268686,  0.0279153 ],\n",
       "        [ 0.00571831, -0.04802271,  0.02851113, ..., -0.02553462,\n",
       "          0.02913492, -0.03197967],\n",
       "        [ 0.00932658,  0.00607229, -0.03921002, ...,  0.02033379,\n",
       "          0.01807172,  0.00197307],\n",
       "        ...,\n",
       "        [ 0.02463955, -0.03807348, -0.00504146, ..., -0.00506176,\n",
       "         -0.01731222, -0.01791061],\n",
       "        [-0.02355981,  0.03008971, -0.03693495, ..., -0.01105634,\n",
       "         -0.02961996, -0.00109749],\n",
       "        [-0.00450987, -0.01200036, -0.00470097, ..., -0.01735647,\n",
       "          0.0387651 , -0.0135466 ]],\n",
       "\n",
       "       [[-0.03191398, -0.03733405, -0.03423353, ...,  0.04857865,\n",
       "         -0.01922694,  0.02800791],\n",
       "        [-0.00182594,  0.02973971, -0.04725176, ..., -0.00929492,\n",
       "          0.02354399,  0.03115192],\n",
       "        [-0.01926195,  0.00719501,  0.0472416 , ..., -0.0328176 ,\n",
       "         -0.02021363,  0.00682131],\n",
       "        ...,\n",
       "        [ 0.00840618, -0.0028811 ,  0.01012655, ...,  0.04766525,\n",
       "          0.01532617,  0.03068567],\n",
       "        [ 0.02277999, -0.01579165,  0.03271074, ...,  0.01356082,\n",
       "         -0.01291742, -0.00758232],\n",
       "        [ 0.01582563,  0.04111778, -0.0403171 , ..., -0.01192532,\n",
       "         -0.02206285, -0.00351489]],\n",
       "\n",
       "       [[ 0.03754536,  0.00077377, -0.01333219, ...,  0.04512202,\n",
       "         -0.01762879,  0.02863413],\n",
       "        [-0.00211207,  0.01477796, -0.02229563, ..., -0.00349241,\n",
       "         -0.0374581 , -0.01728414],\n",
       "        [-0.02952707,  0.00738891,  0.0185766 , ..., -0.02939836,\n",
       "         -0.02313557, -0.03661267],\n",
       "        ...,\n",
       "        [ 0.00458465, -0.04678276, -0.01189518, ...,  0.00606095,\n",
       "         -0.01923293,  0.047606  ],\n",
       "        [-0.0020118 ,  0.04410005, -0.00307746, ..., -0.04200853,\n",
       "          0.04173906,  0.01306161],\n",
       "        [-0.03224345, -0.01125048,  0.02549552, ...,  0.00535656,\n",
       "          0.0318094 ,  0.02278317]]], dtype=float32)>"
      ]
     },
     "execution_count": 17,
     "metadata": {},
     "output_type": "execute_result"
    }
   ],
   "source": [
    "# Define where to get the data for our embeddings from\n",
    "inputs = embedding_layer(_input_data)\n",
    "inputs"
   ]
  },
  {
   "cell_type": "markdown",
   "metadata": {},
   "source": [
    "<h3>Constructing Recurrent Neural Networks</h3>\n"
   ]
  },
  {
   "cell_type": "markdown",
   "metadata": {},
   "source": [
    "In this step, we create the stacked LSTM using <b>tf.keras.layers.StackedRNNCells</b>, which is a 2 layer LSTM network:\n"
   ]
  },
  {
   "cell_type": "code",
   "execution_count": 18,
   "metadata": {},
   "outputs": [],
   "source": [
    "lstm_cell_l1 = tf.keras.layers.LSTMCell(hidden_size_l1)\n",
    "lstm_cell_l2 = tf.keras.layers.LSTMCell(hidden_size_l2)"
   ]
  },
  {
   "cell_type": "code",
   "execution_count": 19,
   "metadata": {},
   "outputs": [],
   "source": [
    "stacked_lstm = tf.keras.layers.StackedRNNCells([lstm_cell_l1, lstm_cell_l2])"
   ]
  },
  {
   "cell_type": "markdown",
   "metadata": {},
   "source": [
    "<b>tf.keras.layers.RNN</b> creates a recurrent neural network using <b>stacked_lstm</b>. \n",
    "\n",
    "The input should be a Tensor of shape: [batch_size, max_time, embedding_vector_size], in our case it would be (30, 20, 200)\n"
   ]
  },
  {
   "cell_type": "code",
   "execution_count": 20,
   "metadata": {},
   "outputs": [],
   "source": [
    "layer  =  tf.keras.layers.RNN(stacked_lstm,[batch_size, num_steps],return_state=False,stateful=True,trainable=True)"
   ]
  },
  {
   "cell_type": "markdown",
   "metadata": {},
   "source": [
    "Also, we initialize the states of the nework:\n",
    "\n",
    "<h4>_initial_state</h4>\n",
    "\n",
    "For each LSTM, there are 2 state matrices, c\\_state and m\\_state.  c_state and m_state represent \"Memory State\" and \"Cell State\". Each hidden layer, has a vector of size 30, which keeps the states. so, for 200 hidden units in each LSTM, we have a matrix of size [30x200]\n"
   ]
  },
  {
   "cell_type": "code",
   "execution_count": 21,
   "metadata": {},
   "outputs": [],
   "source": [
    "init_state = tf.Variable(tf.zeros([batch_size,embeding_vector_size]),trainable=False)"
   ]
  },
  {
   "cell_type": "code",
   "execution_count": 22,
   "metadata": {},
   "outputs": [],
   "source": [
    "layer.inital_state = init_state"
   ]
  },
  {
   "cell_type": "code",
   "execution_count": 23,
   "metadata": {},
   "outputs": [
    {
     "data": {
      "text/plain": [
       "<tf.Variable 'Variable:0' shape=(30, 200) dtype=float32, numpy=\n",
       "array([[0., 0., 0., ..., 0., 0., 0.],\n",
       "       [0., 0., 0., ..., 0., 0., 0.],\n",
       "       [0., 0., 0., ..., 0., 0., 0.],\n",
       "       ...,\n",
       "       [0., 0., 0., ..., 0., 0., 0.],\n",
       "       [0., 0., 0., ..., 0., 0., 0.],\n",
       "       [0., 0., 0., ..., 0., 0., 0.]], dtype=float32)>"
      ]
     },
     "execution_count": 23,
     "metadata": {},
     "output_type": "execute_result"
    }
   ],
   "source": [
    "layer.inital_state"
   ]
  },
  {
   "cell_type": "markdown",
   "metadata": {},
   "source": [
    "so, lets look at the outputs. The output of the stackedLSTM comes from 128 hidden_layer, and in each time step(=20), one of them get activated. we use the linear activation to map the 128 hidden layer to a [30X20 matrix]\n"
   ]
  },
  {
   "cell_type": "code",
   "execution_count": 24,
   "metadata": {},
   "outputs": [],
   "source": [
    "outputs = layer(inputs)"
   ]
  },
  {
   "cell_type": "code",
   "execution_count": 25,
   "metadata": {},
   "outputs": [
    {
     "data": {
      "text/plain": [
       "<tf.Tensor: shape=(30, 20, 128), dtype=float32, numpy=\n",
       "array([[[ 1.6314061e-03, -1.3840884e-03,  4.7949102e-04, ...,\n",
       "          8.0764166e-04, -9.1036642e-04,  1.1814115e-04],\n",
       "        [ 7.0774363e-04, -1.9565718e-03,  8.1362354e-04, ...,\n",
       "          1.3848571e-03, -5.2545028e-04,  3.8203321e-04],\n",
       "        [-1.5169091e-04, -4.5375023e-03, -1.4977852e-03, ...,\n",
       "          3.4087077e-03,  4.4056654e-04,  2.1712309e-04],\n",
       "        ...,\n",
       "        [ 1.4692310e-03, -2.1661646e-03,  3.9655715e-03, ...,\n",
       "         -1.2779961e-03, -4.8466842e-03, -2.4658837e-03],\n",
       "        [ 2.3762500e-03, -3.3314666e-03,  4.3800254e-03, ...,\n",
       "         -1.3830360e-03, -4.5274794e-03, -7.4090721e-04],\n",
       "        [ 2.8058921e-03, -3.6561047e-03,  5.5000298e-03, ...,\n",
       "         -9.6334983e-04, -5.2486379e-03,  3.9425751e-04]],\n",
       "\n",
       "       [[-7.8006944e-04, -3.4786222e-04, -7.9526176e-04, ...,\n",
       "          1.9009643e-03,  5.9417688e-04, -5.5732566e-04],\n",
       "        [-1.3061035e-03, -3.3179173e-04, -1.3386736e-03, ...,\n",
       "          2.9332493e-03,  3.5138286e-04,  8.4114046e-04],\n",
       "        [-2.0871272e-04, -5.7321967e-04, -1.8915373e-03, ...,\n",
       "          2.8776091e-03,  9.0161385e-04,  2.7222699e-03],\n",
       "        ...,\n",
       "        [ 7.7858288e-03, -5.8090882e-03,  2.2434988e-03, ...,\n",
       "          3.7515862e-03, -2.0528045e-03,  4.2287544e-03],\n",
       "        [ 6.9474620e-03, -5.3501222e-03,  1.1504468e-03, ...,\n",
       "          1.8242798e-03, -3.1060374e-03,  4.0370985e-03],\n",
       "        [ 6.2961807e-03, -4.4522732e-03, -2.6160758e-04, ...,\n",
       "          9.1453415e-04, -3.3484837e-03,  4.3243943e-03]],\n",
       "\n",
       "       [[-2.2704285e-03, -7.7506271e-04, -1.0079822e-03, ...,\n",
       "         -1.9466855e-03,  2.9887693e-04,  1.0324924e-03],\n",
       "        [-4.7723348e-03, -1.1319435e-03, -1.4754735e-03, ...,\n",
       "         -2.6988464e-03,  4.0869467e-04,  1.0553279e-03],\n",
       "        [-6.4390502e-03, -1.4428686e-03, -3.3831804e-03, ...,\n",
       "         -2.5786448e-03, -5.1564444e-04,  2.3207362e-03],\n",
       "        ...,\n",
       "        [ 3.9665163e-03, -1.4567670e-03,  1.7913568e-04, ...,\n",
       "         -2.3822933e-03, -5.9705740e-04,  2.3364392e-03],\n",
       "        [ 4.2214701e-03, -1.8618287e-03,  1.4446772e-03, ...,\n",
       "         -1.4091911e-03, -8.3464099e-04,  2.4173444e-03],\n",
       "        [ 2.9534097e-03, -1.6672290e-03,  3.1150761e-03, ...,\n",
       "         -1.3950827e-03, -1.4005192e-03,  2.4731904e-03]],\n",
       "\n",
       "       ...,\n",
       "\n",
       "       [[-5.2101031e-04,  2.4681995e-04, -2.2302491e-03, ...,\n",
       "         -8.8127394e-04, -4.8021603e-04,  1.4203032e-03],\n",
       "        [-1.8528079e-04,  7.5390958e-04, -2.6068094e-03, ...,\n",
       "         -1.7703963e-03, -3.7893384e-05,  2.1418754e-03],\n",
       "        [-2.7836114e-04,  2.6462388e-03, -1.8202876e-03, ...,\n",
       "         -3.8946604e-03,  3.8391360e-04,  1.7776550e-03],\n",
       "        ...,\n",
       "        [-1.2944739e-03,  3.0031756e-03,  2.3650464e-03, ...,\n",
       "         -1.8647743e-03, -6.9015671e-04,  8.8420190e-04],\n",
       "        [ 9.5911103e-04,  1.0016345e-03,  3.0990699e-03, ...,\n",
       "         -2.6485391e-03, -2.8934432e-04,  9.7605382e-04],\n",
       "        [ 3.2284998e-03, -6.7993090e-04,  3.6119239e-03, ...,\n",
       "         -3.5159278e-03, -1.4115465e-03,  1.3322567e-03]],\n",
       "\n",
       "       [[-7.3091785e-04, -3.4755612e-05, -2.9927210e-04, ...,\n",
       "          5.8461708e-04, -5.1315024e-04, -8.0849335e-04],\n",
       "        [-7.3027989e-04, -1.3168129e-03,  7.7966636e-04, ...,\n",
       "          1.9904564e-03, -2.7495704e-04, -1.1963614e-03],\n",
       "        [-1.2670663e-03, -2.2088713e-03, -2.7709073e-04, ...,\n",
       "          2.5867936e-03, -8.6517073e-04,  3.9762177e-04],\n",
       "        ...,\n",
       "        [-4.2415042e-03,  4.1668299e-03,  5.3475047e-05, ...,\n",
       "          3.7593849e-03, -3.7466767e-03, -9.0547018e-03],\n",
       "        [-4.6330700e-03,  4.4678808e-03,  8.2520535e-04, ...,\n",
       "          3.6827375e-03, -4.5211371e-03, -7.0008133e-03],\n",
       "        [-5.4565598e-03,  5.6203324e-03,  2.9760129e-03, ...,\n",
       "          1.5870648e-03, -6.0403668e-03, -5.9901625e-03]],\n",
       "\n",
       "       [[ 1.1145341e-03, -2.2874272e-04, -7.1938621e-04, ...,\n",
       "          8.0408958e-05,  1.1546409e-03,  1.2649855e-03],\n",
       "        [ 1.8853477e-03,  9.1195956e-04, -3.3914193e-04, ...,\n",
       "          3.4344703e-04,  2.2307120e-03,  1.8914962e-03],\n",
       "        [ 9.5640391e-04,  1.0276171e-03, -1.5871946e-03, ...,\n",
       "         -4.0928627e-04,  2.4804762e-03,  2.1014803e-03],\n",
       "        ...,\n",
       "        [-2.9348605e-04, -1.1734865e-03, -4.5301002e-03, ...,\n",
       "         -7.9977495e-04, -4.1525438e-03,  2.6899955e-04],\n",
       "        [ 7.6113138e-05,  1.7178869e-05, -5.5911890e-03, ...,\n",
       "         -1.5933372e-03, -3.5376844e-03, -2.1456447e-06],\n",
       "        [ 1.1064484e-03, -2.7739868e-04, -6.2015750e-03, ...,\n",
       "         -2.6479783e-03, -2.6256316e-03,  3.6555374e-04]]], dtype=float32)>"
      ]
     },
     "execution_count": 25,
     "metadata": {},
     "output_type": "execute_result"
    }
   ],
   "source": [
    "outputs"
   ]
  },
  {
   "cell_type": "markdown",
   "metadata": {},
   "source": [
    "<h2>Dense layer</h2>\n",
    "We now create densely-connected neural network layer that would reshape the outputs tensor from  [30 x 20 x 128] to [30 x 20 x 10000].\n"
   ]
  },
  {
   "cell_type": "code",
   "execution_count": 26,
   "metadata": {},
   "outputs": [],
   "source": [
    "dense = tf.keras.layers.Dense(vocab_size)"
   ]
  },
  {
   "cell_type": "code",
   "execution_count": 27,
   "metadata": {},
   "outputs": [],
   "source": [
    "logits_outputs  = dense(outputs)"
   ]
  },
  {
   "cell_type": "code",
   "execution_count": 28,
   "metadata": {},
   "outputs": [
    {
     "name": "stdout",
     "output_type": "stream",
     "text": [
      "shape of the output from dense layer:  (30, 20, 10000)\n"
     ]
    }
   ],
   "source": [
    "print(\"shape of the output from dense layer: \", logits_outputs.shape) #(batch_size, sequence_length, vocab_size)"
   ]
  },
  {
   "cell_type": "markdown",
   "metadata": {},
   "source": [
    "<h2>Activation layer</h2>\n",
    "\n",
    "\n",
    "A softmax activation layers is also then applied to derive the probability of the output being in any of the multiclass(10000 in this case) possibilities. \n"
   ]
  },
  {
   "cell_type": "code",
   "execution_count": 29,
   "metadata": {},
   "outputs": [],
   "source": [
    "activation = tf.keras.layers.Activation('softmax')"
   ]
  },
  {
   "cell_type": "code",
   "execution_count": 30,
   "metadata": {},
   "outputs": [],
   "source": [
    "output_words_prob = activation(logits_outputs)"
   ]
  },
  {
   "cell_type": "code",
   "execution_count": 31,
   "metadata": {},
   "outputs": [
    {
     "name": "stdout",
     "output_type": "stream",
     "text": [
      "shape of the output from the activation layer:  (30, 20, 10000)\n"
     ]
    }
   ],
   "source": [
    "print(\"shape of the output from the activation layer: \", output_words_prob.shape) #(batch_size, sequence_length, vocab_size)"
   ]
  },
  {
   "cell_type": "markdown",
   "metadata": {},
   "source": [
    "Lets look at the probability of observing words for t=0 to t=20:\n"
   ]
  },
  {
   "cell_type": "code",
   "execution_count": 32,
   "metadata": {},
   "outputs": [
    {
     "name": "stdout",
     "output_type": "stream",
     "text": [
      "The probability of observing words in t=0 to t=20 tf.Tensor(\n",
      "[[9.99994154e-05 9.99881013e-05 9.99936383e-05 ... 1.00003861e-04\n",
      "  1.00019228e-04 1.00008045e-04]\n",
      " [9.99925905e-05 9.99995245e-05 1.00009143e-04 ... 1.00000405e-04\n",
      "  1.00043129e-04 1.00001431e-04]\n",
      " [9.99886761e-05 1.00021949e-04 1.00031757e-04 ... 9.99879485e-05\n",
      "  1.00044395e-04 9.99829863e-05]\n",
      " ...\n",
      " [1.00018246e-04 1.00092184e-04 9.99210824e-05 ... 1.00006604e-04\n",
      "  1.00042758e-04 9.99970434e-05]\n",
      " [1.00011428e-04 1.00096600e-04 9.99235490e-05 ... 1.00017205e-04\n",
      "  1.00040394e-04 1.00035184e-04]\n",
      " [1.00024554e-04 1.00123165e-04 9.99422919e-05 ... 1.00032383e-04\n",
      "  1.00036923e-04 1.00052981e-04]], shape=(20, 10000), dtype=float32)\n"
     ]
    }
   ],
   "source": [
    "print(\"The probability of observing words in t=0 to t=20\", output_words_prob[0,0:num_steps])"
   ]
  },
  {
   "cell_type": "markdown",
   "metadata": {},
   "source": [
    "<h3>Prediction</h3>\n",
    "What is the word correspond to the probability output? Lets use the maximum probability:\n"
   ]
  },
  {
   "cell_type": "code",
   "execution_count": 33,
   "metadata": {},
   "outputs": [
    {
     "data": {
      "text/plain": [
       "array([7634, 5426, 8829,  183,  392, 2388, 2388, 2676, 1859, 6855, 6855,\n",
       "       6730,  261,  261, 6351, 6351, 7426, 5432,   41, 5432])"
      ]
     },
     "execution_count": 33,
     "metadata": {},
     "output_type": "execute_result"
    }
   ],
   "source": [
    "np.argmax(output_words_prob[0,0:num_steps], axis=1)"
   ]
  },
  {
   "cell_type": "markdown",
   "metadata": {},
   "source": [
    "So, what is the ground truth for the first word of first sentence? You can get it from target tensor, if you want to find the embedding vector: \n"
   ]
  },
  {
   "cell_type": "code",
   "execution_count": 34,
   "metadata": {},
   "outputs": [
    {
     "data": {
      "text/plain": [
       "array([9971, 9972, 9974, 9975, 9976, 9980, 9981, 9982, 9983, 9984, 9986,\n",
       "       9987, 9988, 9989, 9991, 9992, 9993, 9994, 9995, 9996], dtype=int32)"
      ]
     },
     "execution_count": 34,
     "metadata": {},
     "output_type": "execute_result"
    }
   ],
   "source": [
    "_targets[0]"
   ]
  },
  {
   "cell_type": "markdown",
   "metadata": {},
   "source": [
    "<h4>Objective function</h4>\n",
    "\n",
    "\n",
    "How similar the predicted words are to the target words?\n",
    "\n",
    "\n",
    "Now we have to define our objective function, to calculate the similarity of predicted values to ground truth, and then, penalize the model with the error. Our objective is to minimize loss function, that is, to minimize the average negative log probability of the target words:\n",
    "\n",
    "$$\\text{loss} = -\\frac{1}{N}\\sum_{i=1}^{N} \\ln p_{\\text{target}_i}$$\n",
    "\n",
    "This function is already implemented and available in TensorFlow through *tf.keras.losses.sparse_categorical_crossentropy*. It calculates the categorical cross-entropy loss for <b>logits</b> and the <b>target</b> sequence.  \n",
    "\n",
    "The arguments of this function are:  \n",
    "<ul>\n",
    "    <li>logits: List of 2D Tensors of shape [batch_size x num_decoder_symbols].</li>  \n",
    "    <li>targets: List of 1D batch-sized int32 Tensors of the same length as logits.</li>   \n",
    "</ul>\n"
   ]
  },
  {
   "cell_type": "code",
   "execution_count": 35,
   "metadata": {},
   "outputs": [],
   "source": [
    "def crossentropy(y_true, y_pred):\n",
    "    return tf.keras.losses.sparse_categorical_crossentropy(y_true, y_pred)"
   ]
  },
  {
   "cell_type": "code",
   "execution_count": 36,
   "metadata": {},
   "outputs": [],
   "source": [
    "loss  = crossentropy(_targets, output_words_prob)"
   ]
  },
  {
   "cell_type": "markdown",
   "metadata": {},
   "source": [
    "Lets look at the first 10 values of loss:\n"
   ]
  },
  {
   "cell_type": "code",
   "execution_count": 37,
   "metadata": {},
   "outputs": [
    {
     "data": {
      "text/plain": [
       "<tf.Tensor: shape=(10,), dtype=float32, numpy=\n",
       "array([9.21022 , 9.210532, 9.210301, 9.209916, 9.2104  , 9.210431,\n",
       "       9.210506, 9.210501, 9.210664, 9.210672], dtype=float32)>"
      ]
     },
     "execution_count": 37,
     "metadata": {},
     "output_type": "execute_result"
    }
   ],
   "source": [
    "loss[0,:10]"
   ]
  },
  {
   "cell_type": "markdown",
   "metadata": {},
   "source": [
    "Now, we define cost as average of the losses:\n"
   ]
  },
  {
   "cell_type": "code",
   "execution_count": 38,
   "metadata": {},
   "outputs": [
    {
     "data": {
      "text/plain": [
       "<tf.Tensor: shape=(), dtype=float32, numpy=184.2056>"
      ]
     },
     "execution_count": 38,
     "metadata": {},
     "output_type": "execute_result"
    }
   ],
   "source": [
    "cost = tf.reduce_sum(loss / batch_size)\n",
    "cost"
   ]
  },
  {
   "cell_type": "markdown",
   "metadata": {},
   "source": [
    "<h3>Training</h3>\n",
    "\n",
    "To do training for our network, we have to take the following steps:\n",
    "<ol>\n",
    "    <li>Define the optimizer.</li>\n",
    "    <li>Assemble layers to build model.</li>\n",
    "    <li>Calculate the gradients based on the loss function.</li>\n",
    "    <li>Apply the optimizer to the variables/gradients tuple.</li>\n",
    "</ol>\n"
   ]
  },
  {
   "cell_type": "markdown",
   "metadata": {},
   "source": [
    "<h4>1. Define Optimizer</h4>\n",
    "\n"
   ]
  },
  {
   "cell_type": "code",
   "execution_count": 39,
   "metadata": {},
   "outputs": [
    {
     "name": "stderr",
     "output_type": "stream",
     "text": [
      "/home/jupyterlab/conda/envs/python/lib/python3.7/site-packages/keras/optimizers/optimizer_v2/gradient_descent.py:108: UserWarning: The `lr` argument is deprecated, use `learning_rate` instead.\n",
      "  super(SGD, self).__init__(name, **kwargs)\n"
     ]
    }
   ],
   "source": [
    "# Create a variable for the learning rate\n",
    "lr = tf.Variable(0.0, trainable=False)\n",
    "optimizer = tf.keras.optimizers.SGD(lr=lr, clipnorm=max_grad_norm)"
   ]
  },
  {
   "cell_type": "markdown",
   "metadata": {},
   "source": [
    "<h4>2. Assemble layers to build model.</h4>\n"
   ]
  },
  {
   "cell_type": "code",
   "execution_count": 40,
   "metadata": {},
   "outputs": [
    {
     "name": "stdout",
     "output_type": "stream",
     "text": [
      "Model: \"sequential\"\n",
      "_________________________________________________________________\n",
      " Layer (type)                Output Shape              Param #   \n",
      "=================================================================\n",
      " embedding_vocab (Embedding)  (30, 20, 200)            2000000   \n",
      "                                                                 \n",
      " rnn (RNN)                   (30, 20, 128)             671088    \n",
      "                                                                 \n",
      " dense (Dense)               (30, 20, 10000)           1290000   \n",
      "                                                                 \n",
      " activation (Activation)     (30, 20, 10000)           0         \n",
      "                                                                 \n",
      "=================================================================\n",
      "Total params: 3,961,088\n",
      "Trainable params: 3,955,088\n",
      "Non-trainable params: 6,000\n",
      "_________________________________________________________________\n"
     ]
    }
   ],
   "source": [
    "model = tf.keras.Sequential()\n",
    "model.add(embedding_layer)\n",
    "model.add(layer)\n",
    "model.add(dense)\n",
    "model.add(activation)\n",
    "model.compile(loss=crossentropy, optimizer=optimizer)\n",
    "model.summary()"
   ]
  },
  {
   "cell_type": "markdown",
   "metadata": {},
   "source": [
    "\n",
    "<h4>2. Trainable Variables</h4>\n"
   ]
  },
  {
   "cell_type": "markdown",
   "metadata": {},
   "source": [
    "Defining a variable, if you passed <i>trainable=True</i>, the variable constructor automatically adds new variables to the graph collection <b>GraphKeys.TRAINABLE_VARIABLES</b>. Now, using <i>tf.trainable_variables()</i> you can get all variables created with <b>trainable=True</b>.\n"
   ]
  },
  {
   "cell_type": "code",
   "execution_count": 41,
   "metadata": {},
   "outputs": [],
   "source": [
    "# Get all TensorFlow variables marked as \"trainable\" (i.e. all of them except _lr, which we just created)\n",
    "tvars = model.trainable_variables"
   ]
  },
  {
   "cell_type": "markdown",
   "metadata": {},
   "source": [
    "Note: we can find the name and scope of all variables:\n"
   ]
  },
  {
   "cell_type": "code",
   "execution_count": 42,
   "metadata": {},
   "outputs": [
    {
     "data": {
      "text/plain": [
       "['embedding_vocab/embeddings:0',\n",
       " 'rnn/stacked_rnn_cells/lstm_cell/kernel:0',\n",
       " 'rnn/stacked_rnn_cells/lstm_cell/recurrent_kernel:0',\n",
       " 'rnn/stacked_rnn_cells/lstm_cell/bias:0',\n",
       " 'rnn/stacked_rnn_cells/lstm_cell_1/kernel:0',\n",
       " 'rnn/stacked_rnn_cells/lstm_cell_1/recurrent_kernel:0',\n",
       " 'rnn/stacked_rnn_cells/lstm_cell_1/bias:0',\n",
       " 'dense/kernel:0',\n",
       " 'dense/bias:0']"
      ]
     },
     "execution_count": 42,
     "metadata": {},
     "output_type": "execute_result"
    }
   ],
   "source": [
    "[v.name for v in tvars] "
   ]
  },
  {
   "cell_type": "markdown",
   "metadata": {},
   "source": [
    "<h4>3. Calculate the gradients based on the loss function</h4>\n"
   ]
  },
  {
   "cell_type": "markdown",
   "metadata": {},
   "source": [
    "**Gradient**: The gradient of a function is the slope of its derivative (line), or in other words, the rate of change of a function. It's a vector (a direction to move) that points in the direction of greatest increase of the function, and calculated by the <b>derivative</b> operation.\n"
   ]
  },
  {
   "cell_type": "markdown",
   "metadata": {},
   "source": [
    "First lets recall the gradient function using an toy example:\n",
    "$$ z = \\left(2x^2 + 3xy\\right)$$\n"
   ]
  },
  {
   "cell_type": "code",
   "execution_count": 43,
   "metadata": {},
   "outputs": [],
   "source": [
    "x = tf.constant(1.0)\n",
    "y =  tf.constant(2.0)\n",
    "with tf.GradientTape(persistent=True) as g:\n",
    "    g.watch(x)\n",
    "    g.watch(y)\n",
    "    func_test = 2 * x * x + 3 * x * y"
   ]
  },
  {
   "cell_type": "markdown",
   "metadata": {},
   "source": [
    "The <b>tf.gradients()</b> function allows you to compute the symbolic gradient of one tensor with respect to one or more other tensors—including variables. <b>tf.gradients(func, xs)</b> constructs symbolic partial derivatives of sum of <b>func</b> w.r.t. <i>x</i> in <b>xs</b>. \n",
    "\n",
    "Now, lets look at the derivitive w.r.t. <b>var_x</b>:\n",
    "$$ \\frac{\\partial \\:}{\\partial \\:x}\\left(2x^2 + 3xy\\right) = 4x + 3y $$\n"
   ]
  },
  {
   "cell_type": "code",
   "execution_count": 44,
   "metadata": {},
   "outputs": [
    {
     "name": "stdout",
     "output_type": "stream",
     "text": [
      "tf.Tensor(10.0, shape=(), dtype=float32)\n"
     ]
    }
   ],
   "source": [
    "var_grad = g.gradient(func_test, x) # Will compute to 10.0\n",
    "print(var_grad)"
   ]
  },
  {
   "cell_type": "markdown",
   "metadata": {},
   "source": [
    "the derivative w.r.t. <b>var_y</b>:\n",
    "$$ \\frac{\\partial \\:}{\\partial \\:y}\\left(2x^2 + 3xy\\right) = 3x $$\n"
   ]
  },
  {
   "cell_type": "code",
   "execution_count": 45,
   "metadata": {},
   "outputs": [
    {
     "name": "stdout",
     "output_type": "stream",
     "text": [
      "tf.Tensor(3.0, shape=(), dtype=float32)\n"
     ]
    }
   ],
   "source": [
    "var_grad = g.gradient(func_test, y) # Will compute to 3.0\n",
    "print(var_grad)"
   ]
  },
  {
   "cell_type": "markdown",
   "metadata": {},
   "source": [
    "Now, we can look at gradients w.r.t all variables:\n"
   ]
  },
  {
   "cell_type": "code",
   "execution_count": 46,
   "metadata": {},
   "outputs": [],
   "source": [
    "with tf.GradientTape() as tape:\n",
    "    # Forward pass.\n",
    "    output_words_prob = model(_input_data)\n",
    "    # Loss value for this batch.\n",
    "    loss  = crossentropy(_targets, output_words_prob)\n",
    "    cost = tf.reduce_sum(loss,axis=0) / batch_size"
   ]
  },
  {
   "cell_type": "code",
   "execution_count": 47,
   "metadata": {},
   "outputs": [],
   "source": [
    "# Get gradients of loss wrt the trainable variables.\n",
    "grad_t_list = tape.gradient(cost, tvars)"
   ]
  },
  {
   "cell_type": "code",
   "execution_count": 48,
   "metadata": {},
   "outputs": [
    {
     "name": "stdout",
     "output_type": "stream",
     "text": [
      "[<tensorflow.python.framework.indexed_slices.IndexedSlices object at 0x7f4e202ad090>, <tf.Tensor: shape=(200, 1024), dtype=float32, numpy=\n",
      "array([[-5.9131116e-07,  6.6526047e-07, -4.1306620e-07, ...,\n",
      "        -3.0270863e-07,  7.1151803e-08, -3.9755665e-07],\n",
      "       [ 1.6627270e-06, -3.8430730e-07,  8.8160675e-08, ...,\n",
      "         1.2260735e-08, -2.5987882e-07, -2.8882869e-07],\n",
      "       [-2.7377320e-07,  3.9336575e-07,  4.4140160e-07, ...,\n",
      "        -3.7083061e-07, -7.7709217e-09,  8.2233527e-08],\n",
      "       ...,\n",
      "       [-7.4431449e-07,  7.4123261e-07,  4.1598375e-07, ...,\n",
      "         3.9506304e-07,  2.1186096e-07,  1.0290361e-08],\n",
      "       [ 1.4265869e-06,  1.0234710e-06,  2.6287466e-07, ...,\n",
      "        -2.8217622e-07,  4.9601290e-08, -4.2744682e-07],\n",
      "       [-8.1052542e-07,  6.4560720e-07, -2.1475459e-07, ...,\n",
      "         3.4096098e-07, -2.5682209e-07, -1.0943162e-07]], dtype=float32)>, <tf.Tensor: shape=(256, 1024), dtype=float32, numpy=\n",
      "array([[ 7.25536822e-08, -1.16207957e-07, -1.04666654e-07, ...,\n",
      "        -1.36126587e-07,  3.92578556e-08,  7.39736947e-08],\n",
      "       [ 9.65916627e-08,  8.85934881e-08, -1.06007519e-07, ...,\n",
      "        -1.09161302e-08, -9.29834520e-09, -8.40413605e-08],\n",
      "       [-1.21824542e-07,  7.35343448e-08,  1.12130664e-07, ...,\n",
      "         4.59681431e-08,  2.32831194e-08,  1.79704813e-07],\n",
      "       ...,\n",
      "       [-1.54482095e-07, -1.04599415e-07, -9.73665593e-08, ...,\n",
      "         9.64256373e-08,  1.56607669e-08,  1.76684324e-07],\n",
      "       [ 5.29992619e-08, -1.62663667e-07, -4.87465783e-08, ...,\n",
      "        -7.61289840e-08, -1.69905348e-07, -4.61182648e-10],\n",
      "       [ 1.50523334e-07, -1.23935450e-07,  5.96592145e-08, ...,\n",
      "         1.80198896e-08,  5.71245913e-08,  6.73979557e-08]], dtype=float32)>, <tf.Tensor: shape=(1024,), dtype=float32, numpy=\n",
      "array([-2.2486638e-05,  7.4320474e-06, -8.8970701e-06, ...,\n",
      "       -9.5359956e-06, -9.4117486e-06, -5.3345011e-06], dtype=float32)>, <tf.Tensor: shape=(256, 512), dtype=float32, numpy=\n",
      "array([[ 7.63175478e-09, -4.89892749e-08,  9.46650829e-08, ...,\n",
      "        -1.22682621e-07,  4.53167743e-08,  1.65983323e-07],\n",
      "       [ 6.88723034e-08,  4.15852952e-09, -1.15376491e-08, ...,\n",
      "         1.36652517e-07,  1.17801989e-07, -2.38509926e-07],\n",
      "       [-1.41276033e-07,  4.32322480e-08, -2.62543438e-07, ...,\n",
      "         1.73751459e-07,  1.74557471e-08,  2.99094836e-07],\n",
      "       ...,\n",
      "       [ 1.29490275e-07,  3.13435677e-09, -3.53365067e-07, ...,\n",
      "        -2.53479413e-07, -3.44299167e-09, -4.00138447e-08],\n",
      "       [ 2.24146788e-07,  3.09004342e-08,  2.00535140e-07, ...,\n",
      "         2.71128442e-07,  1.27316753e-07,  1.03303336e-07],\n",
      "       [ 1.59914094e-07, -5.46458523e-08,  1.63956173e-08, ...,\n",
      "        -3.44999620e-07,  9.15821161e-08,  4.59214675e-08]], dtype=float32)>, <tf.Tensor: shape=(128, 512), dtype=float32, numpy=\n",
      "array([[ 4.3092132e-07, -1.2970753e-07,  3.7244881e-08, ...,\n",
      "        -1.7967368e-07,  1.4736159e-07,  7.2769780e-08],\n",
      "       [-2.0518959e-07,  7.2307017e-08, -1.0633981e-08, ...,\n",
      "         1.6173149e-07,  4.3094850e-08, -1.2336916e-07],\n",
      "       [ 1.8293849e-07, -1.9677600e-08,  3.1597352e-07, ...,\n",
      "        -1.2986405e-07,  1.6097044e-08,  1.4552543e-07],\n",
      "       ...,\n",
      "       [ 1.1773883e-07, -3.6354205e-08,  2.5412056e-08, ...,\n",
      "        -3.7200576e-07, -4.0872514e-08,  8.6630756e-08],\n",
      "       [-5.5179079e-08, -1.3390487e-08, -2.7103020e-08, ...,\n",
      "        -6.9430392e-08,  2.9518898e-08, -1.0925714e-08],\n",
      "       [ 1.0339817e-07,  5.2110281e-08, -2.6384367e-08, ...,\n",
      "        -4.7802356e-08,  6.7376632e-08,  1.9366044e-07]], dtype=float32)>, <tf.Tensor: shape=(512,), dtype=float32, numpy=\n",
      "array([ 1.98486850e-05, -5.77884157e-06, -4.68403814e-05, -5.87259819e-07,\n",
      "       -2.66526149e-05,  7.82147908e-05,  1.54303998e-05,  5.44056311e-05,\n",
      "       -7.99489280e-05, -1.27216290e-05, -9.97370080e-08,  1.12814778e-05,\n",
      "        6.77670232e-06, -9.78217122e-06,  2.36460110e-05, -2.75679449e-05,\n",
      "        7.61820866e-06,  1.68250244e-05,  1.45258127e-05, -3.04955502e-05,\n",
      "        1.33295980e-05,  4.97837318e-05, -7.10853783e-06, -2.49690638e-05,\n",
      "       -1.43682337e-05,  6.48888090e-06, -1.34870334e-07, -4.69977167e-05,\n",
      "        4.69275146e-05,  1.24950975e-05, -1.17807567e-05, -1.73634489e-05,\n",
      "       -2.38903631e-05, -3.56588935e-05, -5.12572078e-05, -4.58710929e-05,\n",
      "       -4.94523738e-06, -2.49934837e-05,  2.82330348e-05, -1.61743410e-05,\n",
      "        6.99501197e-06,  4.14247006e-06, -2.20522561e-05, -2.36712503e-06,\n",
      "       -5.72455610e-06, -8.68714560e-05, -1.06458738e-05, -2.77370964e-06,\n",
      "        6.75631018e-05, -2.00007707e-06, -1.06796051e-07,  3.80853635e-06,\n",
      "        1.67302460e-05,  2.99332569e-05, -2.33873525e-05,  5.60477383e-06,\n",
      "       -2.76411938e-05, -2.81134744e-05, -1.76653375e-05, -1.51397253e-05,\n",
      "        3.90225523e-06,  1.01488931e-05,  8.32157275e-06,  4.81019088e-05,\n",
      "       -7.06999617e-06, -8.12484905e-06,  4.87148427e-05, -7.36352740e-06,\n",
      "       -3.43419288e-06,  1.25828665e-05, -1.58389812e-05,  6.06775848e-06,\n",
      "        1.60420859e-05,  1.99897549e-05,  6.76443415e-06,  3.38989912e-06,\n",
      "       -4.55978588e-05, -1.23103127e-05,  5.49465540e-06,  2.87186740e-05,\n",
      "        1.23026093e-05, -9.12469404e-05,  3.37320307e-05, -2.20907186e-05,\n",
      "        7.04506165e-05, -1.34888014e-05,  6.83713588e-05, -6.18145805e-07,\n",
      "       -8.24622839e-06,  1.15808552e-05,  4.32241941e-05,  2.05632477e-05,\n",
      "       -1.21807388e-05, -2.15147174e-05,  8.28947122e-07,  1.43383604e-05,\n",
      "       -3.86507891e-05, -5.99631085e-06, -1.46949169e-04, -9.48702109e-07,\n",
      "        2.43189352e-05,  1.74912111e-05, -3.91784924e-05, -3.16371770e-05,\n",
      "       -6.71509679e-06, -3.12004449e-05,  3.21044608e-05,  1.47395176e-05,\n",
      "       -1.31181760e-05, -3.17363447e-05,  5.01941104e-05,  2.39271503e-05,\n",
      "       -3.27795678e-05, -8.66232513e-05,  3.72223294e-05, -2.04658209e-05,\n",
      "        1.10040855e-06,  4.33257446e-06, -4.60166939e-06,  3.36497487e-06,\n",
      "       -3.21858643e-05,  1.69855157e-05, -2.02501571e-04, -6.72784372e-05,\n",
      "       -2.39882647e-05,  2.11735824e-07,  5.73357738e-06,  1.73067019e-06,\n",
      "        6.45431719e-05, -1.20094574e-05, -6.89363224e-05, -2.14625397e-05,\n",
      "       -2.29432862e-05,  1.01400343e-04,  1.17650852e-05,  5.14094754e-05,\n",
      "       -1.18069416e-04,  3.03654019e-06,  9.23851621e-06,  2.00837276e-05,\n",
      "        2.60859251e-05,  1.43483940e-05,  4.17358278e-05, -3.07397531e-05,\n",
      "        1.78929313e-05,  1.09375269e-05,  3.73390285e-05, -3.11753174e-05,\n",
      "        4.93715524e-05,  6.51285663e-05, -4.57354326e-06, -1.62905053e-05,\n",
      "       -1.89632483e-05,  2.24289979e-05, -4.82577525e-06, -7.10628665e-05,\n",
      "        8.81114393e-05, -2.21093378e-05, -5.26965232e-06, -2.03914224e-05,\n",
      "       -1.73673106e-05, -5.36660809e-05, -9.26928988e-05, -8.87380302e-05,\n",
      "        2.19561734e-05, -4.51023952e-05,  4.39825926e-05, -2.95529826e-05,\n",
      "        3.49804304e-06,  2.92199229e-06, -2.16512053e-05, -8.72497003e-06,\n",
      "       -1.50350752e-06, -1.32524146e-04, -1.96996098e-05,  1.24192388e-06,\n",
      "        9.57062875e-05, -1.01187652e-05,  1.42945255e-05,  3.72077284e-06,\n",
      "        3.68292676e-05,  3.50666378e-05, -4.16211842e-05, -1.30661829e-06,\n",
      "       -4.22973098e-05, -5.03172523e-05, -3.49152288e-05, -8.85995632e-06,\n",
      "        1.67817961e-06,  4.24875907e-07,  4.94521773e-05,  8.91645468e-05,\n",
      "        1.07148321e-06,  7.74094769e-06,  8.01681454e-05, -2.84535090e-05,\n",
      "       -2.32597195e-05,  1.60620148e-05, -5.64029415e-06,  3.22683536e-06,\n",
      "        4.63760225e-05,  2.98663599e-05, -8.96938946e-06,  9.33025240e-06,\n",
      "       -4.17208539e-05,  8.71556040e-06, -6.23480082e-06,  4.95558088e-05,\n",
      "        9.66760945e-06, -1.09441622e-04,  6.00022904e-05, -1.26246432e-05,\n",
      "        1.00644960e-04, -2.07432531e-05,  1.05742540e-04,  4.82607675e-06,\n",
      "        8.11981135e-06,  1.47286901e-05,  6.88766886e-05,  4.37109920e-05,\n",
      "        2.20733182e-06, -7.12154870e-05, -1.23583650e-05,  1.94126042e-05,\n",
      "       -8.26387186e-05,  1.74743018e-05, -2.46690499e-04,  1.40484917e-06,\n",
      "        7.27940096e-06,  6.38992424e-06, -2.91453725e-05, -4.60958800e-05,\n",
      "       -2.83130248e-06, -5.07287041e-05,  3.11592084e-05,  2.00142840e-05,\n",
      "       -2.70807868e-05, -3.40674087e-05,  4.61107338e-05,  1.81593568e-05,\n",
      "       -4.32018205e-05, -1.16334777e-04,  3.38435057e-05, -3.93311493e-05,\n",
      "       -2.72930811e-06,  3.04600835e-05,  1.62019296e-06,  1.85116842e-05,\n",
      "       -4.39432806e-05,  2.73906016e-06, -2.28738383e-04, -6.75288902e-05,\n",
      "       -3.98739721e-05, -6.68551911e-06,  9.54483494e-06, -6.60345904e-06,\n",
      "        3.05774566e-02,  1.28453337e-02,  7.18466006e-04, -8.01259000e-03,\n",
      "       -5.45737371e-02,  2.21536476e-02,  6.51372038e-03,  4.54811230e-02,\n",
      "       -7.42456913e-02,  6.42867060e-03, -3.17935981e-02,  2.40454543e-02,\n",
      "       -1.87724903e-02,  1.12251043e-02, -7.61121558e-03,  2.51841322e-02,\n",
      "       -2.96834856e-02, -1.39751984e-02,  4.59051179e-03,  2.95842700e-02,\n",
      "        1.32611562e-02, -2.80450489e-02,  2.18836665e-02, -9.81764961e-03,\n",
      "       -1.59029365e-02, -1.03937536e-02,  2.91130599e-03,  1.84942391e-02,\n",
      "       -6.69074506e-02,  3.72850709e-02, -2.37174146e-03,  3.01423986e-02,\n",
      "        1.34012690e-02, -5.22292405e-02,  4.34661061e-02, -1.02842124e-02,\n",
      "        4.10582498e-02,  2.21309848e-02,  2.98930854e-02, -2.01900732e-02,\n",
      "       -4.70944960e-03,  5.89318424e-02, -4.43632435e-03,  5.20831943e-02,\n",
      "       -3.39079127e-02, -4.27078418e-02, -2.37521678e-02, -4.68551442e-02,\n",
      "        3.45374458e-02, -2.03561108e-03,  6.83815777e-03,  2.37689936e-03,\n",
      "        2.64534149e-02, -1.07703544e-03, -3.99296684e-03, -1.30772986e-03,\n",
      "        1.58392731e-02,  3.11821308e-02,  8.57667178e-02, -2.51087658e-02,\n",
      "        1.13408994e-02,  1.01663247e-02,  1.03258407e-02, -6.60441518e-02,\n",
      "       -1.29562076e-02, -3.35546304e-03,  1.24115795e-02, -3.28935608e-02,\n",
      "        2.15581991e-02, -2.76064873e-03, -1.33475121e-02,  2.59317383e-02,\n",
      "        2.78130770e-02,  9.03192814e-03, -1.26605807e-02, -3.65109071e-02,\n",
      "        1.31012434e-02,  3.54610644e-02, -8.77563935e-03, -6.55303430e-03,\n",
      "        2.16679703e-02, -2.59466320e-02,  7.44904391e-05, -1.18432473e-03,\n",
      "       -3.88964862e-02, -1.54288188e-02,  1.65736973e-02,  4.96508786e-03,\n",
      "        1.97730549e-02, -4.05090451e-02, -3.67145799e-03,  1.01423785e-02,\n",
      "       -9.53813083e-03, -2.95295343e-02,  3.05913221e-02,  1.23254145e-02,\n",
      "       -7.32658803e-02,  3.44906398e-03, -3.86589020e-02,  1.60799846e-02,\n",
      "        5.09577990e-03,  1.09988144e-02, -4.59504053e-02, -1.09534543e-02,\n",
      "       -1.17393769e-02, -1.33713763e-02,  2.03161165e-02, -7.17559690e-03,\n",
      "        9.51164309e-03,  1.49244629e-02,  1.43081434e-02,  1.06401015e-02,\n",
      "       -4.14532144e-03,  4.63184863e-02, -1.86239406e-02, -3.98681685e-02,\n",
      "        5.23408279e-02, -1.84660479e-02,  2.58347727e-02, -1.56200696e-02,\n",
      "        3.59675996e-02, -1.75746474e-02,  3.90136354e-02,  1.51347937e-02,\n",
      "        1.77116524e-02, -4.80729863e-02,  7.26600364e-03,  2.98239924e-02,\n",
      "        4.12023364e-05, -1.83547400e-06, -3.95054230e-05, -7.00279998e-07,\n",
      "       -2.41652015e-05,  8.76238992e-05,  1.06067200e-05,  6.38789352e-05,\n",
      "       -9.72879934e-05, -1.39782242e-05,  1.34054681e-05,  1.36310882e-05,\n",
      "        7.36345373e-06,  4.60578121e-06,  2.62710455e-05, -2.81477533e-05,\n",
      "        2.09198588e-05,  1.32655596e-05,  3.46581110e-05, -3.56654746e-05,\n",
      "        1.91119216e-05,  6.08956179e-05, -5.90474519e-06, -2.66625357e-05,\n",
      "       -1.69397426e-05,  1.00700372e-05, -5.04624950e-06, -4.46705089e-05,\n",
      "        5.17352964e-05,  4.85716737e-06,  1.77828042e-07, -1.77443708e-05,\n",
      "       -2.46241889e-05, -4.25913931e-05, -6.73063187e-05, -4.65712765e-05,\n",
      "       -3.92536185e-06, -2.31219237e-05,  2.56913900e-05, -1.73032131e-05,\n",
      "        9.78793832e-06,  1.48619256e-06, -2.27759137e-05,  2.80975655e-07,\n",
      "       -8.63400419e-06, -9.52986738e-05, -2.01734147e-05,  6.39879090e-07,\n",
      "        8.20863643e-05, -2.76438823e-06,  5.18609795e-06,  7.74471482e-06,\n",
      "        1.50817687e-05,  3.88477856e-05, -2.48062624e-05,  1.53518158e-06,\n",
      "       -4.08864507e-05, -2.08629081e-05, -9.07230606e-06, -1.00282832e-05,\n",
      "       -1.15451530e-06,  5.85183079e-06,  6.21270283e-06,  5.30980724e-05,\n",
      "       -7.61008687e-06, -7.69339204e-06,  4.46359991e-05, -8.23445043e-06,\n",
      "       -5.79688185e-06,  8.74727721e-06, -1.59623196e-05,  1.19277938e-05,\n",
      "        2.12754621e-05,  3.09892275e-05,  3.84395935e-06,  2.99063322e-06,\n",
      "       -4.83126278e-05, -1.03483653e-05,  4.17129922e-06,  2.50289486e-05,\n",
      "        1.96062501e-05, -9.38377270e-05,  3.43903230e-05, -2.93442354e-05,\n",
      "        8.12122889e-05, -1.91966719e-05,  8.30235076e-05, -7.15307488e-06,\n",
      "       -1.11087793e-05,  9.92602872e-06,  4.94202468e-05,  2.57972861e-05,\n",
      "       -1.02250015e-05, -2.07253415e-05, -9.99239273e-06,  1.80188381e-05,\n",
      "       -6.15590907e-05, -4.22410903e-06, -1.70682775e-04, -1.24228791e-07,\n",
      "        2.56515341e-05,  2.69899592e-05, -2.15751716e-05, -5.00406750e-05,\n",
      "       -2.51203437e-06, -3.51291746e-05,  3.14539575e-05,  1.19129982e-05,\n",
      "       -1.31025927e-05, -3.64431035e-05,  4.63309771e-05,  3.23361201e-05,\n",
      "       -4.44208636e-05, -9.74885261e-05,  3.70786656e-05, -1.46954699e-05,\n",
      "       -5.32741069e-07, -6.31253715e-06, -9.42520001e-06,  1.52570647e-06,\n",
      "       -3.00336851e-05,  2.19149224e-05, -2.20465474e-04, -6.43541134e-05,\n",
      "       -2.92449877e-05, -9.08267793e-07,  5.41888585e-06,  1.55598809e-06],\n",
      "      dtype=float32)>, <tf.Tensor: shape=(128, 10000), dtype=float32, numpy=\n",
      "array([[-2.3534871e-05, -1.1711032e-03, -2.1388095e-03, ...,\n",
      "         2.7601193e-06,  2.7636352e-06,  2.7565429e-06],\n",
      "       [-5.9444993e-04,  3.0823244e-04, -9.6004212e-04, ...,\n",
      "         1.4864611e-08,  1.4803703e-08,  1.5441344e-08],\n",
      "       [ 2.2301530e-03,  6.0959277e-04,  1.1652121e-03, ...,\n",
      "        -2.5782410e-06, -2.5776815e-06, -2.5814675e-06],\n",
      "       ...,\n",
      "       [ 2.8665486e-04, -5.9858907e-04, -1.5551428e-04, ...,\n",
      "         9.1076868e-07,  9.1180664e-07,  9.0934276e-07],\n",
      "       [ 1.5697626e-03,  1.8473872e-03,  1.6680746e-03, ...,\n",
      "        -3.3303013e-06, -3.3278068e-06, -3.3295901e-06],\n",
      "       [-1.1087339e-03, -1.3186375e-03, -1.0821950e-03, ...,\n",
      "         2.2981558e-06,  2.2959966e-06,  2.2973934e-06]], dtype=float32)>, <tf.Tensor: shape=(10000,), dtype=float32, numpy=\n",
      "array([-0.7979983 , -1.0313313 , -1.0313312 , ...,  0.00200055,\n",
      "        0.00199993,  0.00200019], dtype=float32)>]\n"
     ]
    }
   ],
   "source": [
    "print(grad_t_list)"
   ]
  },
  {
   "cell_type": "markdown",
   "metadata": {},
   "source": [
    "\n",
    "\n",
    "\n",
    "now, we have a list of tensors, t-list. We can use it to find clipped tensors. <b>clip_by_global_norm</b> clips values of multiple tensors by the ratio of the sum of their norms.\n",
    "\n",
    "<b>clip_by_global_norm</b> get <i>t-list</i> as input and returns 2 things:\n",
    "<ul>\n",
    "    <li>a list of clipped tensors, so called <i>list_clipped</i></li> \n",
    "    <li>the global norm (global_norm) of all tensors in t_list</li> \n",
    "</ul>\n"
   ]
  },
  {
   "cell_type": "code",
   "execution_count": 49,
   "metadata": {},
   "outputs": [
    {
     "data": {
      "text/plain": [
       "[<tensorflow.python.framework.indexed_slices.IndexedSlices at 0x7f4da0bcff90>,\n",
       " <tf.Tensor: shape=(200, 1024), dtype=float32, numpy=\n",
       " array([[-5.9131116e-07,  6.6526047e-07, -4.1306620e-07, ...,\n",
       "         -3.0270863e-07,  7.1151803e-08, -3.9755665e-07],\n",
       "        [ 1.6627270e-06, -3.8430730e-07,  8.8160675e-08, ...,\n",
       "          1.2260735e-08, -2.5987882e-07, -2.8882869e-07],\n",
       "        [-2.7377320e-07,  3.9336575e-07,  4.4140160e-07, ...,\n",
       "         -3.7083061e-07, -7.7709217e-09,  8.2233527e-08],\n",
       "        ...,\n",
       "        [-7.4431449e-07,  7.4123261e-07,  4.1598375e-07, ...,\n",
       "          3.9506304e-07,  2.1186096e-07,  1.0290361e-08],\n",
       "        [ 1.4265869e-06,  1.0234710e-06,  2.6287466e-07, ...,\n",
       "         -2.8217622e-07,  4.9601290e-08, -4.2744682e-07],\n",
       "        [-8.1052542e-07,  6.4560720e-07, -2.1475459e-07, ...,\n",
       "          3.4096098e-07, -2.5682209e-07, -1.0943162e-07]], dtype=float32)>,\n",
       " <tf.Tensor: shape=(256, 1024), dtype=float32, numpy=\n",
       " array([[ 7.25536822e-08, -1.16207957e-07, -1.04666654e-07, ...,\n",
       "         -1.36126587e-07,  3.92578556e-08,  7.39736947e-08],\n",
       "        [ 9.65916627e-08,  8.85934881e-08, -1.06007519e-07, ...,\n",
       "         -1.09161302e-08, -9.29834520e-09, -8.40413605e-08],\n",
       "        [-1.21824542e-07,  7.35343448e-08,  1.12130664e-07, ...,\n",
       "          4.59681431e-08,  2.32831194e-08,  1.79704813e-07],\n",
       "        ...,\n",
       "        [-1.54482095e-07, -1.04599415e-07, -9.73665593e-08, ...,\n",
       "          9.64256373e-08,  1.56607669e-08,  1.76684324e-07],\n",
       "        [ 5.29992619e-08, -1.62663667e-07, -4.87465783e-08, ...,\n",
       "         -7.61289840e-08, -1.69905348e-07, -4.61182648e-10],\n",
       "        [ 1.50523334e-07, -1.23935450e-07,  5.96592145e-08, ...,\n",
       "          1.80198896e-08,  5.71245913e-08,  6.73979557e-08]], dtype=float32)>,\n",
       " <tf.Tensor: shape=(1024,), dtype=float32, numpy=\n",
       " array([-2.2486638e-05,  7.4320474e-06, -8.8970701e-06, ...,\n",
       "        -9.5359956e-06, -9.4117486e-06, -5.3345011e-06], dtype=float32)>,\n",
       " <tf.Tensor: shape=(256, 512), dtype=float32, numpy=\n",
       " array([[ 7.63175478e-09, -4.89892749e-08,  9.46650829e-08, ...,\n",
       "         -1.22682621e-07,  4.53167743e-08,  1.65983323e-07],\n",
       "        [ 6.88723034e-08,  4.15852952e-09, -1.15376491e-08, ...,\n",
       "          1.36652517e-07,  1.17801989e-07, -2.38509926e-07],\n",
       "        [-1.41276033e-07,  4.32322480e-08, -2.62543438e-07, ...,\n",
       "          1.73751459e-07,  1.74557471e-08,  2.99094836e-07],\n",
       "        ...,\n",
       "        [ 1.29490275e-07,  3.13435677e-09, -3.53365067e-07, ...,\n",
       "         -2.53479413e-07, -3.44299167e-09, -4.00138447e-08],\n",
       "        [ 2.24146788e-07,  3.09004342e-08,  2.00535140e-07, ...,\n",
       "          2.71128442e-07,  1.27316753e-07,  1.03303336e-07],\n",
       "        [ 1.59914094e-07, -5.46458523e-08,  1.63956173e-08, ...,\n",
       "         -3.44999620e-07,  9.15821161e-08,  4.59214675e-08]], dtype=float32)>,\n",
       " <tf.Tensor: shape=(128, 512), dtype=float32, numpy=\n",
       " array([[ 4.3092132e-07, -1.2970753e-07,  3.7244881e-08, ...,\n",
       "         -1.7967368e-07,  1.4736159e-07,  7.2769780e-08],\n",
       "        [-2.0518959e-07,  7.2307017e-08, -1.0633981e-08, ...,\n",
       "          1.6173149e-07,  4.3094850e-08, -1.2336916e-07],\n",
       "        [ 1.8293849e-07, -1.9677600e-08,  3.1597352e-07, ...,\n",
       "         -1.2986405e-07,  1.6097044e-08,  1.4552543e-07],\n",
       "        ...,\n",
       "        [ 1.1773883e-07, -3.6354205e-08,  2.5412056e-08, ...,\n",
       "         -3.7200576e-07, -4.0872514e-08,  8.6630756e-08],\n",
       "        [-5.5179079e-08, -1.3390487e-08, -2.7103020e-08, ...,\n",
       "         -6.9430392e-08,  2.9518898e-08, -1.0925714e-08],\n",
       "        [ 1.0339817e-07,  5.2110281e-08, -2.6384367e-08, ...,\n",
       "         -4.7802356e-08,  6.7376632e-08,  1.9366044e-07]], dtype=float32)>,\n",
       " <tf.Tensor: shape=(512,), dtype=float32, numpy=\n",
       " array([ 1.98486850e-05, -5.77884157e-06, -4.68403814e-05, -5.87259819e-07,\n",
       "        -2.66526149e-05,  7.82147908e-05,  1.54303998e-05,  5.44056311e-05,\n",
       "        -7.99489280e-05, -1.27216290e-05, -9.97370080e-08,  1.12814778e-05,\n",
       "         6.77670232e-06, -9.78217122e-06,  2.36460110e-05, -2.75679449e-05,\n",
       "         7.61820866e-06,  1.68250244e-05,  1.45258127e-05, -3.04955502e-05,\n",
       "         1.33295980e-05,  4.97837318e-05, -7.10853783e-06, -2.49690638e-05,\n",
       "        -1.43682337e-05,  6.48888090e-06, -1.34870334e-07, -4.69977167e-05,\n",
       "         4.69275146e-05,  1.24950975e-05, -1.17807567e-05, -1.73634489e-05,\n",
       "        -2.38903631e-05, -3.56588935e-05, -5.12572078e-05, -4.58710929e-05,\n",
       "        -4.94523738e-06, -2.49934837e-05,  2.82330348e-05, -1.61743410e-05,\n",
       "         6.99501197e-06,  4.14247006e-06, -2.20522561e-05, -2.36712503e-06,\n",
       "        -5.72455610e-06, -8.68714560e-05, -1.06458738e-05, -2.77370964e-06,\n",
       "         6.75631018e-05, -2.00007707e-06, -1.06796051e-07,  3.80853635e-06,\n",
       "         1.67302460e-05,  2.99332569e-05, -2.33873525e-05,  5.60477383e-06,\n",
       "        -2.76411938e-05, -2.81134744e-05, -1.76653375e-05, -1.51397253e-05,\n",
       "         3.90225523e-06,  1.01488931e-05,  8.32157275e-06,  4.81019088e-05,\n",
       "        -7.06999617e-06, -8.12484905e-06,  4.87148427e-05, -7.36352740e-06,\n",
       "        -3.43419288e-06,  1.25828665e-05, -1.58389812e-05,  6.06775848e-06,\n",
       "         1.60420859e-05,  1.99897549e-05,  6.76443415e-06,  3.38989912e-06,\n",
       "        -4.55978588e-05, -1.23103127e-05,  5.49465540e-06,  2.87186740e-05,\n",
       "         1.23026093e-05, -9.12469404e-05,  3.37320307e-05, -2.20907186e-05,\n",
       "         7.04506165e-05, -1.34888014e-05,  6.83713588e-05, -6.18145805e-07,\n",
       "        -8.24622839e-06,  1.15808552e-05,  4.32241941e-05,  2.05632477e-05,\n",
       "        -1.21807388e-05, -2.15147174e-05,  8.28947122e-07,  1.43383604e-05,\n",
       "        -3.86507891e-05, -5.99631085e-06, -1.46949169e-04, -9.48702109e-07,\n",
       "         2.43189352e-05,  1.74912111e-05, -3.91784924e-05, -3.16371770e-05,\n",
       "        -6.71509679e-06, -3.12004449e-05,  3.21044608e-05,  1.47395176e-05,\n",
       "        -1.31181760e-05, -3.17363447e-05,  5.01941104e-05,  2.39271503e-05,\n",
       "        -3.27795678e-05, -8.66232513e-05,  3.72223294e-05, -2.04658209e-05,\n",
       "         1.10040855e-06,  4.33257446e-06, -4.60166939e-06,  3.36497487e-06,\n",
       "        -3.21858643e-05,  1.69855157e-05, -2.02501571e-04, -6.72784372e-05,\n",
       "        -2.39882647e-05,  2.11735824e-07,  5.73357738e-06,  1.73067019e-06,\n",
       "         6.45431719e-05, -1.20094574e-05, -6.89363224e-05, -2.14625397e-05,\n",
       "        -2.29432862e-05,  1.01400343e-04,  1.17650852e-05,  5.14094754e-05,\n",
       "        -1.18069416e-04,  3.03654019e-06,  9.23851621e-06,  2.00837276e-05,\n",
       "         2.60859251e-05,  1.43483940e-05,  4.17358278e-05, -3.07397531e-05,\n",
       "         1.78929313e-05,  1.09375269e-05,  3.73390285e-05, -3.11753174e-05,\n",
       "         4.93715524e-05,  6.51285663e-05, -4.57354326e-06, -1.62905053e-05,\n",
       "        -1.89632483e-05,  2.24289979e-05, -4.82577525e-06, -7.10628665e-05,\n",
       "         8.81114393e-05, -2.21093378e-05, -5.26965232e-06, -2.03914224e-05,\n",
       "        -1.73673106e-05, -5.36660809e-05, -9.26928988e-05, -8.87380302e-05,\n",
       "         2.19561734e-05, -4.51023952e-05,  4.39825926e-05, -2.95529826e-05,\n",
       "         3.49804304e-06,  2.92199229e-06, -2.16512053e-05, -8.72497003e-06,\n",
       "        -1.50350752e-06, -1.32524146e-04, -1.96996098e-05,  1.24192388e-06,\n",
       "         9.57062875e-05, -1.01187652e-05,  1.42945255e-05,  3.72077284e-06,\n",
       "         3.68292676e-05,  3.50666378e-05, -4.16211842e-05, -1.30661829e-06,\n",
       "        -4.22973098e-05, -5.03172523e-05, -3.49152288e-05, -8.85995632e-06,\n",
       "         1.67817961e-06,  4.24875907e-07,  4.94521773e-05,  8.91645468e-05,\n",
       "         1.07148321e-06,  7.74094769e-06,  8.01681454e-05, -2.84535090e-05,\n",
       "        -2.32597195e-05,  1.60620148e-05, -5.64029415e-06,  3.22683536e-06,\n",
       "         4.63760225e-05,  2.98663599e-05, -8.96938946e-06,  9.33025240e-06,\n",
       "        -4.17208539e-05,  8.71556040e-06, -6.23480082e-06,  4.95558088e-05,\n",
       "         9.66760945e-06, -1.09441622e-04,  6.00022904e-05, -1.26246432e-05,\n",
       "         1.00644960e-04, -2.07432531e-05,  1.05742540e-04,  4.82607675e-06,\n",
       "         8.11981135e-06,  1.47286901e-05,  6.88766886e-05,  4.37109920e-05,\n",
       "         2.20733182e-06, -7.12154870e-05, -1.23583650e-05,  1.94126042e-05,\n",
       "        -8.26387186e-05,  1.74743018e-05, -2.46690499e-04,  1.40484917e-06,\n",
       "         7.27940096e-06,  6.38992424e-06, -2.91453725e-05, -4.60958800e-05,\n",
       "        -2.83130248e-06, -5.07287041e-05,  3.11592084e-05,  2.00142840e-05,\n",
       "        -2.70807868e-05, -3.40674087e-05,  4.61107338e-05,  1.81593568e-05,\n",
       "        -4.32018205e-05, -1.16334777e-04,  3.38435057e-05, -3.93311493e-05,\n",
       "        -2.72930811e-06,  3.04600835e-05,  1.62019296e-06,  1.85116842e-05,\n",
       "        -4.39432806e-05,  2.73906016e-06, -2.28738383e-04, -6.75288902e-05,\n",
       "        -3.98739721e-05, -6.68551911e-06,  9.54483494e-06, -6.60345904e-06,\n",
       "         3.05774566e-02,  1.28453337e-02,  7.18466006e-04, -8.01259000e-03,\n",
       "        -5.45737371e-02,  2.21536476e-02,  6.51372038e-03,  4.54811230e-02,\n",
       "        -7.42456913e-02,  6.42867060e-03, -3.17935981e-02,  2.40454543e-02,\n",
       "        -1.87724903e-02,  1.12251043e-02, -7.61121558e-03,  2.51841322e-02,\n",
       "        -2.96834856e-02, -1.39751984e-02,  4.59051179e-03,  2.95842700e-02,\n",
       "         1.32611562e-02, -2.80450489e-02,  2.18836665e-02, -9.81764961e-03,\n",
       "        -1.59029365e-02, -1.03937536e-02,  2.91130599e-03,  1.84942391e-02,\n",
       "        -6.69074506e-02,  3.72850709e-02, -2.37174146e-03,  3.01423986e-02,\n",
       "         1.34012690e-02, -5.22292405e-02,  4.34661061e-02, -1.02842124e-02,\n",
       "         4.10582498e-02,  2.21309848e-02,  2.98930854e-02, -2.01900732e-02,\n",
       "        -4.70944960e-03,  5.89318424e-02, -4.43632435e-03,  5.20831943e-02,\n",
       "        -3.39079127e-02, -4.27078418e-02, -2.37521678e-02, -4.68551442e-02,\n",
       "         3.45374458e-02, -2.03561108e-03,  6.83815777e-03,  2.37689936e-03,\n",
       "         2.64534149e-02, -1.07703544e-03, -3.99296684e-03, -1.30772986e-03,\n",
       "         1.58392731e-02,  3.11821308e-02,  8.57667178e-02, -2.51087658e-02,\n",
       "         1.13408994e-02,  1.01663247e-02,  1.03258407e-02, -6.60441518e-02,\n",
       "        -1.29562076e-02, -3.35546304e-03,  1.24115795e-02, -3.28935608e-02,\n",
       "         2.15581991e-02, -2.76064873e-03, -1.33475121e-02,  2.59317383e-02,\n",
       "         2.78130770e-02,  9.03192814e-03, -1.26605807e-02, -3.65109071e-02,\n",
       "         1.31012434e-02,  3.54610644e-02, -8.77563935e-03, -6.55303430e-03,\n",
       "         2.16679703e-02, -2.59466320e-02,  7.44904391e-05, -1.18432473e-03,\n",
       "        -3.88964862e-02, -1.54288188e-02,  1.65736973e-02,  4.96508786e-03,\n",
       "         1.97730549e-02, -4.05090451e-02, -3.67145799e-03,  1.01423785e-02,\n",
       "        -9.53813083e-03, -2.95295343e-02,  3.05913221e-02,  1.23254145e-02,\n",
       "        -7.32658803e-02,  3.44906398e-03, -3.86589020e-02,  1.60799846e-02,\n",
       "         5.09577990e-03,  1.09988144e-02, -4.59504053e-02, -1.09534543e-02,\n",
       "        -1.17393769e-02, -1.33713763e-02,  2.03161165e-02, -7.17559690e-03,\n",
       "         9.51164309e-03,  1.49244629e-02,  1.43081434e-02,  1.06401015e-02,\n",
       "        -4.14532144e-03,  4.63184863e-02, -1.86239406e-02, -3.98681685e-02,\n",
       "         5.23408279e-02, -1.84660479e-02,  2.58347727e-02, -1.56200696e-02,\n",
       "         3.59675996e-02, -1.75746474e-02,  3.90136354e-02,  1.51347937e-02,\n",
       "         1.77116524e-02, -4.80729863e-02,  7.26600364e-03,  2.98239924e-02,\n",
       "         4.12023364e-05, -1.83547400e-06, -3.95054230e-05, -7.00279998e-07,\n",
       "        -2.41652015e-05,  8.76238992e-05,  1.06067200e-05,  6.38789352e-05,\n",
       "        -9.72879934e-05, -1.39782242e-05,  1.34054681e-05,  1.36310882e-05,\n",
       "         7.36345373e-06,  4.60578121e-06,  2.62710455e-05, -2.81477533e-05,\n",
       "         2.09198588e-05,  1.32655596e-05,  3.46581110e-05, -3.56654746e-05,\n",
       "         1.91119216e-05,  6.08956179e-05, -5.90474519e-06, -2.66625357e-05,\n",
       "        -1.69397426e-05,  1.00700372e-05, -5.04624950e-06, -4.46705089e-05,\n",
       "         5.17352964e-05,  4.85716737e-06,  1.77828042e-07, -1.77443708e-05,\n",
       "        -2.46241889e-05, -4.25913931e-05, -6.73063187e-05, -4.65712765e-05,\n",
       "        -3.92536185e-06, -2.31219237e-05,  2.56913900e-05, -1.73032131e-05,\n",
       "         9.78793832e-06,  1.48619256e-06, -2.27759137e-05,  2.80975655e-07,\n",
       "        -8.63400419e-06, -9.52986738e-05, -2.01734147e-05,  6.39879090e-07,\n",
       "         8.20863643e-05, -2.76438823e-06,  5.18609795e-06,  7.74471482e-06,\n",
       "         1.50817687e-05,  3.88477856e-05, -2.48062624e-05,  1.53518158e-06,\n",
       "        -4.08864507e-05, -2.08629081e-05, -9.07230606e-06, -1.00282832e-05,\n",
       "        -1.15451530e-06,  5.85183079e-06,  6.21270283e-06,  5.30980724e-05,\n",
       "        -7.61008687e-06, -7.69339204e-06,  4.46359991e-05, -8.23445043e-06,\n",
       "        -5.79688185e-06,  8.74727721e-06, -1.59623196e-05,  1.19277938e-05,\n",
       "         2.12754621e-05,  3.09892275e-05,  3.84395935e-06,  2.99063322e-06,\n",
       "        -4.83126278e-05, -1.03483653e-05,  4.17129922e-06,  2.50289486e-05,\n",
       "         1.96062501e-05, -9.38377270e-05,  3.43903230e-05, -2.93442354e-05,\n",
       "         8.12122889e-05, -1.91966719e-05,  8.30235076e-05, -7.15307488e-06,\n",
       "        -1.11087793e-05,  9.92602872e-06,  4.94202468e-05,  2.57972861e-05,\n",
       "        -1.02250015e-05, -2.07253415e-05, -9.99239273e-06,  1.80188381e-05,\n",
       "        -6.15590907e-05, -4.22410903e-06, -1.70682775e-04, -1.24228791e-07,\n",
       "         2.56515341e-05,  2.69899592e-05, -2.15751716e-05, -5.00406750e-05,\n",
       "        -2.51203437e-06, -3.51291746e-05,  3.14539575e-05,  1.19129982e-05,\n",
       "        -1.31025927e-05, -3.64431035e-05,  4.63309771e-05,  3.23361201e-05,\n",
       "        -4.44208636e-05, -9.74885261e-05,  3.70786656e-05, -1.46954699e-05,\n",
       "        -5.32741069e-07, -6.31253715e-06, -9.42520001e-06,  1.52570647e-06,\n",
       "        -3.00336851e-05,  2.19149224e-05, -2.20465474e-04, -6.43541134e-05,\n",
       "        -2.92449877e-05, -9.08267793e-07,  5.41888585e-06,  1.55598809e-06],\n",
       "       dtype=float32)>,\n",
       " <tf.Tensor: shape=(128, 10000), dtype=float32, numpy=\n",
       " array([[-2.3534871e-05, -1.1711032e-03, -2.1388095e-03, ...,\n",
       "          2.7601193e-06,  2.7636352e-06,  2.7565429e-06],\n",
       "        [-5.9444993e-04,  3.0823244e-04, -9.6004212e-04, ...,\n",
       "          1.4864611e-08,  1.4803703e-08,  1.5441344e-08],\n",
       "        [ 2.2301530e-03,  6.0959277e-04,  1.1652121e-03, ...,\n",
       "         -2.5782410e-06, -2.5776815e-06, -2.5814675e-06],\n",
       "        ...,\n",
       "        [ 2.8665486e-04, -5.9858907e-04, -1.5551428e-04, ...,\n",
       "          9.1076868e-07,  9.1180664e-07,  9.0934276e-07],\n",
       "        [ 1.5697626e-03,  1.8473872e-03,  1.6680746e-03, ...,\n",
       "         -3.3303013e-06, -3.3278068e-06, -3.3295901e-06],\n",
       "        [-1.1087339e-03, -1.3186375e-03, -1.0821950e-03, ...,\n",
       "          2.2981558e-06,  2.2959966e-06,  2.2973934e-06]], dtype=float32)>,\n",
       " <tf.Tensor: shape=(10000,), dtype=float32, numpy=\n",
       " array([-0.7979983 , -1.0313313 , -1.0313312 , ...,  0.00200055,\n",
       "         0.00199993,  0.00200019], dtype=float32)>]"
      ]
     },
     "execution_count": 49,
     "metadata": {},
     "output_type": "execute_result"
    }
   ],
   "source": [
    "# Define the gradient clipping threshold\n",
    "grads, _ = tf.clip_by_global_norm(grad_t_list, max_grad_norm)\n",
    "grads"
   ]
  },
  {
   "cell_type": "markdown",
   "metadata": {},
   "source": [
    "<h4> 4.Apply the optimizer to the variables/gradients tuple. </h4>\n"
   ]
  },
  {
   "cell_type": "code",
   "execution_count": 50,
   "metadata": {},
   "outputs": [],
   "source": [
    "# Create the training TensorFlow Operation through our optimizer\n",
    "train_op = optimizer.apply_gradients(zip(grads, tvars))"
   ]
  },
  {
   "cell_type": "markdown",
   "metadata": {},
   "source": [
    "<a id=\"ltsm\"></a>\n",
    "<h2>LSTM</h2>\n"
   ]
  },
  {
   "cell_type": "markdown",
   "metadata": {},
   "source": [
    "We learned how the model is build step by step. Noe, let's then create a Class that represents our model. This class needs a few things:\n",
    "<ul>\n",
    "    <li>We have to create the model in accordance with our defined hyperparameters</li>\n",
    "    <li>We have to create the LSTM cell structure and connect them with our RNN structure</li>\n",
    "    <li>We have to create the word embeddings and point them to the input data</li>\n",
    "    <li>We have to create the input structure for our RNN</li>\n",
    "    <li>We need to create a logistic structure to return the probability of our words</li>\n",
    "    <li>We need to create the loss and cost functions for our optimizer to work, and then create the optimizer</li>\n",
    "    <li>And finally, we need to create a training operation that can be run to actually train our model</li>\n",
    "</ul>\n"
   ]
  },
  {
   "cell_type": "code",
   "execution_count": 51,
   "metadata": {},
   "outputs": [],
   "source": [
    "class PTBModel(object):\n",
    "\n",
    "\n",
    "    def __init__(self):\n",
    "        ######################################\n",
    "        # Setting parameters for ease of use #\n",
    "        ######################################\n",
    "        self.batch_size = batch_size\n",
    "        self.num_steps = num_steps\n",
    "        self.hidden_size_l1 = hidden_size_l1\n",
    "        self.hidden_size_l2 = hidden_size_l2\n",
    "        self.vocab_size = vocab_size\n",
    "        self.embeding_vector_size = embeding_vector_size\n",
    "        # Create a variable for the learning rate\n",
    "        self._lr = 1.0\n",
    "        \n",
    "        ###############################################################################\n",
    "        # Initializing the model using keras Sequential API  #\n",
    "        ###############################################################################\n",
    "        \n",
    "        self._model = tf.keras.models.Sequential()\n",
    "        \n",
    "        ####################################################################\n",
    "        # Creating the word embeddings layer and adding it to the sequence #\n",
    "        ####################################################################\n",
    "        with tf.device(\"/cpu:0\"):\n",
    "            # Create the embeddings for our input data. Size is hidden size.\n",
    "            self._embedding_layer = tf.keras.layers.Embedding(self.vocab_size, self.embeding_vector_size,batch_input_shape=(self.batch_size, self.num_steps),trainable=True,name=\"embedding_vocab\")  #[10000x200]\n",
    "            self._model.add(self._embedding_layer)\n",
    "            \n",
    "\n",
    "        ##########################################################################\n",
    "        # Creating the LSTM cell structure and connect it with the RNN structure #\n",
    "        ##########################################################################\n",
    "        # Create the LSTM Cells. \n",
    "        # This creates only the structure for the LSTM and has to be associated with a RNN unit still.\n",
    "        # The argument  of LSTMCell is size of hidden layer, that is, the number of hidden units of the LSTM (inside A). \n",
    "        # LSTM cell processes one word at a time and computes probabilities of the possible continuations of the sentence.\n",
    "        lstm_cell_l1 = tf.keras.layers.LSTMCell(hidden_size_l1)\n",
    "        lstm_cell_l2 = tf.keras.layers.LSTMCell(hidden_size_l2)\n",
    "        \n",
    "\n",
    "        \n",
    "        # By taking in the LSTM cells as parameters, the StackedRNNCells function junctions the LSTM units to the RNN units.\n",
    "        # RNN cell composed sequentially of stacked simple cells.\n",
    "        stacked_lstm = tf.keras.layers.StackedRNNCells([lstm_cell_l1, lstm_cell_l2])\n",
    "\n",
    "\n",
    "        \n",
    "\n",
    "        ############################################\n",
    "        # Creating the input structure for our RNN #\n",
    "        ############################################\n",
    "        # Input structure is 20x[30x200]\n",
    "        # Considering each word is represended by a 200 dimentional vector, and we have 30 batchs, we create 30 word-vectors of size [30xx2000]\n",
    "        # The input structure is fed from the embeddings, which are filled in by the input data\n",
    "        # Feeding a batch of b sentences to a RNN:\n",
    "        # In step 1,  first word of each of the b sentences (in a batch) is input in parallel.  \n",
    "        # In step 2,  second word of each of the b sentences is input in parallel. \n",
    "        # The parallelism is only for efficiency.  \n",
    "        # Each sentence in a batch is handled in parallel, but the network sees one word of a sentence at a time and does the computations accordingly. \n",
    "        # All the computations involving the words of all sentences in a batch at a given time step are done in parallel. \n",
    "\n",
    "        ########################################################################################################\n",
    "        # Instantiating our RNN model and setting stateful to True to feed forward the state to the next layer #\n",
    "        ########################################################################################################\n",
    "        \n",
    "        self._RNNlayer  =  tf.keras.layers.RNN(stacked_lstm,[batch_size, num_steps],return_state=False,stateful=True,trainable=True)\n",
    "        \n",
    "        # Define the initial state, i.e., the model state for the very first data point\n",
    "        # It initialize the state of the LSTM memory. The memory state of the network is initialized with a vector of zeros and gets updated after reading each word.\n",
    "        self._initial_state = tf.Variable(tf.zeros([batch_size,embeding_vector_size]),trainable=False)\n",
    "        self._RNNlayer.inital_state = self._initial_state\n",
    "    \n",
    "        ############################################\n",
    "        # Adding RNN layer to keras sequential API #\n",
    "        ############################################        \n",
    "        self._model.add(self._RNNlayer)\n",
    "        \n",
    "        #self._model.add(tf.keras.layers.LSTM(hidden_size_l1,return_sequences=True,stateful=True))\n",
    "        #self._model.add(tf.keras.layers.LSTM(hidden_size_l2,return_sequences=True))\n",
    "        \n",
    "        \n",
    "        ####################################################################################################\n",
    "        # Instantiating a Dense layer that connects the output to the vocab_size  and adding layer to model#\n",
    "        ####################################################################################################\n",
    "        self._dense = tf.keras.layers.Dense(self.vocab_size)\n",
    "        self._model.add(self._dense)\n",
    " \n",
    "        \n",
    "        ####################################################################################################\n",
    "        # Adding softmax activation layer and deriving probability to each class and adding layer to model #\n",
    "        ####################################################################################################\n",
    "        self._activation = tf.keras.layers.Activation('softmax')\n",
    "        self._model.add(self._activation)\n",
    "\n",
    "        ##########################################################\n",
    "        # Instantiating the stochastic gradient decent optimizer #\n",
    "        ########################################################## \n",
    "        self._optimizer = tf.keras.optimizers.SGD(lr=self._lr, clipnorm=max_grad_norm)\n",
    "        \n",
    "        \n",
    "        ##############################################################################\n",
    "        # Compiling and summarizing the model stacked using the keras sequential API #\n",
    "        ##############################################################################\n",
    "        self._model.compile(loss=self.crossentropy, optimizer=self._optimizer)\n",
    "        self._model.summary()\n",
    "\n",
    "\n",
    "    def crossentropy(self,y_true, y_pred):\n",
    "        return tf.keras.losses.sparse_categorical_crossentropy(y_true, y_pred)\n",
    "\n",
    "    def train_batch(self,_input_data,_targets):\n",
    "        #################################################\n",
    "        # Creating the Training Operation for our Model #\n",
    "        #################################################\n",
    "        # Create a variable for the learning rate\n",
    "        self._lr = tf.Variable(0.0, trainable=False)\n",
    "        # Get all TensorFlow variables marked as \"trainable\" (i.e. all of them except _lr, which we just created)\n",
    "        tvars = self._model.trainable_variables\n",
    "        # Define the gradient clipping threshold\n",
    "        with tf.GradientTape() as tape:\n",
    "            # Forward pass.\n",
    "            output_words_prob = self._model(_input_data)\n",
    "            # Loss value for this batch.\n",
    "            loss  = self.crossentropy(_targets, output_words_prob)\n",
    "            # average across batch and reduce sum\n",
    "            cost = tf.reduce_sum(loss/ self.batch_size)\n",
    "        # Get gradients of loss wrt the trainable variables.\n",
    "        grad_t_list = tape.gradient(cost, tvars)\n",
    "        # Define the gradient clipping threshold\n",
    "        grads, _ = tf.clip_by_global_norm(grad_t_list, max_grad_norm)\n",
    "        # Create the training TensorFlow Operation through our optimizer\n",
    "        train_op = self._optimizer.apply_gradients(zip(grads, tvars))\n",
    "        return cost\n",
    "        \n",
    "    def test_batch(self,_input_data,_targets):\n",
    "        #################################################\n",
    "        # Creating the Testing Operation for our Model #\n",
    "        #################################################\n",
    "        output_words_prob = self._model(_input_data)\n",
    "        loss  = self.crossentropy(_targets, output_words_prob)\n",
    "        # average across batch and reduce sum\n",
    "        cost = tf.reduce_sum(loss/ self.batch_size)\n",
    "\n",
    "        return cost\n",
    "    @classmethod\n",
    "    def instance(cls) : \n",
    "        return PTBModel()"
   ]
  },
  {
   "cell_type": "markdown",
   "metadata": {},
   "source": [
    "With that, the actual structure of our Recurrent Neural Network with Long Short-Term Memory is finished. What remains for us to do is to actually create the methods to run through time -- that is, the <code>run_epoch</code> method to be run at each epoch and a <code>main</code> script which ties all of this together.\n",
    "\n",
    "What our <code>run_epoch</code> method should do is take our input data and feed it to the relevant operations. This will return at the very least the current result for the cost function.\n"
   ]
  },
  {
   "cell_type": "code",
   "execution_count": 52,
   "metadata": {},
   "outputs": [],
   "source": [
    "\n",
    "########################################################################################################################\n",
    "# run_one_epoch takes as parameters  the model instance, the data to be fed, training or testing mode and verbose info #\n",
    "########################################################################################################################\n",
    "def run_one_epoch(m, data,is_training=True,verbose=False):\n",
    "\n",
    "    #Define the epoch size based on the length of the data, batch size and the number of steps\n",
    "    epoch_size = ((len(data) // m.batch_size) - 1) // m.num_steps\n",
    "    start_time = time.time()\n",
    "    costs = 0.\n",
    "    iters = 0\n",
    "    \n",
    "    m._model.reset_states()\n",
    "    \n",
    "    #For each step and data point\n",
    "    for step, (x, y) in enumerate(ptb_iterator(data, m.batch_size, m.num_steps)):\n",
    "        \n",
    "        #Evaluate and return cost, state by running cost, final_state and the function passed as parameter\n",
    "        #y = tf.keras.utils.to_categorical(y, num_classes=vocab_size)\n",
    "        if is_training : \n",
    "            loss=  m.train_batch(x, y)\n",
    "        else :\n",
    "            loss = m.test_batch(x, y)\n",
    "                                   \n",
    "\n",
    "        #Add returned cost to costs (which keeps track of the total costs for this epoch)\n",
    "        costs += loss\n",
    "        \n",
    "        #Add number of steps to iteration counter\n",
    "        iters += m.num_steps\n",
    "\n",
    "        if verbose and step % (epoch_size // 10) == 10:\n",
    "            print(\"Itr %d of %d, perplexity: %.3f speed: %.0f wps\" % (step , epoch_size, np.exp(costs / iters), iters * m.batch_size / (time.time() - start_time)))\n",
    "        \n",
    "\n",
    "\n",
    "    # Returns the Perplexity rating for us to keep track of how the model is evolving\n",
    "    return np.exp(costs / iters)\n"
   ]
  },
  {
   "cell_type": "markdown",
   "metadata": {},
   "source": [
    "Now, we create the <code>main</code> method to tie everything together. The code here reads the data from the directory, using the <code>reader</code> helper module, and then trains and evaluates the model on both a testing and a validating subset of data.\n"
   ]
  },
  {
   "cell_type": "code",
   "execution_count": 53,
   "metadata": {},
   "outputs": [],
   "source": [
    "# Reads the data and separates it into training data, validation data and testing data\n",
    "raw_data = ptb_raw_data(data_dir)\n",
    "train_data, valid_data, test_data, _, _ = raw_data"
   ]
  },
  {
   "cell_type": "code",
   "execution_count": null,
   "metadata": {},
   "outputs": [
    {
     "name": "stdout",
     "output_type": "stream",
     "text": [
      "Model: \"sequential_1\"\n",
      "_________________________________________________________________\n",
      " Layer (type)                Output Shape              Param #   \n",
      "=================================================================\n",
      " embedding_vocab (Embedding)  (30, 20, 200)            2000000   \n",
      "                                                                 \n",
      " rnn_1 (RNN)                 (30, 20, 128)             671088    \n",
      "                                                                 \n",
      " dense_1 (Dense)             (30, 20, 10000)           1290000   \n",
      "                                                                 \n",
      " activation_1 (Activation)   (30, 20, 10000)           0         \n",
      "                                                                 \n",
      "=================================================================\n",
      "Total params: 3,961,088\n",
      "Trainable params: 3,955,088\n",
      "Non-trainable params: 6,000\n",
      "_________________________________________________________________\n",
      "Epoch 1 : Learning rate: 1.000\n",
      "Itr 10 of 1549, perplexity: 4432.622 speed: 1158 wps\n",
      "Itr 164 of 1549, perplexity: 1089.774 speed: 1228 wps\n",
      "Itr 318 of 1549, perplexity: 849.218 speed: 1234 wps\n",
      "Itr 472 of 1549, perplexity: 700.707 speed: 1252 wps\n",
      "Itr 626 of 1549, perplexity: 595.959 speed: 1248 wps\n",
      "Itr 780 of 1549, perplexity: 528.448 speed: 1250 wps\n",
      "Itr 934 of 1549, perplexity: 476.848 speed: 1254 wps\n",
      "Itr 1088 of 1549, perplexity: 438.169 speed: 1255 wps\n",
      "Itr 1242 of 1549, perplexity: 408.232 speed: 1253 wps\n",
      "Itr 1396 of 1549, perplexity: 380.466 speed: 1251 wps\n",
      "Epoch 1 : Train Perplexity: 358.639\n",
      "Epoch 1 : Valid Perplexity: 211.684\n",
      "Epoch 2 : Learning rate: 1.000\n",
      "Itr 10 of 1549, perplexity: 238.351 speed: 1254 wps\n",
      "Itr 164 of 1549, perplexity: 211.371 speed: 1246 wps\n",
      "Itr 318 of 1549, perplexity: 202.547 speed: 1256 wps\n",
      "Itr 472 of 1549, perplexity: 193.942 speed: 1240 wps\n",
      "Itr 626 of 1549, perplexity: 185.032 speed: 1168 wps\n",
      "Itr 780 of 1549, perplexity: 181.122 speed: 1177 wps\n",
      "Itr 934 of 1549, perplexity: 177.061 speed: 1180 wps\n",
      "Itr 1088 of 1549, perplexity: 173.543 speed: 1096 wps\n",
      "Itr 1242 of 1549, perplexity: 171.138 speed: 1036 wps\n",
      "Itr 1396 of 1549, perplexity: 166.950 speed: 994 wps\n",
      "Epoch 2 : Train Perplexity: 164.080\n",
      "Epoch 2 : Valid Perplexity: 161.416\n",
      "Epoch 3 : Learning rate: 1.000\n",
      "Itr 10 of 1549, perplexity: 162.708 speed: 742 wps\n",
      "Itr 164 of 1549, perplexity: 147.106 speed: 758 wps\n",
      "Itr 318 of 1549, perplexity: 143.124 speed: 896 wps\n",
      "Itr 472 of 1549, perplexity: 138.410 speed: 978 wps\n",
      "Itr 626 of 1549, perplexity: 133.287 speed: 1023 wps\n",
      "Itr 780 of 1549, perplexity: 132.057 speed: 1051 wps\n",
      "Itr 934 of 1549, perplexity: 130.350 speed: 1073 wps\n"
     ]
    }
   ],
   "source": [
    "# Instantiates the PTBModel class\n",
    "m=PTBModel.instance()   \n",
    "K = tf.keras.backend \n",
    "for i in range(max_epoch):\n",
    "    # Define the decay for this epoch\n",
    "    lr_decay = decay ** max(i - max_epoch_decay_lr, 0.0)\n",
    "    dcr = learning_rate * lr_decay\n",
    "    m._lr = dcr\n",
    "    K.set_value(m._model.optimizer.learning_rate,m._lr)\n",
    "    print(\"Epoch %d : Learning rate: %.3f\" % (i + 1, m._model.optimizer.learning_rate))\n",
    "    # Run the loop for this epoch in the training mode\n",
    "    train_perplexity = run_one_epoch(m, train_data,is_training=True,verbose=True)\n",
    "    print(\"Epoch %d : Train Perplexity: %.3f\" % (i + 1, train_perplexity))\n",
    "        \n",
    "    # Run the loop for this epoch in the validation mode\n",
    "    valid_perplexity = run_one_epoch(m, valid_data,is_training=False,verbose=False)\n",
    "    print(\"Epoch %d : Valid Perplexity: %.3f\" % (i + 1, valid_perplexity))\n",
    "    \n",
    "# Run the loop in the testing mode to see how effective was our training\n",
    "test_perplexity = run_one_epoch(m, test_data,is_training=False,verbose=False)\n",
    "print(\"Test Perplexity: %.3f\" % test_perplexity)\n",
    "\n"
   ]
  },
  {
   "cell_type": "markdown",
   "metadata": {},
   "source": [
    "As you can see, the model's perplexity rating drops very quickly after a few iterations. As was elaborated before, <b>lower Perplexity means that the model is more certain about its prediction</b>. As such, we can be sure that this model is performing well!\n"
   ]
  },
  {
   "cell_type": "markdown",
   "metadata": {},
   "source": [
    "-------\n"
   ]
  },
  {
   "cell_type": "markdown",
   "metadata": {},
   "source": [
    "This is the end of the <b>Applying Recurrent Neural Networks to Text Processing</b> notebook. Hopefully you now have a better understanding of Recurrent Neural Networks and how to implement one utilizing TensorFlow. Thank you for reading this notebook, and good luck on your studies.\n"
   ]
  },
  {
   "cell_type": "markdown",
   "metadata": {},
   "source": [
    "## Want to learn more?\n",
    "\n",
    "Also, you can use __Watson Studio__ to run these notebooks faster with bigger datasets.__Watson Studio__ is IBM’s leading cloud solution for data scientists, built by data scientists. With Jupyter notebooks, RStudio, Apache Spark and popular libraries pre-packaged in the cloud, __Watson Studio__ enables data scientists to collaborate on their projects without having to install anything. Join the fast-growing community of __Watson Studio__ users today with a free account at [Watson Studio](https://cocl.us/ML0120EN_DSX).This is the end of this lesson. Thank you for reading this notebook, and good luck on your studies.\n"
   ]
  },
  {
   "cell_type": "markdown",
   "metadata": {},
   "source": [
    "### Thanks for completing this lesson!\n",
    "\n",
    "Notebook created by <a href=\"https://br.linkedin.com/in/walter-gomes-de-amorim-junior-624726121?utm_medium=Exinfluencer&utm_source=Exinfluencer&utm_content=000026UJ&utm_term=10006555&utm_id=NA-SkillsNetwork-Channel-SkillsNetworkCoursesIBMDeveloperSkillsNetworkDL0120ENSkillsNetwork954-2023-01-01\">Walter Gomes de Amorim Junior</a>, <a href = \"https://linkedin.com/in/saeedaghabozorgi\"> Saeed Aghabozorgi </a></h4>\n",
    "\n",
    "\n",
    "Updated to TF 2.X by  <a href=\"https://www.linkedin.com/in/samaya-madhavan?utm_medium=Exinfluencer&utm_source=Exinfluencer&utm_content=000026UJ&utm_term=10006555&utm_id=NA-SkillsNetwork-Channel-SkillsNetworkCoursesIBMDeveloperSkillsNetworkDL0120ENSkillsNetwork954-2023-01-01\"> Samaya Madhavan </a>\n"
   ]
  },
  {
   "cell_type": "markdown",
   "metadata": {},
   "source": [
    "<hr>\n",
    "\n",
    "Copyright &copy; 2018 [Cognitive Class](https://cocl.us/DX0108EN_CC). This notebook and its source code are released under the terms of the [MIT License](https://bigdatauniversity.com/mit-license/?utm_medium=Exinfluencer&utm_source=Exinfluencer&utm_content=000026UJ&utm_term=10006555&utm_id=NA-SkillsNetwork-Channel-SkillsNetworkCoursesIBMDeveloperSkillsNetworkDL0120ENSkillsNetwork954-2023-01-01).\n"
   ]
  }
 ],
 "metadata": {
  "kernelspec": {
   "display_name": "Python",
   "language": "python",
   "name": "conda-env-python-py"
  },
  "language_info": {
   "codemirror_mode": {
    "name": "ipython",
    "version": 3
   },
   "file_extension": ".py",
   "mimetype": "text/x-python",
   "name": "python",
   "nbconvert_exporter": "python",
   "pygments_lexer": "ipython3",
   "version": "3.7.12"
  }
 },
 "nbformat": 4,
 "nbformat_minor": 4
}
